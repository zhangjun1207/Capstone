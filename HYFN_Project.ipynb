{
 "cells": [
  {
   "cell_type": "markdown",
   "metadata": {},
   "source": [
    "# HYFN Capstone Project \n",
    "## --- Prediction of engagements in advertisement campaign"
   ]
  },
  {
   "cell_type": "markdown",
   "metadata": {},
   "source": [
    "### Part 1: Data preparation\n",
    "\n",
    "In this project, I am using the PostgreSQL interface in Python to access the database on cluster. Since I am focusing on the modeling of campaign level, the table I am interested are :  \n",
    "1. facebook_daily_campaign_stats  \n",
    "2. fb_ads_campaign_groups\n",
    "3. fb_ads_accounts\n",
    "\n",
    "Table 1 and 2 are first joined by column \"campaign_id\", the combined table are then joined with table 3 by column \"account_id\". "
   ]
  },
  {
   "cell_type": "code",
   "execution_count": 1,
   "metadata": {
    "collapsed": true
   },
   "outputs": [],
   "source": [
    "#!/usr/bin/python\n",
    "#-*- coding: utf-8 -*-\n",
    "import psycopg2\n",
    "import sys\n",
    "\n",
    "import pandas as pd\n",
    "import numpy as np\n",
    "\n",
    "import matplotlib\n",
    "import seaborn as sns\n",
    "import matplotlib.pyplot as plt\n",
    "%matplotlib inline\n",
    "\n",
    "from datetime import datetime, timedelta\n",
    "import matplotlib.dates as mdates"
   ]
  },
  {
   "cell_type": "code",
   "execution_count": 2,
   "metadata": {
    "collapsed": false
   },
   "outputs": [],
   "source": [
    "con = None\n",
    "\n",
    "try:\n",
    "     \n",
    "    con = psycopg2.connect(host='hyfn8-cluster-test.cbftndreyyap.us-east-1.redshift.amazonaws.com',\n",
    "                           port = 5439, database='dev', user='johnnyzhang', password='HYFN-Capstone-2017-$') \n",
    "    cur = con.cursor()\n",
    "    \n",
    "    query_cmd = '''\\\n",
    "    SELECT stats.*, campaigns.objective, accounts.name, accounts.account_id FROM facebook_daily_campaign_stats stats\\\n",
    "    LEFT JOIN fb_ads_campaign_groups campaigns\\\n",
    "    ON stats.campaign_id = campaigns.service_id\\\n",
    "    LEFT JOIN fb_ads_accounts accounts\\\n",
    "    ON campaigns.account_id = accounts.id;\\\n",
    "    '''\n",
    "    fb_campaign_df = pd.read_sql_query(query_cmd, con = con, parse_dates = ['date_start', 'date_stop'])\n",
    "    \n",
    "\n",
    "except psycopg2.DatabaseError, e:\n",
    "    print 'Error %s' % e    \n",
    "    sys.exit(1)\n",
    "    \n",
    "\n",
    "finally:\n",
    "    if con:\n",
    "        con.close()"
   ]
  },
  {
   "cell_type": "markdown",
   "metadata": {},
   "source": [
    "** Table summaries**  \n",
    "The table \"fb_daily_campaign_stats\" has 46829 rows in total. However, only 20786 ones have valid \"account_id\" and associated \"objective\" after joining.   \n",
    "We will also only look at the campaign records with objective \"LINK_CLICKS\", since our aim is to model the relationship between \"spend\" and \"website click\". Ad campaign with other objectives may have significantly non-proportional relation between these two variables. The final data point is 6865.  \n",
    "\n",
    "Example of final data table is named \"fb_link_df\" and sample rows are also given below."
   ]
  },
  {
   "cell_type": "code",
   "execution_count": 3,
   "metadata": {
    "collapsed": false
   },
   "outputs": [],
   "source": [
    "select_cols = ['account_id','campaign_id','date_start','spend','inline_link_clicks','objective','name']\n",
    "fb_df = fb_campaign_df[select_cols]\n",
    "fb_link_df = fb_df[fb_df.objective == 'LINK_CLICKS']"
   ]
  },
  {
   "cell_type": "code",
   "execution_count": 4,
   "metadata": {
    "collapsed": false
   },
   "outputs": [
    {
     "name": "stderr",
     "output_type": "stream",
     "text": [
      "/Applications/anaconda/lib/python2.7/site-packages/pandas/core/indexing.py:465: SettingWithCopyWarning: \n",
      "A value is trying to be set on a copy of a slice from a DataFrame.\n",
      "Try using .loc[row_indexer,col_indexer] = value instead\n",
      "\n",
      "See the caveats in the documentation: http://pandas.pydata.org/pandas-docs/stable/indexing.html#indexing-view-versus-copy\n",
      "  self.obj[item] = s\n"
     ]
    }
   ],
   "source": [
    "# Convert account_id to string\n",
    "temp = ['{:.0f}'.format(x) for x in fb_link_df.account_id]\n",
    "fb_link_df.loc[fb_link_df.index,'account_id'] = temp"
   ]
  },
  {
   "cell_type": "code",
   "execution_count": 5,
   "metadata": {
    "collapsed": false
   },
   "outputs": [],
   "source": [
    "fb_link_df = fb_link_df[fb_link_df.spend > 0]\n",
    "fb_link_df = fb_link_df[fb_link_df.inline_link_clicks > 0]"
   ]
  },
  {
   "cell_type": "markdown",
   "metadata": {},
   "source": [
    "** Sample table content:**"
   ]
  },
  {
   "cell_type": "code",
   "execution_count": 6,
   "metadata": {
    "collapsed": false
   },
   "outputs": [
    {
     "data": {
      "text/html": [
       "<div>\n",
       "<table border=\"1\" class=\"dataframe\">\n",
       "  <thead>\n",
       "    <tr style=\"text-align: right;\">\n",
       "      <th></th>\n",
       "      <th>account_id</th>\n",
       "      <th>campaign_id</th>\n",
       "      <th>date_start</th>\n",
       "      <th>spend</th>\n",
       "      <th>inline_link_clicks</th>\n",
       "      <th>objective</th>\n",
       "      <th>name</th>\n",
       "    </tr>\n",
       "  </thead>\n",
       "  <tbody>\n",
       "    <tr>\n",
       "      <th>0</th>\n",
       "      <td>1012201575494245</td>\n",
       "      <td>6047406179103</td>\n",
       "      <td>2016-05-21</td>\n",
       "      <td>10740.44</td>\n",
       "      <td>2078.0</td>\n",
       "      <td>LINK_CLICKS</td>\n",
       "      <td>Target</td>\n",
       "    </tr>\n",
       "    <tr>\n",
       "      <th>13</th>\n",
       "      <td>868189209895483</td>\n",
       "      <td>6054162669769</td>\n",
       "      <td>2016-09-20</td>\n",
       "      <td>11.71</td>\n",
       "      <td>19.0</td>\n",
       "      <td>LINK_CLICKS</td>\n",
       "      <td>Visit California</td>\n",
       "    </tr>\n",
       "    <tr>\n",
       "      <th>14</th>\n",
       "      <td>868189209895483</td>\n",
       "      <td>6053469024769</td>\n",
       "      <td>2016-09-20</td>\n",
       "      <td>78.59</td>\n",
       "      <td>249.0</td>\n",
       "      <td>LINK_CLICKS</td>\n",
       "      <td>Visit California</td>\n",
       "    </tr>\n",
       "    <tr>\n",
       "      <th>58</th>\n",
       "      <td>345009516</td>\n",
       "      <td>6050553503720</td>\n",
       "      <td>2016-09-21</td>\n",
       "      <td>17.98</td>\n",
       "      <td>16.0</td>\n",
       "      <td>LINK_CLICKS</td>\n",
       "      <td>All Clients - LIN Digital</td>\n",
       "    </tr>\n",
       "    <tr>\n",
       "      <th>59</th>\n",
       "      <td>345009516</td>\n",
       "      <td>6049461694920</td>\n",
       "      <td>2016-09-21</td>\n",
       "      <td>16.00</td>\n",
       "      <td>20.0</td>\n",
       "      <td>LINK_CLICKS</td>\n",
       "      <td>All Clients - LIN Digital</td>\n",
       "    </tr>\n",
       "  </tbody>\n",
       "</table>\n",
       "</div>"
      ],
      "text/plain": [
       "          account_id    campaign_id date_start     spend  inline_link_clicks  \\\n",
       "0   1012201575494245  6047406179103 2016-05-21  10740.44              2078.0   \n",
       "13   868189209895483  6054162669769 2016-09-20     11.71                19.0   \n",
       "14   868189209895483  6053469024769 2016-09-20     78.59               249.0   \n",
       "58         345009516  6050553503720 2016-09-21     17.98                16.0   \n",
       "59         345009516  6049461694920 2016-09-21     16.00                20.0   \n",
       "\n",
       "      objective                       name  \n",
       "0   LINK_CLICKS                     Target  \n",
       "13  LINK_CLICKS           Visit California  \n",
       "14  LINK_CLICKS           Visit California  \n",
       "58  LINK_CLICKS  All Clients - LIN Digital  \n",
       "59  LINK_CLICKS  All Clients - LIN Digital  "
      ]
     },
     "execution_count": 6,
     "metadata": {},
     "output_type": "execute_result"
    }
   ],
   "source": [
    "fb_link_df.head()"
   ]
  },
  {
   "cell_type": "markdown",
   "metadata": {},
   "source": [
    "**Table summary:**"
   ]
  },
  {
   "cell_type": "code",
   "execution_count": 7,
   "metadata": {
    "collapsed": false
   },
   "outputs": [
    {
     "name": "stdout",
     "output_type": "stream",
     "text": [
      "Total number of account : 32\n",
      "Total number of campaign: 194\n",
      "The time frame is from 2016-04-18 00:00:00 to 2016-12-20 00:00:00\n"
     ]
    }
   ],
   "source": [
    "num_account = fb_link_df.account_id.value_counts().shape\n",
    "num_campaign = fb_link_df.campaign_id.value_counts().shape\n",
    "\n",
    "print 'Total number of account : %i\\nTotal number of campaign: %i' %(num_account[0], num_campaign[0])\n",
    "print 'The time frame is from %s to %s' %(min(fb_link_df.date_start),max(fb_link_df.date_start))"
   ]
  },
  {
   "cell_type": "markdown",
   "metadata": {},
   "source": [
    "### Part 2: Data modeling \n",
    "### 2.1 Ex post model"
   ]
  },
  {
   "cell_type": "markdown",
   "metadata": {},
   "source": [
    "1.Convert \"campaign_id\" into category data(dummy variables)"
   ]
  },
  {
   "cell_type": "code",
   "execution_count": 8,
   "metadata": {
    "collapsed": false
   },
   "outputs": [],
   "source": [
    "link_ml_df = pd.concat([fb_link_df, pd.get_dummies(fb_link_df.campaign_id,drop_first=True)], axis = 1)"
   ]
  },
  {
   "cell_type": "markdown",
   "metadata": {},
   "source": [
    "2.Transform \"spend\" and \"inline_link_clicks\" into logrithmic scale"
   ]
  },
  {
   "cell_type": "code",
   "execution_count": 9,
   "metadata": {
    "collapsed": true
   },
   "outputs": [],
   "source": [
    "link_ml_df.loc[link_ml_df.index,'log_spend'] = np.log(link_ml_df.spend)\n",
    "link_ml_df.loc[link_ml_df.index,'log_click'] = np.log(link_ml_df.inline_link_clicks)"
   ]
  },
  {
   "cell_type": "markdown",
   "metadata": {},
   "source": [
    "3.Drop the redundant columns"
   ]
  },
  {
   "cell_type": "code",
   "execution_count": 10,
   "metadata": {
    "collapsed": false
   },
   "outputs": [],
   "source": [
    "link_ml_df.drop(['account_id','campaign_id','date_start','objective','name','spend','inline_link_clicks'], axis = 1, inplace = True)"
   ]
  },
  {
   "cell_type": "markdown",
   "metadata": {},
   "source": [
    "Data Frame \"link_ml_df\" ready for machine learning"
   ]
  },
  {
   "cell_type": "code",
   "execution_count": 11,
   "metadata": {
    "collapsed": false
   },
   "outputs": [
    {
     "data": {
      "text/html": [
       "<div>\n",
       "<table border=\"1\" class=\"dataframe\">\n",
       "  <thead>\n",
       "    <tr style=\"text-align: right;\">\n",
       "      <th></th>\n",
       "      <th>23842505131670746</th>\n",
       "      <th>23842505131810746</th>\n",
       "      <th>23842505131840746</th>\n",
       "      <th>23842505782680162</th>\n",
       "      <th>23842506958430737</th>\n",
       "      <th>23842507000030737</th>\n",
       "      <th>23842507560460491</th>\n",
       "      <th>23842508340700491</th>\n",
       "      <th>23842509683750746</th>\n",
       "      <th>23842509683770746</th>\n",
       "      <th>...</th>\n",
       "      <th>6064002893844</th>\n",
       "      <th>6064003490044</th>\n",
       "      <th>6064004160044</th>\n",
       "      <th>6064663893217</th>\n",
       "      <th>6064969908417</th>\n",
       "      <th>6064970231017</th>\n",
       "      <th>6066725507025</th>\n",
       "      <th>6067165333617</th>\n",
       "      <th>log_spend</th>\n",
       "      <th>log_click</th>\n",
       "    </tr>\n",
       "  </thead>\n",
       "  <tbody>\n",
       "    <tr>\n",
       "      <th>0</th>\n",
       "      <td>0.0</td>\n",
       "      <td>0.0</td>\n",
       "      <td>0.0</td>\n",
       "      <td>0.0</td>\n",
       "      <td>0.0</td>\n",
       "      <td>0.0</td>\n",
       "      <td>0.0</td>\n",
       "      <td>0.0</td>\n",
       "      <td>0.0</td>\n",
       "      <td>0.0</td>\n",
       "      <td>...</td>\n",
       "      <td>0.0</td>\n",
       "      <td>0.0</td>\n",
       "      <td>0.0</td>\n",
       "      <td>0.0</td>\n",
       "      <td>0.0</td>\n",
       "      <td>0.0</td>\n",
       "      <td>0.0</td>\n",
       "      <td>0.0</td>\n",
       "      <td>9.281771</td>\n",
       "      <td>7.639161</td>\n",
       "    </tr>\n",
       "    <tr>\n",
       "      <th>13</th>\n",
       "      <td>0.0</td>\n",
       "      <td>0.0</td>\n",
       "      <td>0.0</td>\n",
       "      <td>0.0</td>\n",
       "      <td>0.0</td>\n",
       "      <td>0.0</td>\n",
       "      <td>0.0</td>\n",
       "      <td>0.0</td>\n",
       "      <td>0.0</td>\n",
       "      <td>0.0</td>\n",
       "      <td>...</td>\n",
       "      <td>0.0</td>\n",
       "      <td>0.0</td>\n",
       "      <td>0.0</td>\n",
       "      <td>0.0</td>\n",
       "      <td>0.0</td>\n",
       "      <td>0.0</td>\n",
       "      <td>0.0</td>\n",
       "      <td>0.0</td>\n",
       "      <td>2.460443</td>\n",
       "      <td>2.944439</td>\n",
       "    </tr>\n",
       "    <tr>\n",
       "      <th>14</th>\n",
       "      <td>0.0</td>\n",
       "      <td>0.0</td>\n",
       "      <td>0.0</td>\n",
       "      <td>0.0</td>\n",
       "      <td>0.0</td>\n",
       "      <td>0.0</td>\n",
       "      <td>0.0</td>\n",
       "      <td>0.0</td>\n",
       "      <td>0.0</td>\n",
       "      <td>0.0</td>\n",
       "      <td>...</td>\n",
       "      <td>0.0</td>\n",
       "      <td>0.0</td>\n",
       "      <td>0.0</td>\n",
       "      <td>0.0</td>\n",
       "      <td>0.0</td>\n",
       "      <td>0.0</td>\n",
       "      <td>0.0</td>\n",
       "      <td>0.0</td>\n",
       "      <td>4.364244</td>\n",
       "      <td>5.517453</td>\n",
       "    </tr>\n",
       "    <tr>\n",
       "      <th>58</th>\n",
       "      <td>0.0</td>\n",
       "      <td>0.0</td>\n",
       "      <td>0.0</td>\n",
       "      <td>0.0</td>\n",
       "      <td>0.0</td>\n",
       "      <td>0.0</td>\n",
       "      <td>0.0</td>\n",
       "      <td>0.0</td>\n",
       "      <td>0.0</td>\n",
       "      <td>0.0</td>\n",
       "      <td>...</td>\n",
       "      <td>0.0</td>\n",
       "      <td>0.0</td>\n",
       "      <td>0.0</td>\n",
       "      <td>0.0</td>\n",
       "      <td>0.0</td>\n",
       "      <td>0.0</td>\n",
       "      <td>0.0</td>\n",
       "      <td>0.0</td>\n",
       "      <td>2.889260</td>\n",
       "      <td>2.772589</td>\n",
       "    </tr>\n",
       "    <tr>\n",
       "      <th>59</th>\n",
       "      <td>0.0</td>\n",
       "      <td>0.0</td>\n",
       "      <td>0.0</td>\n",
       "      <td>0.0</td>\n",
       "      <td>0.0</td>\n",
       "      <td>0.0</td>\n",
       "      <td>0.0</td>\n",
       "      <td>0.0</td>\n",
       "      <td>0.0</td>\n",
       "      <td>0.0</td>\n",
       "      <td>...</td>\n",
       "      <td>0.0</td>\n",
       "      <td>0.0</td>\n",
       "      <td>0.0</td>\n",
       "      <td>0.0</td>\n",
       "      <td>0.0</td>\n",
       "      <td>0.0</td>\n",
       "      <td>0.0</td>\n",
       "      <td>0.0</td>\n",
       "      <td>2.772589</td>\n",
       "      <td>2.995732</td>\n",
       "    </tr>\n",
       "  </tbody>\n",
       "</table>\n",
       "<p>5 rows × 195 columns</p>\n",
       "</div>"
      ],
      "text/plain": [
       "    23842505131670746  23842505131810746  23842505131840746  \\\n",
       "0                 0.0                0.0                0.0   \n",
       "13                0.0                0.0                0.0   \n",
       "14                0.0                0.0                0.0   \n",
       "58                0.0                0.0                0.0   \n",
       "59                0.0                0.0                0.0   \n",
       "\n",
       "    23842505782680162  23842506958430737  23842507000030737  \\\n",
       "0                 0.0                0.0                0.0   \n",
       "13                0.0                0.0                0.0   \n",
       "14                0.0                0.0                0.0   \n",
       "58                0.0                0.0                0.0   \n",
       "59                0.0                0.0                0.0   \n",
       "\n",
       "    23842507560460491  23842508340700491  23842509683750746  \\\n",
       "0                 0.0                0.0                0.0   \n",
       "13                0.0                0.0                0.0   \n",
       "14                0.0                0.0                0.0   \n",
       "58                0.0                0.0                0.0   \n",
       "59                0.0                0.0                0.0   \n",
       "\n",
       "    23842509683770746    ...      6064002893844  6064003490044  6064004160044  \\\n",
       "0                 0.0    ...                0.0            0.0            0.0   \n",
       "13                0.0    ...                0.0            0.0            0.0   \n",
       "14                0.0    ...                0.0            0.0            0.0   \n",
       "58                0.0    ...                0.0            0.0            0.0   \n",
       "59                0.0    ...                0.0            0.0            0.0   \n",
       "\n",
       "    6064663893217  6064969908417  6064970231017  6066725507025  6067165333617  \\\n",
       "0             0.0            0.0            0.0            0.0            0.0   \n",
       "13            0.0            0.0            0.0            0.0            0.0   \n",
       "14            0.0            0.0            0.0            0.0            0.0   \n",
       "58            0.0            0.0            0.0            0.0            0.0   \n",
       "59            0.0            0.0            0.0            0.0            0.0   \n",
       "\n",
       "    log_spend  log_click  \n",
       "0    9.281771   7.639161  \n",
       "13   2.460443   2.944439  \n",
       "14   4.364244   5.517453  \n",
       "58   2.889260   2.772589  \n",
       "59   2.772589   2.995732  \n",
       "\n",
       "[5 rows x 195 columns]"
      ]
     },
     "execution_count": 11,
     "metadata": {},
     "output_type": "execute_result"
    }
   ],
   "source": [
    "link_ml_df.head()"
   ]
  },
  {
   "cell_type": "markdown",
   "metadata": {},
   "source": [
    "### Regression Model 1:\n",
    "\n",
    "\\begin{equation*}\n",
    "log(Clicks) = m* log(spend)+b_{campaign}+b_{int}\n",
    "\\end{equation*}"
   ]
  },
  {
   "cell_type": "markdown",
   "metadata": {},
   "source": [
    "In this project, I am going to use the ski-learn(ML package built in Python) for various regression problems."
   ]
  },
  {
   "cell_type": "code",
   "execution_count": 12,
   "metadata": {
    "collapsed": false
   },
   "outputs": [
    {
     "data": {
      "text/plain": [
       "LinearRegression(copy_X=True, fit_intercept=True, n_jobs=1, normalize=False)"
      ]
     },
     "execution_count": 12,
     "metadata": {},
     "output_type": "execute_result"
    }
   ],
   "source": [
    "from sklearn import linear_model\n",
    "from sklearn import cross_validation\n",
    "from sklearn import metrics\n",
    "\n",
    "linreg = linear_model.LinearRegression(fit_intercept=True)  # This is the default\n",
    "X = link_ml_df.copy()\n",
    "X.drop('log_click', axis = 1, inplace = True)\n",
    "y = link_ml_df.log_click\n",
    "linreg.fit(X, y)"
   ]
  },
  {
   "cell_type": "markdown",
   "metadata": {},
   "source": [
    "**Spend coefficients**:"
   ]
  },
  {
   "cell_type": "code",
   "execution_count": 13,
   "metadata": {
    "collapsed": false
   },
   "outputs": [
    {
     "name": "stdout",
     "output_type": "stream",
     "text": [
      "The spend coefficients between log(spend) and log(clicks) (m) is 0.91\n"
     ]
    }
   ],
   "source": [
    "print \"The spend coefficients between log(spend) and log(clicks) (m) is %.2f\" % linreg.coef_[-1]"
   ]
  },
  {
   "cell_type": "markdown",
   "metadata": {},
   "source": [
    "**In-sample prediction metric**:"
   ]
  },
  {
   "cell_type": "code",
   "execution_count": 14,
   "metadata": {
    "collapsed": false
   },
   "outputs": [
    {
     "name": "stdout",
     "output_type": "stream",
     "text": [
      "The in-sample prediction R^2 is 0.9468\n",
      "The mean squared error in model is 0.1534\n"
     ]
    }
   ],
   "source": [
    "print \"The in-sample prediction R^2 is %.4f\" % linreg.score(X,y)\n",
    "print \"The mean squared error in model is %.4f\" % metrics.mean_squared_error(y,linreg.predict(X))"
   ]
  },
  {
   "cell_type": "markdown",
   "metadata": {},
   "source": [
    "**Visualization**"
   ]
  },
  {
   "cell_type": "code",
   "execution_count": 15,
   "metadata": {
    "collapsed": false
   },
   "outputs": [],
   "source": [
    "x0 = X.loc[X.index[0]] \n",
    "X0 = pd.DataFrame({}, columns = X.columns)\n",
    "X0 = X0.append([x0]*50,ignore_index=True)\n",
    "X0['log_spend'] = pd.Series(np.linspace(0, 10, 50))"
   ]
  },
  {
   "cell_type": "code",
   "execution_count": 16,
   "metadata": {
    "collapsed": false
   },
   "outputs": [
    {
     "data": {
      "text/plain": [
       "<matplotlib.legend.Legend at 0x11a5f3790>"
      ]
     },
     "execution_count": 16,
     "metadata": {},
     "output_type": "execute_result"
    },
    {
     "data": {
      "image/png": "[encoded data removed]",
      "text/plain": [
       "<matplotlib.figure.Figure at 0x11a43cbd0>"
      ]
     },
     "metadata": {},
     "output_type": "display_data"
    }
   ],
   "source": [
    "plt.figure(figsize=(8,6))\n",
    "plt.plot(X.log_spend, y, '.')\n",
    "plt.plot(X0.log_spend, linreg.predict(X0), '-')\n",
    "plt.xlabel('log(spend)')\n",
    "plt.ylabel('log(clicks)')\n",
    "plt.axis([-2, 10, 0, 10])\n",
    "plt.legend(['Data for all campaigns','Prediction using one campaign id'],loc='best')"
   ]
  },
  {
   "cell_type": "markdown",
   "metadata": {},
   "source": [
    "**Coefficients of Regression model (variation in campaigns $b_{campaign}$)** "
   ]
  },
  {
   "cell_type": "code",
   "execution_count": 17,
   "metadata": {
    "collapsed": false
   },
   "outputs": [],
   "source": [
    "coeffs = linreg.coef_[:-1]"
   ]
  },
  {
   "cell_type": "code",
   "execution_count": 18,
   "metadata": {
    "collapsed": true
   },
   "outputs": [],
   "source": [
    "avg_clicks_campaign = fb_link_df[['campaign_id','inline_link_clicks']].groupby('campaign_id').mean()"
   ]
  },
  {
   "cell_type": "code",
   "execution_count": 19,
   "metadata": {
    "collapsed": false
   },
   "outputs": [
    {
     "data": {
      "text/plain": [
       "<matplotlib.text.Text at 0x11c541210>"
      ]
     },
     "execution_count": 19,
     "metadata": {},
     "output_type": "execute_result"
    },
    {
     "data": {
      "image/png": "[encoded data removed]",
      "text/plain": [
       "<matplotlib.figure.Figure at 0x11a7f3a50>"
      ]
     },
     "metadata": {},
     "output_type": "display_data"
    }
   ],
   "source": [
    "plt.figure(figsize=(8,6))\n",
    "plt.plot(coeffs,'o')\n",
    "plt.xlabel('Campaign ID')\n",
    "plt.ylabel('Interception $b_{CID}$')\n",
    "#plt.axis([0, 12, -2, 6])"
   ]
  },
  {
   "cell_type": "markdown",
   "metadata": {},
   "source": [
    "Now, we can compare the effectiveness of various campaign. From the plot, it seems most of the campaign are close and in a clustered way. However, there are some outliers as well. It may be interesting to look at those campaign individually and see what are the reasons for these differences."
   ]
  },
  {
   "cell_type": "markdown",
   "metadata": {},
   "source": [
    "Before building the ex ante model, we can also do a cross-validation on our current model to evaluate its ability."
   ]
  },
  {
   "cell_type": "markdown",
   "metadata": {},
   "source": [
    "### Cross-validation"
   ]
  },
  {
   "cell_type": "markdown",
   "metadata": {},
   "source": [
    "split the data set into training data (70%) and testing data (30%)."
   ]
  },
  {
   "cell_type": "code",
   "execution_count": 23,
   "metadata": {
    "collapsed": false
   },
   "outputs": [],
   "source": [
    "X_train, X_test, y_train, y_test = cross_validation.train_test_split(X, y, test_size=0.3, random_state=50)\n",
    "linreg.fit(X_train, y_train)\n",
    "y_pred = linreg.predict(X_test)\n",
    "mse_test = metrics.mean_squared_error(y_test, y_pred)"
   ]
  },
  {
   "cell_type": "code",
   "execution_count": 24,
   "metadata": {
    "collapsed": false
   },
   "outputs": [],
   "source": [
    "from math import e"
   ]
  },
  {
   "cell_type": "code",
   "execution_count": 25,
   "metadata": {
    "collapsed": false
   },
   "outputs": [
    {
     "name": "stdout",
     "output_type": "stream",
     "text": [
      "The mean squared error in test data set is 0.1678\n",
      "In prediction of link clicks, this error corresponds to a factor between 0.66 to 1.51\n"
     ]
    }
   ],
   "source": [
    "factor1 = e**(-np.sqrt(mse_test))\n",
    "factor2 = e**(np.sqrt(mse_test))\n",
    "print \"The mean squared error in test data set is %.4f\" %mse_test\n",
    "print \"In prediction of link clicks, this error corresponds to a factor between %.2f to %.2f\" %(factor1,factor2)"
   ]
  }
 ],
 "metadata": {
  "anaconda-cloud": {},
  "kernelspec": {
   "display_name": "Python [Root]",
   "language": "python",
   "name": "Python [Root]"
  },
  "language_info": {
   "codemirror_mode": {
    "name": "ipython",
    "version": 2
   },
   "file_extension": ".py",
   "mimetype": "text/x-python",
   "name": "python",
   "nbconvert_exporter": "python",
   "pygments_lexer": "ipython2",
   "version": "2.7.12"
  }
 },
 "nbformat": 4,
 "nbformat_minor": 0
}
