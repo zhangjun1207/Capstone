{
 "cells": [
  {
   "cell_type": "markdown",
   "metadata": {},
   "source": [
    "# HYFN Capstone Project \n",
    "## --- Prediction of website clicks in advertisement campaign"
   ]
  },
  {
   "cell_type": "markdown",
   "metadata": {},
   "source": [
    "### Part 1: Data preparation\n",
    "\n",
    "In this project, I am using the PostgreSQL interface in Python to access the database on cluster. Since I am focusing on the modeling of campaign level, the table I am interested are :  \n",
    "1. facebook_daily_campaign_stats  \n",
    "2. fb_ads_campaign_groups\n",
    "3. fb_ads_accounts\n",
    "\n",
    "Table 1 and 2 are first joined by column \"campaign_id\", the combined table are then joined with table 3 by column \"account_id\". "
   ]
  },
  {
   "cell_type": "code",
   "execution_count": 1,
   "metadata": {
    "collapsed": true
   },
   "outputs": [],
   "source": [
    "#!/usr/bin/python\n",
    "#-*- coding: utf-8 -*-\n",
    "import pandas as pd\n",
    "import numpy as np\n",
    "\n",
    "import matplotlib\n",
    "import seaborn as sns\n",
    "import matplotlib.pyplot as plt\n",
    "%matplotlib inline\n",
    "\n",
    "from datetime import datetime, timedelta, date\n",
    "import matplotlib.dates as mdates"
   ]
  },
  {
   "cell_type": "code",
   "execution_count": 2,
   "metadata": {
    "collapsed": false
   },
   "outputs": [],
   "source": [
    "fb_daily_campaign_stats_df = pd.read_csv('fb_daily_campaign_stats')\n",
    "fb_campaign_groups_df = pd.read_csv('fb_campaign_groups')\n",
    "fb_ads_accounts_df = pd.read_csv('fb_ads_accounts')"
   ]
  },
  {
   "cell_type": "code",
   "execution_count": 3,
   "metadata": {
    "collapsed": true
   },
   "outputs": [],
   "source": [
    "stats_group_merge = pd.merge(fb_daily_campaign_stats_df,fb_campaign_groups_df[['service_id','objective','account_id']], how = 'left', left_on = 'campaign_id', right_on = 'service_id')"
   ]
  },
  {
   "cell_type": "code",
   "execution_count": 4,
   "metadata": {
    "collapsed": false
   },
   "outputs": [],
   "source": [
    "all_merge = pd.merge(stats_group_merge, fb_ads_accounts_df[['id','name','account_id']], how = 'left', left_on = 'account_id', right_on = 'id')"
   ]
  },
  {
   "cell_type": "code",
   "execution_count": 5,
   "metadata": {
    "collapsed": false
   },
   "outputs": [],
   "source": [
    "fb_campaign_df = all_merge"
   ]
  },
  {
   "cell_type": "markdown",
   "metadata": {},
   "source": [
    "** Table summaries**  \n",
    "The table \"fb_daily_campaign_stats\" has 46829 rows in total. However, only 20786 ones have valid \"account_id\" and associated \"objective\" after joining.   \n",
    "We will also only look at the campaign records with objective \"LINK_CLICKS\", since our aim is to model the relationship between \"spend\" and \"website click\". Ad campaign with other objectives may have significantly non-proportional relation between these two variables. The final data point is 6865.  \n",
    "\n",
    "Example of final data table is named \"fb_link_df\" and sample rows are also given below."
   ]
  },
  {
   "cell_type": "code",
   "execution_count": 11,
   "metadata": {
    "collapsed": false
   },
   "outputs": [],
   "source": [
    "select_cols = ['account_id_y','name','campaign_id','date_start','spend','inline_link_clicks','objective']\n",
    "fb_df = fb_campaign_df[select_cols]\n",
    "fb_df.columns = ['account_id','name','campaign_id','date_start','spend','link_clicks','objective']\n",
    "fb_link_df = fb_df[fb_df.objective == 'LINK_CLICKS']"
   ]
  },
  {
   "cell_type": "code",
   "execution_count": 13,
   "metadata": {
    "collapsed": false
   },
   "outputs": [
    {
     "name": "stderr",
     "output_type": "stream",
     "text": [
      "/Applications/anaconda/lib/python2.7/site-packages/pandas/core/indexing.py:465: SettingWithCopyWarning: \n",
      "A value is trying to be set on a copy of a slice from a DataFrame.\n",
      "Try using .loc[row_indexer,col_indexer] = value instead\n",
      "\n",
      "See the caveats in the documentation: http://pandas.pydata.org/pandas-docs/stable/indexing.html#indexing-view-versus-copy\n",
      "  self.obj[item] = s\n"
     ]
    }
   ],
   "source": [
    "# Convert account_id & campaign_id to string\n",
    "temp = ['{:.0f}'.format(x) for x in fb_link_df.campaign_id]\n",
    "fb_link_df.loc[fb_link_df.index,'campaign_id'] = temp\n",
    "temp = ['{:.0f}'.format(x) for x in fb_link_df.account_id]\n",
    "fb_link_df.loc[fb_link_df.index,'account_id'] = temp"
   ]
  },
  {
   "cell_type": "code",
   "execution_count": 19,
   "metadata": {
    "collapsed": false
   },
   "outputs": [],
   "source": [
    "fb_link_df = fb_link_df[fb_link_df.spend > 1.0]\n",
    "fb_link_df = fb_link_df[fb_link_df.link_clicks > 1.0]"
   ]
  },
  {
   "cell_type": "code",
   "execution_count": 20,
   "metadata": {
    "collapsed": false
   },
   "outputs": [
    {
     "name": "stdout",
     "output_type": "stream",
     "text": [
      "<class 'pandas.core.frame.DataFrame'>\n",
      "Int64Index: 6571 entries, 0 to 46981\n",
      "Data columns (total 7 columns):\n",
      "account_id     6571 non-null object\n",
      "name           6571 non-null object\n",
      "campaign_id    6571 non-null object\n",
      "date_start     6571 non-null object\n",
      "spend          6571 non-null float64\n",
      "link_clicks    6571 non-null float64\n",
      "objective      6571 non-null object\n",
      "dtypes: float64(2), object(5)\n",
      "memory usage: 410.7+ KB\n"
     ]
    }
   ],
   "source": [
    "fb_link_df.info()"
   ]
  },
  {
   "cell_type": "markdown",
   "metadata": {},
   "source": [
    "** Sample table content:**"
   ]
  },
  {
   "cell_type": "code",
   "execution_count": 21,
   "metadata": {
    "collapsed": false
   },
   "outputs": [
    {
     "data": {
      "text/html": [
       "<div>\n",
       "<table border=\"1\" class=\"dataframe\">\n",
       "  <thead>\n",
       "    <tr style=\"text-align: right;\">\n",
       "      <th></th>\n",
       "      <th>account_id</th>\n",
       "      <th>name</th>\n",
       "      <th>campaign_id</th>\n",
       "      <th>date_start</th>\n",
       "      <th>spend</th>\n",
       "      <th>link_clicks</th>\n",
       "      <th>objective</th>\n",
       "    </tr>\n",
       "  </thead>\n",
       "  <tbody>\n",
       "    <tr>\n",
       "      <th>0</th>\n",
       "      <td>1012201575494245</td>\n",
       "      <td>Target</td>\n",
       "      <td>6047406179103</td>\n",
       "      <td>2016-05-18</td>\n",
       "      <td>60.55</td>\n",
       "      <td>15.0</td>\n",
       "      <td>LINK_CLICKS</td>\n",
       "    </tr>\n",
       "    <tr>\n",
       "      <th>50</th>\n",
       "      <td>345009516</td>\n",
       "      <td>All Clients - LIN Digital</td>\n",
       "      <td>6051253714720</td>\n",
       "      <td>2016-09-20</td>\n",
       "      <td>16.67</td>\n",
       "      <td>52.0</td>\n",
       "      <td>LINK_CLICKS</td>\n",
       "    </tr>\n",
       "    <tr>\n",
       "      <th>51</th>\n",
       "      <td>345009516</td>\n",
       "      <td>All Clients - LIN Digital</td>\n",
       "      <td>6049742187920</td>\n",
       "      <td>2016-09-20</td>\n",
       "      <td>50.32</td>\n",
       "      <td>22.0</td>\n",
       "      <td>LINK_CLICKS</td>\n",
       "    </tr>\n",
       "    <tr>\n",
       "      <th>53</th>\n",
       "      <td>345009516</td>\n",
       "      <td>All Clients - LIN Digital</td>\n",
       "      <td>6047731536920</td>\n",
       "      <td>2016-09-20</td>\n",
       "      <td>14.39</td>\n",
       "      <td>51.0</td>\n",
       "      <td>LINK_CLICKS</td>\n",
       "    </tr>\n",
       "    <tr>\n",
       "      <th>54</th>\n",
       "      <td>345009516</td>\n",
       "      <td>All Clients - LIN Digital</td>\n",
       "      <td>6046540842520</td>\n",
       "      <td>2016-09-20</td>\n",
       "      <td>11.93</td>\n",
       "      <td>9.0</td>\n",
       "      <td>LINK_CLICKS</td>\n",
       "    </tr>\n",
       "  </tbody>\n",
       "</table>\n",
       "</div>"
      ],
      "text/plain": [
       "          account_id                       name    campaign_id  date_start  \\\n",
       "0   1012201575494245                     Target  6047406179103  2016-05-18   \n",
       "50         345009516  All Clients - LIN Digital  6051253714720  2016-09-20   \n",
       "51         345009516  All Clients - LIN Digital  6049742187920  2016-09-20   \n",
       "53         345009516  All Clients - LIN Digital  6047731536920  2016-09-20   \n",
       "54         345009516  All Clients - LIN Digital  6046540842520  2016-09-20   \n",
       "\n",
       "    spend  link_clicks    objective  \n",
       "0   60.55         15.0  LINK_CLICKS  \n",
       "50  16.67         52.0  LINK_CLICKS  \n",
       "51  50.32         22.0  LINK_CLICKS  \n",
       "53  14.39         51.0  LINK_CLICKS  \n",
       "54  11.93          9.0  LINK_CLICKS  "
      ]
     },
     "execution_count": 21,
     "metadata": {},
     "output_type": "execute_result"
    }
   ],
   "source": [
    "fb_link_df.head(5)"
   ]
  },
  {
   "cell_type": "markdown",
   "metadata": {},
   "source": [
    "**Table summary:**"
   ]
  },
  {
   "cell_type": "code",
   "execution_count": 22,
   "metadata": {
    "collapsed": false
   },
   "outputs": [
    {
     "name": "stdout",
     "output_type": "stream",
     "text": [
      "Total number of account : 32\n",
      "Total number of campaign: 192\n",
      "The time frame is from 2016-04-18 to 2016-12-20\n"
     ]
    }
   ],
   "source": [
    "num_account = fb_link_df.account_id.value_counts().shape\n",
    "num_campaign = fb_link_df.campaign_id.value_counts().shape\n",
    "\n",
    "print 'Total number of account : %i\\nTotal number of campaign: %i' %(num_account[0], num_campaign[0])\n",
    "print 'The time frame is from %s to %s' %(min(fb_link_df.date_start),max(fb_link_df.date_start))"
   ]
  },
  {
   "cell_type": "markdown",
   "metadata": {},
   "source": [
    "** Add in vertical information **"
   ]
  },
  {
   "cell_type": "code",
   "execution_count": 23,
   "metadata": {
    "collapsed": false
   },
   "outputs": [],
   "source": [
    "account_vertical_df = pd.read_csv('Hyfn_account_vertical_key.csv')"
   ]
  },
  {
   "cell_type": "code",
   "execution_count": 24,
   "metadata": {
    "collapsed": false
   },
   "outputs": [],
   "source": [
    "temp = ['{:.0f}'.format(x) for x in account_vertical_df.account_id]\n",
    "account_vertical_df.loc[account_vertical_df.index,'account_id'] = temp"
   ]
  },
  {
   "cell_type": "code",
   "execution_count": 25,
   "metadata": {
    "collapsed": false
   },
   "outputs": [
    {
     "data": {
      "text/html": [
       "<div>\n",
       "<table border=\"1\" class=\"dataframe\">\n",
       "  <thead>\n",
       "    <tr style=\"text-align: right;\">\n",
       "      <th></th>\n",
       "      <th>name</th>\n",
       "      <th>account_id</th>\n",
       "      <th>vertical</th>\n",
       "      <th>vertical2</th>\n",
       "    </tr>\n",
       "  </thead>\n",
       "  <tbody>\n",
       "    <tr>\n",
       "      <th>0</th>\n",
       "      <td>Usher Security</td>\n",
       "      <td>1011716032209460</td>\n",
       "      <td>Internet Company</td>\n",
       "      <td>Workplace &amp; Office</td>\n",
       "    </tr>\n",
       "    <tr>\n",
       "      <th>1</th>\n",
       "      <td>Gogobot</td>\n",
       "      <td>1003305413050520</td>\n",
       "      <td>Travel</td>\n",
       "      <td>NaN</td>\n",
       "    </tr>\n",
       "    <tr>\n",
       "      <th>2</th>\n",
       "      <td>QuikTrip</td>\n",
       "      <td>1012680412113020</td>\n",
       "      <td>Convenience Store</td>\n",
       "      <td>NaN</td>\n",
       "    </tr>\n",
       "    <tr>\n",
       "      <th>3</th>\n",
       "      <td>Ashford University</td>\n",
       "      <td>1017974154916980</td>\n",
       "      <td>Education</td>\n",
       "      <td>Lead Gen</td>\n",
       "    </tr>\n",
       "    <tr>\n",
       "      <th>4</th>\n",
       "      <td>Visit California</td>\n",
       "      <td>868189209895483</td>\n",
       "      <td>Travel</td>\n",
       "      <td>NaN</td>\n",
       "    </tr>\n",
       "  </tbody>\n",
       "</table>\n",
       "</div>"
      ],
      "text/plain": [
       "                 name        account_id           vertical           vertical2\n",
       "0      Usher Security  1011716032209460   Internet Company  Workplace & Office\n",
       "1             Gogobot  1003305413050520             Travel                 NaN\n",
       "2            QuikTrip  1012680412113020  Convenience Store                 NaN\n",
       "3  Ashford University  1017974154916980          Education            Lead Gen\n",
       "4    Visit California   868189209895483             Travel                 NaN"
      ]
     },
     "execution_count": 25,
     "metadata": {},
     "output_type": "execute_result"
    }
   ],
   "source": [
    "account_vertical_df.head()"
   ]
  },
  {
   "cell_type": "code",
   "execution_count": 26,
   "metadata": {
    "collapsed": true
   },
   "outputs": [],
   "source": [
    "fb_link_df = pd.merge(fb_link_df, account_vertical_df[['account_id','vertical','vertical2']], how = 'left', left_on = 'account_id', right_on = 'account_id')"
   ]
  },
  {
   "cell_type": "code",
   "execution_count": 28,
   "metadata": {
    "collapsed": false
   },
   "outputs": [],
   "source": [
    "fb_link_df.sort_values(['account_id','campaign_id','date_start'], inplace = True)"
   ]
  },
  {
   "cell_type": "markdown",
   "metadata": {},
   "source": [
    "Transform \"spend\" and \"inline_link_clicks\" into logrithmic scale"
   ]
  },
  {
   "cell_type": "code",
   "execution_count": 29,
   "metadata": {
    "collapsed": true
   },
   "outputs": [],
   "source": [
    "fb_link_df.loc[fb_link_df.index,'log_spend'] = np.log(fb_link_df.spend)\n",
    "fb_link_df.loc[fb_link_df.index,'log_click'] = np.log(fb_link_df.link_clicks)"
   ]
  },
  {
   "cell_type": "code",
   "execution_count": 30,
   "metadata": {
    "collapsed": true
   },
   "outputs": [],
   "source": [
    "fb_link_df.drop(['spend','link_clicks'], axis = 1, inplace = True)"
   ]
  },
  {
   "cell_type": "code",
   "execution_count": 31,
   "metadata": {
    "collapsed": false
   },
   "outputs": [
    {
     "data": {
      "text/html": [
       "<div>\n",
       "<table border=\"1\" class=\"dataframe\">\n",
       "  <thead>\n",
       "    <tr style=\"text-align: right;\">\n",
       "      <th></th>\n",
       "      <th>account_id</th>\n",
       "      <th>name</th>\n",
       "      <th>campaign_id</th>\n",
       "      <th>date_start</th>\n",
       "      <th>objective</th>\n",
       "      <th>vertical</th>\n",
       "      <th>vertical2</th>\n",
       "      <th>log_spend</th>\n",
       "      <th>log_click</th>\n",
       "    </tr>\n",
       "  </thead>\n",
       "  <tbody>\n",
       "    <tr>\n",
       "      <th>1234</th>\n",
       "      <td>1003374119710324</td>\n",
       "      <td>Line Tale 2</td>\n",
       "      <td>6042354718738</td>\n",
       "      <td>2016-04-18</td>\n",
       "      <td>LINK_CLICKS</td>\n",
       "      <td>NaN</td>\n",
       "      <td>NaN</td>\n",
       "      <td>5.587099</td>\n",
       "      <td>3.951244</td>\n",
       "    </tr>\n",
       "    <tr>\n",
       "      <th>22</th>\n",
       "      <td>1003374119710324</td>\n",
       "      <td>Line Tale 2</td>\n",
       "      <td>6042354718738</td>\n",
       "      <td>2016-04-19</td>\n",
       "      <td>LINK_CLICKS</td>\n",
       "      <td>NaN</td>\n",
       "      <td>NaN</td>\n",
       "      <td>7.921623</td>\n",
       "      <td>6.408529</td>\n",
       "    </tr>\n",
       "    <tr>\n",
       "      <th>60</th>\n",
       "      <td>1003374119710324</td>\n",
       "      <td>Line Tale 2</td>\n",
       "      <td>6042354718738</td>\n",
       "      <td>2016-04-20</td>\n",
       "      <td>LINK_CLICKS</td>\n",
       "      <td>NaN</td>\n",
       "      <td>NaN</td>\n",
       "      <td>7.666882</td>\n",
       "      <td>6.437752</td>\n",
       "    </tr>\n",
       "    <tr>\n",
       "      <th>815</th>\n",
       "      <td>1003374119710324</td>\n",
       "      <td>Line Tale 2</td>\n",
       "      <td>6042354718738</td>\n",
       "      <td>2016-04-21</td>\n",
       "      <td>LINK_CLICKS</td>\n",
       "      <td>NaN</td>\n",
       "      <td>NaN</td>\n",
       "      <td>7.551801</td>\n",
       "      <td>6.656727</td>\n",
       "    </tr>\n",
       "    <tr>\n",
       "      <th>267</th>\n",
       "      <td>1003374119710324</td>\n",
       "      <td>Line Tale 2</td>\n",
       "      <td>6042354718738</td>\n",
       "      <td>2016-04-22</td>\n",
       "      <td>LINK_CLICKS</td>\n",
       "      <td>NaN</td>\n",
       "      <td>NaN</td>\n",
       "      <td>7.431779</td>\n",
       "      <td>6.659294</td>\n",
       "    </tr>\n",
       "  </tbody>\n",
       "</table>\n",
       "</div>"
      ],
      "text/plain": [
       "            account_id         name    campaign_id  date_start    objective  \\\n",
       "1234  1003374119710324  Line Tale 2  6042354718738  2016-04-18  LINK_CLICKS   \n",
       "22    1003374119710324  Line Tale 2  6042354718738  2016-04-19  LINK_CLICKS   \n",
       "60    1003374119710324  Line Tale 2  6042354718738  2016-04-20  LINK_CLICKS   \n",
       "815   1003374119710324  Line Tale 2  6042354718738  2016-04-21  LINK_CLICKS   \n",
       "267   1003374119710324  Line Tale 2  6042354718738  2016-04-22  LINK_CLICKS   \n",
       "\n",
       "     vertical vertical2  log_spend  log_click  \n",
       "1234      NaN       NaN   5.587099   3.951244  \n",
       "22        NaN       NaN   7.921623   6.408529  \n",
       "60        NaN       NaN   7.666882   6.437752  \n",
       "815       NaN       NaN   7.551801   6.656727  \n",
       "267       NaN       NaN   7.431779   6.659294  "
      ]
     },
     "execution_count": 31,
     "metadata": {},
     "output_type": "execute_result"
    }
   ],
   "source": [
    "fb_link_df.head()"
   ]
  },
  {
   "cell_type": "markdown",
   "metadata": {},
   "source": [
    "**fb_link_df** is the original complete dataset"
   ]
  },
  {
   "cell_type": "code",
   "execution_count": 33,
   "metadata": {
    "collapsed": false
   },
   "outputs": [
    {
     "data": {
      "text/html": [
       "<div>\n",
       "<table border=\"1\" class=\"dataframe\">\n",
       "  <thead>\n",
       "    <tr style=\"text-align: right;\">\n",
       "      <th></th>\n",
       "      <th>log_spend</th>\n",
       "      <th>log_click</th>\n",
       "    </tr>\n",
       "  </thead>\n",
       "  <tbody>\n",
       "    <tr>\n",
       "      <th>count</th>\n",
       "      <td>6571.000000</td>\n",
       "      <td>6571.000000</td>\n",
       "    </tr>\n",
       "    <tr>\n",
       "      <th>mean</th>\n",
       "      <td>3.595834</td>\n",
       "      <td>3.867835</td>\n",
       "    </tr>\n",
       "    <tr>\n",
       "      <th>std</th>\n",
       "      <td>1.297067</td>\n",
       "      <td>1.646679</td>\n",
       "    </tr>\n",
       "    <tr>\n",
       "      <th>min</th>\n",
       "      <td>0.307485</td>\n",
       "      <td>0.693147</td>\n",
       "    </tr>\n",
       "    <tr>\n",
       "      <th>25%</th>\n",
       "      <td>2.751429</td>\n",
       "      <td>2.708050</td>\n",
       "    </tr>\n",
       "    <tr>\n",
       "      <th>50%</th>\n",
       "      <td>3.391147</td>\n",
       "      <td>3.610918</td>\n",
       "    </tr>\n",
       "    <tr>\n",
       "      <th>75%</th>\n",
       "      <td>4.356452</td>\n",
       "      <td>4.894094</td>\n",
       "    </tr>\n",
       "    <tr>\n",
       "      <th>max</th>\n",
       "      <td>9.402295</td>\n",
       "      <td>10.617564</td>\n",
       "    </tr>\n",
       "  </tbody>\n",
       "</table>\n",
       "</div>"
      ],
      "text/plain": [
       "         log_spend    log_click\n",
       "count  6571.000000  6571.000000\n",
       "mean      3.595834     3.867835\n",
       "std       1.297067     1.646679\n",
       "min       0.307485     0.693147\n",
       "25%       2.751429     2.708050\n",
       "50%       3.391147     3.610918\n",
       "75%       4.356452     4.894094\n",
       "max       9.402295    10.617564"
      ]
     },
     "execution_count": 33,
     "metadata": {},
     "output_type": "execute_result"
    }
   ],
   "source": [
    "fb_link_df.describe()"
   ]
  },
  {
   "cell_type": "markdown",
   "metadata": {},
   "source": [
    "### Part 2: Data modeling \n",
    "### 2.1 Ex post model"
   ]
  },
  {
   "cell_type": "markdown",
   "metadata": {},
   "source": [
    "1.Convert \"campaign_id\" into category data(dummy variables)"
   ]
  },
  {
   "cell_type": "code",
   "execution_count": 34,
   "metadata": {
    "collapsed": false
   },
   "outputs": [],
   "source": [
    "expost_ml_df = pd.concat([fb_link_df, pd.get_dummies(fb_link_df.campaign_id,drop_first=True)], axis = 1)"
   ]
  },
  {
   "cell_type": "markdown",
   "metadata": {},
   "source": [
    "2.Drop the redundant columns"
   ]
  },
  {
   "cell_type": "code",
   "execution_count": 35,
   "metadata": {
    "collapsed": false
   },
   "outputs": [],
   "source": [
    "expost_ml_df.drop(['account_id','campaign_id','date_start','objective','name','vertical','vertical2'], axis = 1, inplace = True)"
   ]
  },
  {
   "cell_type": "markdown",
   "metadata": {},
   "source": [
    "Data Frame \"link_ml_df\" ready for machine learning"
   ]
  },
  {
   "cell_type": "code",
   "execution_count": 36,
   "metadata": {
    "collapsed": true
   },
   "outputs": [],
   "source": [
    "expost_ml_df.reset_index(drop = True, inplace = True)"
   ]
  },
  {
   "cell_type": "code",
   "execution_count": 38,
   "metadata": {
    "collapsed": false
   },
   "outputs": [
    {
     "data": {
      "text/html": [
       "<div>\n",
       "<table border=\"1\" class=\"dataframe\">\n",
       "  <thead>\n",
       "    <tr style=\"text-align: right;\">\n",
       "      <th></th>\n",
       "      <th>log_spend</th>\n",
       "      <th>log_click</th>\n",
       "      <th>23842505131670744</th>\n",
       "      <th>23842505131810744</th>\n",
       "      <th>23842505131840744</th>\n",
       "      <th>23842505782680160</th>\n",
       "      <th>23842506958430736</th>\n",
       "      <th>23842507000030736</th>\n",
       "      <th>23842507560460492</th>\n",
       "      <th>23842508340700492</th>\n",
       "      <th>...</th>\n",
       "      <th>6063174510444</th>\n",
       "      <th>6063972989165</th>\n",
       "      <th>6064002893844</th>\n",
       "      <th>6064003490044</th>\n",
       "      <th>6064004160044</th>\n",
       "      <th>6064663893217</th>\n",
       "      <th>6064969908417</th>\n",
       "      <th>6064970231017</th>\n",
       "      <th>6066725507025</th>\n",
       "      <th>6067165333617</th>\n",
       "    </tr>\n",
       "  </thead>\n",
       "  <tbody>\n",
       "    <tr>\n",
       "      <th>0</th>\n",
       "      <td>5.587099</td>\n",
       "      <td>3.951244</td>\n",
       "      <td>0.0</td>\n",
       "      <td>0.0</td>\n",
       "      <td>0.0</td>\n",
       "      <td>0.0</td>\n",
       "      <td>0.0</td>\n",
       "      <td>0.0</td>\n",
       "      <td>0.0</td>\n",
       "      <td>0.0</td>\n",
       "      <td>...</td>\n",
       "      <td>0.0</td>\n",
       "      <td>0.0</td>\n",
       "      <td>0.0</td>\n",
       "      <td>0.0</td>\n",
       "      <td>0.0</td>\n",
       "      <td>0.0</td>\n",
       "      <td>0.0</td>\n",
       "      <td>0.0</td>\n",
       "      <td>0.0</td>\n",
       "      <td>0.0</td>\n",
       "    </tr>\n",
       "    <tr>\n",
       "      <th>1</th>\n",
       "      <td>7.921623</td>\n",
       "      <td>6.408529</td>\n",
       "      <td>0.0</td>\n",
       "      <td>0.0</td>\n",
       "      <td>0.0</td>\n",
       "      <td>0.0</td>\n",
       "      <td>0.0</td>\n",
       "      <td>0.0</td>\n",
       "      <td>0.0</td>\n",
       "      <td>0.0</td>\n",
       "      <td>...</td>\n",
       "      <td>0.0</td>\n",
       "      <td>0.0</td>\n",
       "      <td>0.0</td>\n",
       "      <td>0.0</td>\n",
       "      <td>0.0</td>\n",
       "      <td>0.0</td>\n",
       "      <td>0.0</td>\n",
       "      <td>0.0</td>\n",
       "      <td>0.0</td>\n",
       "      <td>0.0</td>\n",
       "    </tr>\n",
       "    <tr>\n",
       "      <th>2</th>\n",
       "      <td>7.666882</td>\n",
       "      <td>6.437752</td>\n",
       "      <td>0.0</td>\n",
       "      <td>0.0</td>\n",
       "      <td>0.0</td>\n",
       "      <td>0.0</td>\n",
       "      <td>0.0</td>\n",
       "      <td>0.0</td>\n",
       "      <td>0.0</td>\n",
       "      <td>0.0</td>\n",
       "      <td>...</td>\n",
       "      <td>0.0</td>\n",
       "      <td>0.0</td>\n",
       "      <td>0.0</td>\n",
       "      <td>0.0</td>\n",
       "      <td>0.0</td>\n",
       "      <td>0.0</td>\n",
       "      <td>0.0</td>\n",
       "      <td>0.0</td>\n",
       "      <td>0.0</td>\n",
       "      <td>0.0</td>\n",
       "    </tr>\n",
       "    <tr>\n",
       "      <th>3</th>\n",
       "      <td>7.551801</td>\n",
       "      <td>6.656727</td>\n",
       "      <td>0.0</td>\n",
       "      <td>0.0</td>\n",
       "      <td>0.0</td>\n",
       "      <td>0.0</td>\n",
       "      <td>0.0</td>\n",
       "      <td>0.0</td>\n",
       "      <td>0.0</td>\n",
       "      <td>0.0</td>\n",
       "      <td>...</td>\n",
       "      <td>0.0</td>\n",
       "      <td>0.0</td>\n",
       "      <td>0.0</td>\n",
       "      <td>0.0</td>\n",
       "      <td>0.0</td>\n",
       "      <td>0.0</td>\n",
       "      <td>0.0</td>\n",
       "      <td>0.0</td>\n",
       "      <td>0.0</td>\n",
       "      <td>0.0</td>\n",
       "    </tr>\n",
       "    <tr>\n",
       "      <th>4</th>\n",
       "      <td>7.431779</td>\n",
       "      <td>6.659294</td>\n",
       "      <td>0.0</td>\n",
       "      <td>0.0</td>\n",
       "      <td>0.0</td>\n",
       "      <td>0.0</td>\n",
       "      <td>0.0</td>\n",
       "      <td>0.0</td>\n",
       "      <td>0.0</td>\n",
       "      <td>0.0</td>\n",
       "      <td>...</td>\n",
       "      <td>0.0</td>\n",
       "      <td>0.0</td>\n",
       "      <td>0.0</td>\n",
       "      <td>0.0</td>\n",
       "      <td>0.0</td>\n",
       "      <td>0.0</td>\n",
       "      <td>0.0</td>\n",
       "      <td>0.0</td>\n",
       "      <td>0.0</td>\n",
       "      <td>0.0</td>\n",
       "    </tr>\n",
       "  </tbody>\n",
       "</table>\n",
       "<p>5 rows × 193 columns</p>\n",
       "</div>"
      ],
      "text/plain": [
       "   log_spend  log_click  23842505131670744  23842505131810744  \\\n",
       "0   5.587099   3.951244                0.0                0.0   \n",
       "1   7.921623   6.408529                0.0                0.0   \n",
       "2   7.666882   6.437752                0.0                0.0   \n",
       "3   7.551801   6.656727                0.0                0.0   \n",
       "4   7.431779   6.659294                0.0                0.0   \n",
       "\n",
       "   23842505131840744  23842505782680160  23842506958430736  23842507000030736  \\\n",
       "0                0.0                0.0                0.0                0.0   \n",
       "1                0.0                0.0                0.0                0.0   \n",
       "2                0.0                0.0                0.0                0.0   \n",
       "3                0.0                0.0                0.0                0.0   \n",
       "4                0.0                0.0                0.0                0.0   \n",
       "\n",
       "   23842507560460492  23842508340700492      ...        6063174510444  \\\n",
       "0                0.0                0.0      ...                  0.0   \n",
       "1                0.0                0.0      ...                  0.0   \n",
       "2                0.0                0.0      ...                  0.0   \n",
       "3                0.0                0.0      ...                  0.0   \n",
       "4                0.0                0.0      ...                  0.0   \n",
       "\n",
       "   6063972989165  6064002893844  6064003490044  6064004160044  6064663893217  \\\n",
       "0            0.0            0.0            0.0            0.0            0.0   \n",
       "1            0.0            0.0            0.0            0.0            0.0   \n",
       "2            0.0            0.0            0.0            0.0            0.0   \n",
       "3            0.0            0.0            0.0            0.0            0.0   \n",
       "4            0.0            0.0            0.0            0.0            0.0   \n",
       "\n",
       "   6064969908417  6064970231017  6066725507025  6067165333617  \n",
       "0            0.0            0.0            0.0            0.0  \n",
       "1            0.0            0.0            0.0            0.0  \n",
       "2            0.0            0.0            0.0            0.0  \n",
       "3            0.0            0.0            0.0            0.0  \n",
       "4            0.0            0.0            0.0            0.0  \n",
       "\n",
       "[5 rows x 193 columns]"
      ]
     },
     "execution_count": 38,
     "metadata": {},
     "output_type": "execute_result"
    }
   ],
   "source": [
    "expost_ml_df.head()"
   ]
  },
  {
   "cell_type": "markdown",
   "metadata": {},
   "source": [
    "### Regression Model :\n",
    "\n",
    "\\begin{equation*}\n",
    "log(Clicks) = m* log(spend)+b_{campaign}+b_{int}\n",
    "\\end{equation*}"
   ]
  },
  {
   "cell_type": "markdown",
   "metadata": {},
   "source": [
    "In this project, I am going to use the ski-learn(ML package built in Python) for various regression problems."
   ]
  },
  {
   "cell_type": "code",
   "execution_count": 39,
   "metadata": {
    "collapsed": false
   },
   "outputs": [
    {
     "data": {
      "text/plain": [
       "LinearRegression(copy_X=True, fit_intercept=True, n_jobs=1, normalize=False)"
      ]
     },
     "execution_count": 39,
     "metadata": {},
     "output_type": "execute_result"
    }
   ],
   "source": [
    "from sklearn import linear_model\n",
    "from sklearn import cross_validation\n",
    "from sklearn import metrics\n",
    "\n",
    "linreg = linear_model.LinearRegression(fit_intercept=True)  # This is the default\n",
    "X = expost_ml_df.copy()\n",
    "X.drop('log_click', axis = 1, inplace = True)\n",
    "y = expost_ml_df.log_click\n",
    "linreg.fit(X, y)"
   ]
  },
  {
   "cell_type": "markdown",
   "metadata": {},
   "source": [
    "**Spend coefficients**:"
   ]
  },
  {
   "cell_type": "code",
   "execution_count": 42,
   "metadata": {
    "collapsed": false
   },
   "outputs": [
    {
     "name": "stdout",
     "output_type": "stream",
     "text": [
      "The spend coefficients between log(spend) and log(clicks) (m) is 0.96\n"
     ]
    }
   ],
   "source": [
    "print \"The spend coefficients between log(spend) and log(clicks) (m) is %.2f\" % linreg.coef_[0]"
   ]
  },
  {
   "cell_type": "markdown",
   "metadata": {},
   "source": [
    "**In-sample prediction metric**:"
   ]
  },
  {
   "cell_type": "code",
   "execution_count": 43,
   "metadata": {
    "collapsed": false
   },
   "outputs": [
    {
     "name": "stdout",
     "output_type": "stream",
     "text": [
      "The in-sample prediction R^2 is 0.9491\n",
      "The mean squared error in model is 0.1379\n"
     ]
    }
   ],
   "source": [
    "print \"The in-sample prediction R^2 is %.4f\" % linreg.score(X,y)\n",
    "print \"The mean squared error in model is %.4f\" % metrics.mean_squared_error(y,linreg.predict(X))"
   ]
  },
  {
   "cell_type": "markdown",
   "metadata": {},
   "source": [
    "**Visualization**"
   ]
  },
  {
   "cell_type": "code",
   "execution_count": 44,
   "metadata": {
    "collapsed": false
   },
   "outputs": [],
   "source": [
    "x0 = X.loc[X.index[0]] \n",
    "X0 = pd.DataFrame({}, columns = X.columns)\n",
    "X0 = X0.append([x0]*50,ignore_index=True)\n",
    "X0['log_spend'] = pd.Series(np.linspace(0, 10, 50))"
   ]
  },
  {
   "cell_type": "code",
   "execution_count": 45,
   "metadata": {
    "collapsed": false
   },
   "outputs": [
    {
     "data": {
      "text/plain": [
       "<matplotlib.legend.Legend at 0x11bef1e90>"
      ]
     },
     "execution_count": 45,
     "metadata": {},
     "output_type": "execute_result"
    },
    {
     "data": {
      "image/png": "[encoded data removed]",
      "text/plain": [
       "<matplotlib.figure.Figure at 0x11ba151d0>"
      ]
     },
     "metadata": {},
     "output_type": "display_data"
    }
   ],
   "source": [
    "plt.figure(figsize=(8,6))\n",
    "plt.plot(X.log_spend, y, '.')\n",
    "plt.plot(X0.log_spend, linreg.predict(X0), '-')\n",
    "plt.xlabel('log(spend)')\n",
    "plt.ylabel('log(clicks)')\n",
    "plt.axis([-2, 10, 0, 10])\n",
    "plt.legend(['Data for all campaigns','Prediction using one campaign id'],loc='best')"
   ]
  },
  {
   "cell_type": "markdown",
   "metadata": {},
   "source": [
    "**Coefficients of Regression model (variation in campaigns $b_{campaign}$)** "
   ]
  },
  {
   "cell_type": "code",
   "execution_count": 46,
   "metadata": {
    "collapsed": false
   },
   "outputs": [
    {
     "data": {
      "text/plain": [
       "191"
      ]
     },
     "execution_count": 46,
     "metadata": {},
     "output_type": "execute_result"
    }
   ],
   "source": [
    "coeffs = linreg.coef_[1:]\n",
    "len(coeffs)"
   ]
  },
  {
   "cell_type": "code",
   "execution_count": 52,
   "metadata": {
    "collapsed": false
   },
   "outputs": [
    {
     "data": {
      "text/plain": [
       "<matplotlib.lines.Line2D at 0x124399850>"
      ]
     },
     "execution_count": 52,
     "metadata": {},
     "output_type": "execute_result"
    },
    {
     "data": {
      "image/png": "[encoded data removed]",
      "text/plain": [
       "<matplotlib.figure.Figure at 0x1242bca90>"
      ]
     },
     "metadata": {},
     "output_type": "display_data"
    }
   ],
   "source": [
    "plt.figure(figsize=(8,6))\n",
    "plt.plot(coeffs,'o')\n",
    "plt.xlabel('Campaign ID')\n",
    "plt.ylabel('Interception $b_{CID}$')\n",
    "plt.axhline(y=3, color = 'r')\n",
    "plt.axhline(y=-0.5, color = 'g')\n",
    "#plt.axis([0, 12, -2, 6])"
   ]
  },
  {
   "cell_type": "markdown",
   "metadata": {},
   "source": [
    "Now, we can compare the effectiveness of various campaign. From the plot, it seems most of the campaign are close and around similar values . However, there are some outliers as well. It may be interesting to look at those campaign individually and see what are the reasons for these differences."
   ]
  },
  {
   "cell_type": "code",
   "execution_count": 53,
   "metadata": {
    "collapsed": false
   },
   "outputs": [],
   "source": [
    "coeffs_group1 = X.columns[1:][coeffs > 3]\n",
    "coeffs_group2 = X.columns[1:][coeffs < -0.5]"
   ]
  },
  {
   "cell_type": "code",
   "execution_count": 54,
   "metadata": {
    "collapsed": false
   },
   "outputs": [
    {
     "data": {
      "text/plain": [
       "['Olympics',\n",
       " 'Olympics',\n",
       " 'Visit California',\n",
       " 'Micro Strategy',\n",
       " 'Micro Strategy',\n",
       " 'Micro Strategy',\n",
       " 'Micro Strategy']"
      ]
     },
     "execution_count": 54,
     "metadata": {},
     "output_type": "execute_result"
    }
   ],
   "source": [
    "coeffs_group1_name = list()\n",
    "for id in coeffs_group1:\n",
    "    company_name = fb_link_df[fb_link_df.campaign_id == str(id)].name\n",
    "    coeffs_group1_name.append(company_name.values[0])\n",
    "    \n",
    "coeffs_group1_name"
   ]
  },
  {
   "cell_type": "code",
   "execution_count": 55,
   "metadata": {
    "collapsed": false
   },
   "outputs": [
    {
     "data": {
      "text/plain": [
       "['Chime',\n",
       " 'Chime',\n",
       " 'Target',\n",
       " 'TrueCar Main: 106471106226037',\n",
       " 'TrueCar Main: 106471106226037']"
      ]
     },
     "execution_count": 55,
     "metadata": {},
     "output_type": "execute_result"
    }
   ],
   "source": [
    "coeffs_group2_name = list()\n",
    "for id in coeffs_group2:\n",
    "    company_name = fb_link_df[fb_link_df.campaign_id == str(id)].name\n",
    "    coeffs_group2_name.append(company_name.values[0])\n",
    "    \n",
    "coeffs_group2_name"
   ]
  },
  {
   "cell_type": "markdown",
   "metadata": {},
   "source": [
    "Before building the ex ante model, we can also do a cross-validation on our current model to evaluate its ability."
   ]
  },
  {
   "cell_type": "markdown",
   "metadata": {},
   "source": [
    "### 2.2 Ex ante model\n",
    "\n",
    "From previous analysis, it is found that there is a nice linear relationship between the log_spend and log_click within each campaign. If the characteristics of a provided campaign are properly captured, we can predict the future pay back ratio (click/spend)."
   ]
  },
  {
   "cell_type": "markdown",
   "metadata": {},
   "source": [
    "### 2.2.1  Model  1 (Baseline) :\n",
    "\n",
    "\\begin{equation*}\n",
    "log(Clicks) = m* log(spend)+b_{int}\n",
    "\\end{equation*}"
   ]
  },
  {
   "cell_type": "code",
   "execution_count": 56,
   "metadata": {
    "collapsed": false
   },
   "outputs": [],
   "source": [
    "X_base = fb_link_df.log_spend.reshape(-1,1)\n",
    "y = fb_link_df.log_click"
   ]
  },
  {
   "cell_type": "code",
   "execution_count": 57,
   "metadata": {
    "collapsed": false
   },
   "outputs": [
    {
     "data": {
      "text/plain": [
       "LinearRegression(copy_X=True, fit_intercept=True, n_jobs=1, normalize=False)"
      ]
     },
     "execution_count": 57,
     "metadata": {},
     "output_type": "execute_result"
    }
   ],
   "source": [
    "linreg_base = linear_model.LinearRegression(fit_intercept=True)\n",
    "linreg_base.fit(X_base,y)"
   ]
  },
  {
   "cell_type": "code",
   "execution_count": 58,
   "metadata": {
    "collapsed": false
   },
   "outputs": [
    {
     "name": "stdout",
     "output_type": "stream",
     "text": [
      "The spend coefficients between log(spend) and log(clicks) (m) is 1.04\n",
      "The in-sample prediction R^2 is 0.6769\n",
      "The mean squared error in model is 0.8759\n"
     ]
    }
   ],
   "source": [
    "print \"The spend coefficients between log(spend) and log(clicks) (m) is %.2f\" % linreg_base.coef_[-1]\n",
    "print \"The in-sample prediction R^2 is %.4f\" % linreg_base.score(X_base,y)\n",
    "print \"The mean squared error in model is %.4f\" % metrics.mean_squared_error(y,linreg_base.predict(X_base))"
   ]
  },
  {
   "cell_type": "markdown",
   "metadata": {},
   "source": [
    "### 2.2.2  Model 2: (Baseline + Vertical):\n",
    "\n",
    "\\begin{equation*}\n",
    "log(Clicks) = m* log(spend)+b_{int}+b_{vert}\n",
    "\\end{equation*}"
   ]
  },
  {
   "cell_type": "code",
   "execution_count": 60,
   "metadata": {
    "collapsed": false
   },
   "outputs": [],
   "source": [
    "fb_link_df.vertical.fillna(value = 'Unknown1', inplace = True)\n",
    "fb_link_df.vertical2.fillna(value = 'Unknown2', inplace = True)"
   ]
  },
  {
   "cell_type": "code",
   "execution_count": 61,
   "metadata": {
    "collapsed": false
   },
   "outputs": [
    {
     "data": {
      "text/html": [
       "<div>\n",
       "<table border=\"1\" class=\"dataframe\">\n",
       "  <thead>\n",
       "    <tr style=\"text-align: right;\">\n",
       "      <th></th>\n",
       "      <th>account_id</th>\n",
       "      <th>name</th>\n",
       "      <th>campaign_id</th>\n",
       "      <th>date_start</th>\n",
       "      <th>objective</th>\n",
       "      <th>vertical</th>\n",
       "      <th>vertical2</th>\n",
       "      <th>log_spend</th>\n",
       "      <th>log_click</th>\n",
       "    </tr>\n",
       "  </thead>\n",
       "  <tbody>\n",
       "    <tr>\n",
       "      <th>1234</th>\n",
       "      <td>1003374119710324</td>\n",
       "      <td>Line Tale 2</td>\n",
       "      <td>6042354718738</td>\n",
       "      <td>2016-04-18</td>\n",
       "      <td>LINK_CLICKS</td>\n",
       "      <td>Unknown1</td>\n",
       "      <td>Unknown2</td>\n",
       "      <td>5.587099</td>\n",
       "      <td>3.951244</td>\n",
       "    </tr>\n",
       "    <tr>\n",
       "      <th>22</th>\n",
       "      <td>1003374119710324</td>\n",
       "      <td>Line Tale 2</td>\n",
       "      <td>6042354718738</td>\n",
       "      <td>2016-04-19</td>\n",
       "      <td>LINK_CLICKS</td>\n",
       "      <td>Unknown1</td>\n",
       "      <td>Unknown2</td>\n",
       "      <td>7.921623</td>\n",
       "      <td>6.408529</td>\n",
       "    </tr>\n",
       "    <tr>\n",
       "      <th>60</th>\n",
       "      <td>1003374119710324</td>\n",
       "      <td>Line Tale 2</td>\n",
       "      <td>6042354718738</td>\n",
       "      <td>2016-04-20</td>\n",
       "      <td>LINK_CLICKS</td>\n",
       "      <td>Unknown1</td>\n",
       "      <td>Unknown2</td>\n",
       "      <td>7.666882</td>\n",
       "      <td>6.437752</td>\n",
       "    </tr>\n",
       "    <tr>\n",
       "      <th>815</th>\n",
       "      <td>1003374119710324</td>\n",
       "      <td>Line Tale 2</td>\n",
       "      <td>6042354718738</td>\n",
       "      <td>2016-04-21</td>\n",
       "      <td>LINK_CLICKS</td>\n",
       "      <td>Unknown1</td>\n",
       "      <td>Unknown2</td>\n",
       "      <td>7.551801</td>\n",
       "      <td>6.656727</td>\n",
       "    </tr>\n",
       "    <tr>\n",
       "      <th>267</th>\n",
       "      <td>1003374119710324</td>\n",
       "      <td>Line Tale 2</td>\n",
       "      <td>6042354718738</td>\n",
       "      <td>2016-04-22</td>\n",
       "      <td>LINK_CLICKS</td>\n",
       "      <td>Unknown1</td>\n",
       "      <td>Unknown2</td>\n",
       "      <td>7.431779</td>\n",
       "      <td>6.659294</td>\n",
       "    </tr>\n",
       "  </tbody>\n",
       "</table>\n",
       "</div>"
      ],
      "text/plain": [
       "            account_id         name    campaign_id  date_start    objective  \\\n",
       "1234  1003374119710324  Line Tale 2  6042354718738  2016-04-18  LINK_CLICKS   \n",
       "22    1003374119710324  Line Tale 2  6042354718738  2016-04-19  LINK_CLICKS   \n",
       "60    1003374119710324  Line Tale 2  6042354718738  2016-04-20  LINK_CLICKS   \n",
       "815   1003374119710324  Line Tale 2  6042354718738  2016-04-21  LINK_CLICKS   \n",
       "267   1003374119710324  Line Tale 2  6042354718738  2016-04-22  LINK_CLICKS   \n",
       "\n",
       "      vertical vertical2  log_spend  log_click  \n",
       "1234  Unknown1  Unknown2   5.587099   3.951244  \n",
       "22    Unknown1  Unknown2   7.921623   6.408529  \n",
       "60    Unknown1  Unknown2   7.666882   6.437752  \n",
       "815   Unknown1  Unknown2   7.551801   6.656727  \n",
       "267   Unknown1  Unknown2   7.431779   6.659294  "
      ]
     },
     "execution_count": 61,
     "metadata": {},
     "output_type": "execute_result"
    }
   ],
   "source": [
    "fb_link_df.head()"
   ]
  },
  {
   "cell_type": "code",
   "execution_count": 62,
   "metadata": {
    "collapsed": false
   },
   "outputs": [],
   "source": [
    "ml_vert_df = fb_link_df[['log_spend','log_click','vertical','vertical2']]"
   ]
  },
  {
   "cell_type": "code",
   "execution_count": 63,
   "metadata": {
    "collapsed": true
   },
   "outputs": [],
   "source": [
    "ml_vert_df = pd.concat([ml_vert_df, pd.get_dummies(ml_vert_df.vertical,drop_first=True),pd.get_dummies(ml_vert_df.vertical2,drop_first=True)], axis = 1)"
   ]
  },
  {
   "cell_type": "code",
   "execution_count": 64,
   "metadata": {
    "collapsed": false
   },
   "outputs": [
    {
     "data": {
      "text/plain": [
       "[Index([u'Unknown1', u'Internet Company', u'Travel', u'Health Care', u'Retail',\n",
       "        u'Pregnancy', u'Entertainment', u'Non-Profit', u'QSR', u'Automotive',\n",
       "        u'Technology', u'Public Health', u'Advertising'],\n",
       "       dtype='object'),\n",
       " Index([u'Unknown2', u'Workplace & Office', u'Lead Gen', u'Apparel', u'CPG',\n",
       "        u'Health', u'Movie', u'Seniors', u'Loan'],\n",
       "       dtype='object')]"
      ]
     },
     "execution_count": 64,
     "metadata": {},
     "output_type": "execute_result"
    }
   ],
   "source": [
    "[ml_vert_df.vertical.value_counts().index,ml_vert_df.vertical2.value_counts().index]"
   ]
  },
  {
   "cell_type": "code",
   "execution_count": 66,
   "metadata": {
    "collapsed": false
   },
   "outputs": [],
   "source": [
    "ml_vert_df.drop(['vertical','vertical2'], axis =1, inplace = True)"
   ]
  },
  {
   "cell_type": "code",
   "execution_count": 67,
   "metadata": {
    "collapsed": false
   },
   "outputs": [
    {
     "data": {
      "text/plain": [
       "Index([u'log_spend', u'log_click', u'Automotive', u'Entertainment',\n",
       "       u'Health Care', u'Internet Company', u'Non-Profit', u'Pregnancy',\n",
       "       u'Public Health', u'QSR', u'Retail', u'Technology', u'Travel',\n",
       "       u'Unknown1', u'CPG', u'Health', u'Lead Gen', u'Loan', u'Movie',\n",
       "       u'Seniors', u'Unknown2', u'Workplace & Office'],\n",
       "      dtype='object')"
      ]
     },
     "execution_count": 67,
     "metadata": {},
     "output_type": "execute_result"
    }
   ],
   "source": [
    "ml_vert_df.columns"
   ]
  },
  {
   "cell_type": "code",
   "execution_count": 68,
   "metadata": {
    "collapsed": false
   },
   "outputs": [
    {
     "data": {
      "text/html": [
       "<div>\n",
       "<table border=\"1\" class=\"dataframe\">\n",
       "  <thead>\n",
       "    <tr style=\"text-align: right;\">\n",
       "      <th></th>\n",
       "      <th>log_spend</th>\n",
       "      <th>log_click</th>\n",
       "      <th>Automotive</th>\n",
       "      <th>Entertainment</th>\n",
       "      <th>Health Care</th>\n",
       "      <th>Internet Company</th>\n",
       "      <th>Non-Profit</th>\n",
       "      <th>Pregnancy</th>\n",
       "      <th>Public Health</th>\n",
       "      <th>QSR</th>\n",
       "      <th>...</th>\n",
       "      <th>Travel</th>\n",
       "      <th>Unknown1</th>\n",
       "      <th>CPG</th>\n",
       "      <th>Health</th>\n",
       "      <th>Lead Gen</th>\n",
       "      <th>Loan</th>\n",
       "      <th>Movie</th>\n",
       "      <th>Seniors</th>\n",
       "      <th>Unknown2</th>\n",
       "      <th>Workplace &amp; Office</th>\n",
       "    </tr>\n",
       "  </thead>\n",
       "  <tbody>\n",
       "    <tr>\n",
       "      <th>1234</th>\n",
       "      <td>5.587099</td>\n",
       "      <td>3.951244</td>\n",
       "      <td>0.0</td>\n",
       "      <td>0.0</td>\n",
       "      <td>0.0</td>\n",
       "      <td>0.0</td>\n",
       "      <td>0.0</td>\n",
       "      <td>0.0</td>\n",
       "      <td>0.0</td>\n",
       "      <td>0.0</td>\n",
       "      <td>...</td>\n",
       "      <td>0.0</td>\n",
       "      <td>1.0</td>\n",
       "      <td>0.0</td>\n",
       "      <td>0.0</td>\n",
       "      <td>0.0</td>\n",
       "      <td>0.0</td>\n",
       "      <td>0.0</td>\n",
       "      <td>0.0</td>\n",
       "      <td>1.0</td>\n",
       "      <td>0.0</td>\n",
       "    </tr>\n",
       "    <tr>\n",
       "      <th>22</th>\n",
       "      <td>7.921623</td>\n",
       "      <td>6.408529</td>\n",
       "      <td>0.0</td>\n",
       "      <td>0.0</td>\n",
       "      <td>0.0</td>\n",
       "      <td>0.0</td>\n",
       "      <td>0.0</td>\n",
       "      <td>0.0</td>\n",
       "      <td>0.0</td>\n",
       "      <td>0.0</td>\n",
       "      <td>...</td>\n",
       "      <td>0.0</td>\n",
       "      <td>1.0</td>\n",
       "      <td>0.0</td>\n",
       "      <td>0.0</td>\n",
       "      <td>0.0</td>\n",
       "      <td>0.0</td>\n",
       "      <td>0.0</td>\n",
       "      <td>0.0</td>\n",
       "      <td>1.0</td>\n",
       "      <td>0.0</td>\n",
       "    </tr>\n",
       "    <tr>\n",
       "      <th>60</th>\n",
       "      <td>7.666882</td>\n",
       "      <td>6.437752</td>\n",
       "      <td>0.0</td>\n",
       "      <td>0.0</td>\n",
       "      <td>0.0</td>\n",
       "      <td>0.0</td>\n",
       "      <td>0.0</td>\n",
       "      <td>0.0</td>\n",
       "      <td>0.0</td>\n",
       "      <td>0.0</td>\n",
       "      <td>...</td>\n",
       "      <td>0.0</td>\n",
       "      <td>1.0</td>\n",
       "      <td>0.0</td>\n",
       "      <td>0.0</td>\n",
       "      <td>0.0</td>\n",
       "      <td>0.0</td>\n",
       "      <td>0.0</td>\n",
       "      <td>0.0</td>\n",
       "      <td>1.0</td>\n",
       "      <td>0.0</td>\n",
       "    </tr>\n",
       "    <tr>\n",
       "      <th>815</th>\n",
       "      <td>7.551801</td>\n",
       "      <td>6.656727</td>\n",
       "      <td>0.0</td>\n",
       "      <td>0.0</td>\n",
       "      <td>0.0</td>\n",
       "      <td>0.0</td>\n",
       "      <td>0.0</td>\n",
       "      <td>0.0</td>\n",
       "      <td>0.0</td>\n",
       "      <td>0.0</td>\n",
       "      <td>...</td>\n",
       "      <td>0.0</td>\n",
       "      <td>1.0</td>\n",
       "      <td>0.0</td>\n",
       "      <td>0.0</td>\n",
       "      <td>0.0</td>\n",
       "      <td>0.0</td>\n",
       "      <td>0.0</td>\n",
       "      <td>0.0</td>\n",
       "      <td>1.0</td>\n",
       "      <td>0.0</td>\n",
       "    </tr>\n",
       "    <tr>\n",
       "      <th>267</th>\n",
       "      <td>7.431779</td>\n",
       "      <td>6.659294</td>\n",
       "      <td>0.0</td>\n",
       "      <td>0.0</td>\n",
       "      <td>0.0</td>\n",
       "      <td>0.0</td>\n",
       "      <td>0.0</td>\n",
       "      <td>0.0</td>\n",
       "      <td>0.0</td>\n",
       "      <td>0.0</td>\n",
       "      <td>...</td>\n",
       "      <td>0.0</td>\n",
       "      <td>1.0</td>\n",
       "      <td>0.0</td>\n",
       "      <td>0.0</td>\n",
       "      <td>0.0</td>\n",
       "      <td>0.0</td>\n",
       "      <td>0.0</td>\n",
       "      <td>0.0</td>\n",
       "      <td>1.0</td>\n",
       "      <td>0.0</td>\n",
       "    </tr>\n",
       "  </tbody>\n",
       "</table>\n",
       "<p>5 rows × 22 columns</p>\n",
       "</div>"
      ],
      "text/plain": [
       "      log_spend  log_click  Automotive  Entertainment  Health Care  \\\n",
       "1234   5.587099   3.951244         0.0            0.0          0.0   \n",
       "22     7.921623   6.408529         0.0            0.0          0.0   \n",
       "60     7.666882   6.437752         0.0            0.0          0.0   \n",
       "815    7.551801   6.656727         0.0            0.0          0.0   \n",
       "267    7.431779   6.659294         0.0            0.0          0.0   \n",
       "\n",
       "      Internet Company  Non-Profit  Pregnancy  Public Health  QSR  \\\n",
       "1234               0.0         0.0        0.0            0.0  0.0   \n",
       "22                 0.0         0.0        0.0            0.0  0.0   \n",
       "60                 0.0         0.0        0.0            0.0  0.0   \n",
       "815                0.0         0.0        0.0            0.0  0.0   \n",
       "267                0.0         0.0        0.0            0.0  0.0   \n",
       "\n",
       "             ...          Travel  Unknown1  CPG  Health  Lead Gen  Loan  \\\n",
       "1234         ...             0.0       1.0  0.0     0.0       0.0   0.0   \n",
       "22           ...             0.0       1.0  0.0     0.0       0.0   0.0   \n",
       "60           ...             0.0       1.0  0.0     0.0       0.0   0.0   \n",
       "815          ...             0.0       1.0  0.0     0.0       0.0   0.0   \n",
       "267          ...             0.0       1.0  0.0     0.0       0.0   0.0   \n",
       "\n",
       "      Movie  Seniors  Unknown2  Workplace & Office  \n",
       "1234    0.0      0.0       1.0                 0.0  \n",
       "22      0.0      0.0       1.0                 0.0  \n",
       "60      0.0      0.0       1.0                 0.0  \n",
       "815     0.0      0.0       1.0                 0.0  \n",
       "267     0.0      0.0       1.0                 0.0  \n",
       "\n",
       "[5 rows x 22 columns]"
      ]
     },
     "execution_count": 68,
     "metadata": {},
     "output_type": "execute_result"
    }
   ],
   "source": [
    "ml_vert_df.head()"
   ]
  },
  {
   "cell_type": "code",
   "execution_count": 70,
   "metadata": {
    "collapsed": false
   },
   "outputs": [
    {
     "data": {
      "text/plain": [
       "LinearRegression(copy_X=True, fit_intercept=True, n_jobs=1, normalize=False)"
      ]
     },
     "execution_count": 70,
     "metadata": {},
     "output_type": "execute_result"
    }
   ],
   "source": [
    "linreg_vert = linear_model.LinearRegression(fit_intercept=True)  # This is the default\n",
    "X_vert = ml_vert_df.copy()\n",
    "X_vert.drop('log_click', axis = 1, inplace = True)\n",
    "y = ml_vert_df.log_click\n",
    "linreg_vert.fit(X_vert, y)"
   ]
  },
  {
   "cell_type": "code",
   "execution_count": 71,
   "metadata": {
    "collapsed": false
   },
   "outputs": [
    {
     "data": {
      "text/html": [
       "<div>\n",
       "<table border=\"1\" class=\"dataframe\">\n",
       "  <thead>\n",
       "    <tr style=\"text-align: right;\">\n",
       "      <th></th>\n",
       "      <th>log_spend</th>\n",
       "      <th>Automotive</th>\n",
       "      <th>Entertainment</th>\n",
       "      <th>Health Care</th>\n",
       "      <th>Internet Company</th>\n",
       "      <th>Non-Profit</th>\n",
       "      <th>Pregnancy</th>\n",
       "      <th>Public Health</th>\n",
       "      <th>QSR</th>\n",
       "      <th>Retail</th>\n",
       "      <th>...</th>\n",
       "      <th>Travel</th>\n",
       "      <th>Unknown1</th>\n",
       "      <th>CPG</th>\n",
       "      <th>Health</th>\n",
       "      <th>Lead Gen</th>\n",
       "      <th>Loan</th>\n",
       "      <th>Movie</th>\n",
       "      <th>Seniors</th>\n",
       "      <th>Unknown2</th>\n",
       "      <th>Workplace &amp; Office</th>\n",
       "    </tr>\n",
       "  </thead>\n",
       "  <tbody>\n",
       "    <tr>\n",
       "      <th>1234</th>\n",
       "      <td>5.587099</td>\n",
       "      <td>0.0</td>\n",
       "      <td>0.0</td>\n",
       "      <td>0.0</td>\n",
       "      <td>0.0</td>\n",
       "      <td>0.0</td>\n",
       "      <td>0.0</td>\n",
       "      <td>0.0</td>\n",
       "      <td>0.0</td>\n",
       "      <td>0.0</td>\n",
       "      <td>...</td>\n",
       "      <td>0.0</td>\n",
       "      <td>1.0</td>\n",
       "      <td>0.0</td>\n",
       "      <td>0.0</td>\n",
       "      <td>0.0</td>\n",
       "      <td>0.0</td>\n",
       "      <td>0.0</td>\n",
       "      <td>0.0</td>\n",
       "      <td>1.0</td>\n",
       "      <td>0.0</td>\n",
       "    </tr>\n",
       "    <tr>\n",
       "      <th>22</th>\n",
       "      <td>7.921623</td>\n",
       "      <td>0.0</td>\n",
       "      <td>0.0</td>\n",
       "      <td>0.0</td>\n",
       "      <td>0.0</td>\n",
       "      <td>0.0</td>\n",
       "      <td>0.0</td>\n",
       "      <td>0.0</td>\n",
       "      <td>0.0</td>\n",
       "      <td>0.0</td>\n",
       "      <td>...</td>\n",
       "      <td>0.0</td>\n",
       "      <td>1.0</td>\n",
       "      <td>0.0</td>\n",
       "      <td>0.0</td>\n",
       "      <td>0.0</td>\n",
       "      <td>0.0</td>\n",
       "      <td>0.0</td>\n",
       "      <td>0.0</td>\n",
       "      <td>1.0</td>\n",
       "      <td>0.0</td>\n",
       "    </tr>\n",
       "    <tr>\n",
       "      <th>60</th>\n",
       "      <td>7.666882</td>\n",
       "      <td>0.0</td>\n",
       "      <td>0.0</td>\n",
       "      <td>0.0</td>\n",
       "      <td>0.0</td>\n",
       "      <td>0.0</td>\n",
       "      <td>0.0</td>\n",
       "      <td>0.0</td>\n",
       "      <td>0.0</td>\n",
       "      <td>0.0</td>\n",
       "      <td>...</td>\n",
       "      <td>0.0</td>\n",
       "      <td>1.0</td>\n",
       "      <td>0.0</td>\n",
       "      <td>0.0</td>\n",
       "      <td>0.0</td>\n",
       "      <td>0.0</td>\n",
       "      <td>0.0</td>\n",
       "      <td>0.0</td>\n",
       "      <td>1.0</td>\n",
       "      <td>0.0</td>\n",
       "    </tr>\n",
       "    <tr>\n",
       "      <th>815</th>\n",
       "      <td>7.551801</td>\n",
       "      <td>0.0</td>\n",
       "      <td>0.0</td>\n",
       "      <td>0.0</td>\n",
       "      <td>0.0</td>\n",
       "      <td>0.0</td>\n",
       "      <td>0.0</td>\n",
       "      <td>0.0</td>\n",
       "      <td>0.0</td>\n",
       "      <td>0.0</td>\n",
       "      <td>...</td>\n",
       "      <td>0.0</td>\n",
       "      <td>1.0</td>\n",
       "      <td>0.0</td>\n",
       "      <td>0.0</td>\n",
       "      <td>0.0</td>\n",
       "      <td>0.0</td>\n",
       "      <td>0.0</td>\n",
       "      <td>0.0</td>\n",
       "      <td>1.0</td>\n",
       "      <td>0.0</td>\n",
       "    </tr>\n",
       "    <tr>\n",
       "      <th>267</th>\n",
       "      <td>7.431779</td>\n",
       "      <td>0.0</td>\n",
       "      <td>0.0</td>\n",
       "      <td>0.0</td>\n",
       "      <td>0.0</td>\n",
       "      <td>0.0</td>\n",
       "      <td>0.0</td>\n",
       "      <td>0.0</td>\n",
       "      <td>0.0</td>\n",
       "      <td>0.0</td>\n",
       "      <td>...</td>\n",
       "      <td>0.0</td>\n",
       "      <td>1.0</td>\n",
       "      <td>0.0</td>\n",
       "      <td>0.0</td>\n",
       "      <td>0.0</td>\n",
       "      <td>0.0</td>\n",
       "      <td>0.0</td>\n",
       "      <td>0.0</td>\n",
       "      <td>1.0</td>\n",
       "      <td>0.0</td>\n",
       "    </tr>\n",
       "  </tbody>\n",
       "</table>\n",
       "<p>5 rows × 21 columns</p>\n",
       "</div>"
      ],
      "text/plain": [
       "      log_spend  Automotive  Entertainment  Health Care  Internet Company  \\\n",
       "1234   5.587099         0.0            0.0          0.0               0.0   \n",
       "22     7.921623         0.0            0.0          0.0               0.0   \n",
       "60     7.666882         0.0            0.0          0.0               0.0   \n",
       "815    7.551801         0.0            0.0          0.0               0.0   \n",
       "267    7.431779         0.0            0.0          0.0               0.0   \n",
       "\n",
       "      Non-Profit  Pregnancy  Public Health  QSR  Retail         ...          \\\n",
       "1234         0.0        0.0            0.0  0.0     0.0         ...           \n",
       "22           0.0        0.0            0.0  0.0     0.0         ...           \n",
       "60           0.0        0.0            0.0  0.0     0.0         ...           \n",
       "815          0.0        0.0            0.0  0.0     0.0         ...           \n",
       "267          0.0        0.0            0.0  0.0     0.0         ...           \n",
       "\n",
       "      Travel  Unknown1  CPG  Health  Lead Gen  Loan  Movie  Seniors  Unknown2  \\\n",
       "1234     0.0       1.0  0.0     0.0       0.0   0.0    0.0      0.0       1.0   \n",
       "22       0.0       1.0  0.0     0.0       0.0   0.0    0.0      0.0       1.0   \n",
       "60       0.0       1.0  0.0     0.0       0.0   0.0    0.0      0.0       1.0   \n",
       "815      0.0       1.0  0.0     0.0       0.0   0.0    0.0      0.0       1.0   \n",
       "267      0.0       1.0  0.0     0.0       0.0   0.0    0.0      0.0       1.0   \n",
       "\n",
       "      Workplace & Office  \n",
       "1234                 0.0  \n",
       "22                   0.0  \n",
       "60                   0.0  \n",
       "815                  0.0  \n",
       "267                  0.0  \n",
       "\n",
       "[5 rows x 21 columns]"
      ]
     },
     "execution_count": 71,
     "metadata": {},
     "output_type": "execute_result"
    }
   ],
   "source": [
    "X_vert.head()"
   ]
  },
  {
   "cell_type": "code",
   "execution_count": 72,
   "metadata": {
    "collapsed": false
   },
   "outputs": [
    {
     "name": "stdout",
     "output_type": "stream",
     "text": [
      "The spend coefficients between log(spend) and log(clicks) (m) is 1.09\n",
      "The in-sample prediction R^2 is 0.7341\n",
      "The mean squared error in model is 0.7210\n"
     ]
    }
   ],
   "source": [
    "print \"The spend coefficients between log(spend) and log(clicks) (m) is %.2f\" % linreg_vert.coef_[0]\n",
    "print \"The in-sample prediction R^2 is %.4f\" % linreg_vert.score(X_vert,y)\n",
    "print \"The mean squared error in model is %.4f\" % metrics.mean_squared_error(y,linreg_vert.predict(X_vert))"
   ]
  },
  {
   "cell_type": "code",
   "execution_count": 73,
   "metadata": {
    "collapsed": false
   },
   "outputs": [],
   "source": [
    "X_vert_only = X_vert.copy()"
   ]
  },
  {
   "cell_type": "code",
   "execution_count": 74,
   "metadata": {
    "collapsed": false
   },
   "outputs": [],
   "source": [
    "X_vert_only.drop(['log_spend'], axis = 1, inplace = True)"
   ]
  },
  {
   "cell_type": "code",
   "execution_count": 75,
   "metadata": {
    "collapsed": false
   },
   "outputs": [
    {
     "data": {
      "text/plain": [
       "2.0    6418\n",
       "1.0     153\n",
       "dtype: int64"
      ]
     },
     "execution_count": 75,
     "metadata": {},
     "output_type": "execute_result"
    }
   ],
   "source": [
    "X_vert_only.sum(axis = 1).value_counts()"
   ]
  },
  {
   "cell_type": "markdown",
   "metadata": {},
   "source": [
    "### 2.2.3 Model 3: (Baseline + vertical + time features) \n",
    "#### aggregate analysis \n",
    "\n",
    "This is to find the probable related time features"
   ]
  },
  {
   "cell_type": "code",
   "execution_count": 77,
   "metadata": {
    "collapsed": true
   },
   "outputs": [],
   "source": [
    "temp = [datetime.strptime(x,\"%Y-%m-%d\") for x in fb_link_df.date_start]\n",
    "fb_link_df.loc[fb_link_df.index,'date_start'] = temp"
   ]
  },
  {
   "cell_type": "markdown",
   "metadata": {},
   "source": [
    "Parse the month, weekday and week for each campaign"
   ]
  },
  {
   "cell_type": "code",
   "execution_count": 78,
   "metadata": {
    "collapsed": false
   },
   "outputs": [],
   "source": [
    "month =[ x.date().month for x in fb_link_df.date_start]\n",
    "weekday =[ x.date().weekday() for x in fb_link_df.date_start]\n",
    "week = [ x.date().isocalendar()[1] for x in fb_link_df.date_start]\n",
    "\n",
    "fb_link_df.loc[fb_link_df.index,'month'] = month\n",
    "fb_link_df.loc[fb_link_df.index,'weekday'] = weekday\n",
    "fb_link_df.loc[fb_link_df.index,'week'] = week\n",
    "\n",
    "Weekday_dict = { 0: 'Mon', 1: 'Tue', 2: 'Wed', 3: 'Thur', 4: 'Fri', 5:'Sat', 6:'Sun'}\n",
    "Month_dict = { 1: 'Jan', 2: 'Feb', 3: 'Mar', 4: 'Apr', 5:'May', 6:'Jun', 7: 'Jul', 8: 'Aug', 9:'Sep', 10:'Oct', 11:'Nov',12: 'Dec'}\n",
    "fb_link_df['month'] = fb_link_df['month'].map(Month_dict)\n",
    "fb_link_df['weekday'] = fb_link_df['weekday'].map(Weekday_dict)"
   ]
  },
  {
   "cell_type": "code",
   "execution_count": 79,
   "metadata": {
    "collapsed": true
   },
   "outputs": [],
   "source": [
    "import seaborn as sns"
   ]
  },
  {
   "cell_type": "markdown",
   "metadata": {},
   "source": [
    "**Monthly Feature**"
   ]
  },
  {
   "cell_type": "code",
   "execution_count": 82,
   "metadata": {
    "collapsed": false
   },
   "outputs": [],
   "source": [
    "vert1_mon_df = fb_link_df.groupby(['vertical','month']).mean().reindex(['Apr','Jun','Jul','Sep','Oct','Nov','Dec'],level = 1)\n",
    "vert2_mon_df = fb_link_df.groupby(['vertical2','month']).mean().reindex(['Apr','Jun','Jul','Sep','Oct','Nov','Dec'],level = 1)\n",
    "\n",
    "vert_mon_df = pd.concat([vert1_mon_df,vert2_mon_df], axis = 0)"
   ]
  },
  {
   "cell_type": "code",
   "execution_count": 86,
   "metadata": {
    "collapsed": false
   },
   "outputs": [],
   "source": [
    "ver_mon_spend_df = vert_mon_df['log_spend'].unstack()\n",
    "ver_mon_click_df = vert_mon_df['log_click'].unstack()\n",
    "ver_mon_ratio_df = ver_mon_click_df/ver_mon_spend_df"
   ]
  },
  {
   "cell_type": "code",
   "execution_count": 97,
   "metadata": {
    "collapsed": false
   },
   "outputs": [
    {
     "data": {
      "text/plain": [
       "<matplotlib.text.Text at 0x12af1fe10>"
      ]
     },
     "execution_count": 97,
     "metadata": {},
     "output_type": "execute_result"
    },
    {
     "data": {
      "image/png": "[encoded data removed]",
      "text/plain": [
       "<matplotlib.figure.Figure at 0x129e3c510>"
      ]
     },
     "metadata": {},
     "output_type": "display_data"
    }
   ],
   "source": [
    "ver_mon_spend_df = ver_mon_spend_df[['Apr','Jun','Jul','Sep','Oct','Nov','Dec']]\n",
    "ver_mon_click_df = ver_mon_click_df[['Apr','Jun','Jul','Sep','Oct','Nov','Dec']]\n",
    "ver_mon_ratio_df = ver_mon_ratio_df[['Apr','Jun','Jul','Sep','Oct','Nov','Dec']]\n",
    "\n",
    "fig, (ax1, ax2) = plt.subplots(2,1, figsize=(10,10))\n",
    "#sns.heatmap(ver_mon_spend_df,annot = True, linewidths=.5, cbar = True, ax = ax1)\n",
    "sns.heatmap(ver_mon_click_df,annot = True, linewidths=.5, cbar = True, center = ver_mon_click_df.mean().mean(), ax = ax1)\n",
    "ax1.set_title('Heatmap of daily clicks (log) every month')\n",
    "sns.heatmap(ver_mon_ratio_df,annot = True, linewidths=.5, cbar = True, center = ver_mon_ratio_df.mean().mean(), ax = ax2)\n",
    "ax2.set_title('Heatmap of daily spend ratio (log_click/log_spend) every month')"
   ]
  },
  {
   "cell_type": "markdown",
   "metadata": {},
   "source": [
    "** Weekday feature**"
   ]
  },
  {
   "cell_type": "code",
   "execution_count": 98,
   "metadata": {
    "collapsed": false
   },
   "outputs": [],
   "source": [
    "vert1_weekday_df = fb_link_df.groupby(['vertical','weekday']).mean()\n",
    "vert2_weekday_df = fb_link_df.groupby(['vertical2','weekday']).mean()\n",
    "\n",
    "vert_weekday_df = pd.concat([vert1_weekday_df,vert2_weekday_df], axis = 0)"
   ]
  },
  {
   "cell_type": "code",
   "execution_count": 99,
   "metadata": {
    "collapsed": true
   },
   "outputs": [],
   "source": [
    "ver_weekday_spend_df = vert_weekday_df['log_spend'].unstack()\n",
    "ver_weekday_click_df = vert_weekday_df['log_click'].unstack()\n",
    "ver_weekday_ratio_df = ver_weekday_click_df/ver_weekday_spend_df"
   ]
  },
  {
   "cell_type": "code",
   "execution_count": 103,
   "metadata": {
    "collapsed": false
   },
   "outputs": [
    {
     "data": {
      "text/plain": [
       "<matplotlib.text.Text at 0x12e6af750>"
      ]
     },
     "execution_count": 103,
     "metadata": {},
     "output_type": "execute_result"
    },
    {
     "data": {
      "image/png": "[encoded data removed]",
      "text/plain": [
       "<matplotlib.figure.Figure at 0x12e14f390>"
      ]
     },
     "metadata": {},
     "output_type": "display_data"
    }
   ],
   "source": [
    "ver_weekday_spend_df = ver_weekday_spend_df[['Mon','Tue','Wed','Thur','Fri','Sat','Sun']]\n",
    "ver_weekday_click_df = ver_weekday_click_df[['Mon','Tue','Wed','Thur','Fri','Sat','Sun']]\n",
    "ver_weekday_ratio_df = ver_weekday_ratio_df[['Mon','Tue','Wed','Thur','Fri','Sat','Sun']]\n",
    "\n",
    "fig, (ax1, ax2) = plt.subplots(2,1, figsize=(10,10))\n",
    "#sns.heatmap(ver_mon_spend_df,annot = True, linewidths=.5, cbar = True, ax = ax1)\n",
    "sns.heatmap(ver_weekday_click_df,annot = True, linewidths=.5, center = ver_weekday_click_df.mean().mean(), cbar = True, ax = ax1)\n",
    "ax1.set_title('Heatmap of daily clicks (log) every week')\n",
    "sns.heatmap(ver_weekday_ratio_df,annot = True, linewidths=.5, center = ver_weekday_ratio_df.mean().mean(), cbar = True, ax = ax2)\n",
    "ax2.set_title('Heatmap of daily spend ratio (log_click/log_spend) every week')"
   ]
  },
  {
   "cell_type": "markdown",
   "metadata": {},
   "source": [
    "**Weekly feature (between Sep and Nov)**"
   ]
  },
  {
   "cell_type": "code",
   "execution_count": 104,
   "metadata": {
    "collapsed": false
   },
   "outputs": [],
   "source": [
    "Sep_Dec_df = fb_link_df.ix[fb_link_df.month.isin(['Sep','Oct','Nov','Dec'])]"
   ]
  },
  {
   "cell_type": "code",
   "execution_count": 108,
   "metadata": {
    "collapsed": false
   },
   "outputs": [],
   "source": [
    "vert1_week_df = Sep_Dec_df.groupby(['vertical','week']).mean()\n",
    "vert2_week_df = Sep_Dec_df.groupby(['vertical2','week']).mean()\n",
    "\n",
    "vert_week_df = pd.concat([vert1_week_df,vert2_week_df], axis = 0)"
   ]
  },
  {
   "cell_type": "code",
   "execution_count": 131,
   "metadata": {
    "collapsed": false
   },
   "outputs": [
    {
     "data": {
      "text/plain": [
       "<matplotlib.lines.Line2D at 0x1431aef90>"
      ]
     },
     "execution_count": 131,
     "metadata": {},
     "output_type": "execute_result"
    },
    {
     "data": {
      "image/png": "[encoded data removed]",
      "text/plain": [
       "<matplotlib.figure.Figure at 0x14202fd10>"
      ]
     },
     "metadata": {},
     "output_type": "display_data"
    }
   ],
   "source": [
    "ver_week_spend_df = vert_week_df['log_spend'].unstack()\n",
    "ver_week_click_df = vert_week_df['log_click'].unstack()\n",
    "ver_week_ratio_df = ver_week_click_df/ver_week_spend_df\n",
    "\n",
    "fig, (ax1, ax2) = plt.subplots(2,1, figsize=(10,10))\n",
    "#sns.heatmap(ver_mon_spend_df,annot = True, linewidths=.5, cbar = True, ax = ax1)\n",
    "sns.heatmap(ver_week_click_df,annot = True, linewidths=.5, center = ver_week_click_df.mean().mean(), cbar = True, ax = ax1)\n",
    "ax1.set_title('Heatmap of daily clicks (log) for weeks between Sep and Nov')\n",
    "ax1.axvline(10, 0, 2, linewidth=3, c='m', linestyle = '--')\n",
    "ax1.axvline(9, 0, 2, linewidth=3, c='m', linestyle = '--')\n",
    "sns.heatmap(ver_week_ratio_df,annot = True, linewidths=.5, center = ver_week_ratio_df.mean().mean(), cbar = True, ax = ax2)\n",
    "ax2.set_title('Heatmap of daily spend ratio (log_click/log_spend) for weeks between Sep and Nov')\n",
    "ax2.axvline(10, 0, 2, linewidth=3, c='m', linestyle = '--')\n",
    "ax2.axvline(9, 0, 2, linewidth=3, c='m', linestyle = '--')"
   ]
  },
  {
   "cell_type": "code",
   "execution_count": 132,
   "metadata": {
    "collapsed": false
   },
   "outputs": [
    {
     "data": {
      "text/plain": [
       "47"
      ]
     },
     "execution_count": 132,
     "metadata": {},
     "output_type": "execute_result"
    }
   ],
   "source": [
    "date(2016,11,24).isocalendar()[1]"
   ]
  },
  {
   "cell_type": "markdown",
   "metadata": {},
   "source": [
    "### 2.2.4 Model 4 : baseline + vertical + month\n",
    "\n",
    "\\begin{equation*}\n",
    "log(Clicks) = m* log(spend)+b_{int}+b_{vert}+ b_{month}\n",
    "\\end{equation*}"
   ]
  },
  {
   "cell_type": "code",
   "execution_count": 134,
   "metadata": {
    "collapsed": true
   },
   "outputs": [],
   "source": [
    "ml_vert_mon_df = fb_link_df[['log_spend','log_click','vertical','vertical2','month']]"
   ]
  },
  {
   "cell_type": "code",
   "execution_count": 136,
   "metadata": {
    "collapsed": false
   },
   "outputs": [],
   "source": [
    "ml_vert_mon_df = pd.concat([ml_vert_mon_df, pd.get_dummies(ml_vert_mon_df.vertical,drop_first=True),pd.get_dummies(ml_vert_mon_df.vertical2,drop_first=True), pd.get_dummies(ml_vert_mon_df.month,drop_first=True)], axis = 1)"
   ]
  },
  {
   "cell_type": "code",
   "execution_count": 138,
   "metadata": {
    "collapsed": false
   },
   "outputs": [],
   "source": [
    "ml_vert_mon_df.drop(['vertical','vertical2','month'], axis = 1, inplace = True)"
   ]
  },
  {
   "cell_type": "code",
   "execution_count": 139,
   "metadata": {
    "collapsed": false
   },
   "outputs": [
    {
     "data": {
      "text/html": [
       "<div>\n",
       "<table border=\"1\" class=\"dataframe\">\n",
       "  <thead>\n",
       "    <tr style=\"text-align: right;\">\n",
       "      <th></th>\n",
       "      <th>log_spend</th>\n",
       "      <th>log_click</th>\n",
       "      <th>Automotive</th>\n",
       "      <th>Entertainment</th>\n",
       "      <th>Health Care</th>\n",
       "      <th>Internet Company</th>\n",
       "      <th>Non-Profit</th>\n",
       "      <th>Pregnancy</th>\n",
       "      <th>Public Health</th>\n",
       "      <th>QSR</th>\n",
       "      <th>...</th>\n",
       "      <th>Seniors</th>\n",
       "      <th>Unknown2</th>\n",
       "      <th>Workplace &amp; Office</th>\n",
       "      <th>Dec</th>\n",
       "      <th>Jul</th>\n",
       "      <th>Jun</th>\n",
       "      <th>May</th>\n",
       "      <th>Nov</th>\n",
       "      <th>Oct</th>\n",
       "      <th>Sep</th>\n",
       "    </tr>\n",
       "  </thead>\n",
       "  <tbody>\n",
       "    <tr>\n",
       "      <th>1234</th>\n",
       "      <td>5.587099</td>\n",
       "      <td>3.951244</td>\n",
       "      <td>0.0</td>\n",
       "      <td>0.0</td>\n",
       "      <td>0.0</td>\n",
       "      <td>0.0</td>\n",
       "      <td>0.0</td>\n",
       "      <td>0.0</td>\n",
       "      <td>0.0</td>\n",
       "      <td>0.0</td>\n",
       "      <td>...</td>\n",
       "      <td>0.0</td>\n",
       "      <td>1.0</td>\n",
       "      <td>0.0</td>\n",
       "      <td>0.0</td>\n",
       "      <td>0.0</td>\n",
       "      <td>0.0</td>\n",
       "      <td>0.0</td>\n",
       "      <td>0.0</td>\n",
       "      <td>0.0</td>\n",
       "      <td>0.0</td>\n",
       "    </tr>\n",
       "    <tr>\n",
       "      <th>22</th>\n",
       "      <td>7.921623</td>\n",
       "      <td>6.408529</td>\n",
       "      <td>0.0</td>\n",
       "      <td>0.0</td>\n",
       "      <td>0.0</td>\n",
       "      <td>0.0</td>\n",
       "      <td>0.0</td>\n",
       "      <td>0.0</td>\n",
       "      <td>0.0</td>\n",
       "      <td>0.0</td>\n",
       "      <td>...</td>\n",
       "      <td>0.0</td>\n",
       "      <td>1.0</td>\n",
       "      <td>0.0</td>\n",
       "      <td>0.0</td>\n",
       "      <td>0.0</td>\n",
       "      <td>0.0</td>\n",
       "      <td>0.0</td>\n",
       "      <td>0.0</td>\n",
       "      <td>0.0</td>\n",
       "      <td>0.0</td>\n",
       "    </tr>\n",
       "    <tr>\n",
       "      <th>60</th>\n",
       "      <td>7.666882</td>\n",
       "      <td>6.437752</td>\n",
       "      <td>0.0</td>\n",
       "      <td>0.0</td>\n",
       "      <td>0.0</td>\n",
       "      <td>0.0</td>\n",
       "      <td>0.0</td>\n",
       "      <td>0.0</td>\n",
       "      <td>0.0</td>\n",
       "      <td>0.0</td>\n",
       "      <td>...</td>\n",
       "      <td>0.0</td>\n",
       "      <td>1.0</td>\n",
       "      <td>0.0</td>\n",
       "      <td>0.0</td>\n",
       "      <td>0.0</td>\n",
       "      <td>0.0</td>\n",
       "      <td>0.0</td>\n",
       "      <td>0.0</td>\n",
       "      <td>0.0</td>\n",
       "      <td>0.0</td>\n",
       "    </tr>\n",
       "    <tr>\n",
       "      <th>815</th>\n",
       "      <td>7.551801</td>\n",
       "      <td>6.656727</td>\n",
       "      <td>0.0</td>\n",
       "      <td>0.0</td>\n",
       "      <td>0.0</td>\n",
       "      <td>0.0</td>\n",
       "      <td>0.0</td>\n",
       "      <td>0.0</td>\n",
       "      <td>0.0</td>\n",
       "      <td>0.0</td>\n",
       "      <td>...</td>\n",
       "      <td>0.0</td>\n",
       "      <td>1.0</td>\n",
       "      <td>0.0</td>\n",
       "      <td>0.0</td>\n",
       "      <td>0.0</td>\n",
       "      <td>0.0</td>\n",
       "      <td>0.0</td>\n",
       "      <td>0.0</td>\n",
       "      <td>0.0</td>\n",
       "      <td>0.0</td>\n",
       "    </tr>\n",
       "    <tr>\n",
       "      <th>267</th>\n",
       "      <td>7.431779</td>\n",
       "      <td>6.659294</td>\n",
       "      <td>0.0</td>\n",
       "      <td>0.0</td>\n",
       "      <td>0.0</td>\n",
       "      <td>0.0</td>\n",
       "      <td>0.0</td>\n",
       "      <td>0.0</td>\n",
       "      <td>0.0</td>\n",
       "      <td>0.0</td>\n",
       "      <td>...</td>\n",
       "      <td>0.0</td>\n",
       "      <td>1.0</td>\n",
       "      <td>0.0</td>\n",
       "      <td>0.0</td>\n",
       "      <td>0.0</td>\n",
       "      <td>0.0</td>\n",
       "      <td>0.0</td>\n",
       "      <td>0.0</td>\n",
       "      <td>0.0</td>\n",
       "      <td>0.0</td>\n",
       "    </tr>\n",
       "  </tbody>\n",
       "</table>\n",
       "<p>5 rows × 29 columns</p>\n",
       "</div>"
      ],
      "text/plain": [
       "      log_spend  log_click  Automotive  Entertainment  Health Care  \\\n",
       "1234   5.587099   3.951244         0.0            0.0          0.0   \n",
       "22     7.921623   6.408529         0.0            0.0          0.0   \n",
       "60     7.666882   6.437752         0.0            0.0          0.0   \n",
       "815    7.551801   6.656727         0.0            0.0          0.0   \n",
       "267    7.431779   6.659294         0.0            0.0          0.0   \n",
       "\n",
       "      Internet Company  Non-Profit  Pregnancy  Public Health  QSR ...   \\\n",
       "1234               0.0         0.0        0.0            0.0  0.0 ...    \n",
       "22                 0.0         0.0        0.0            0.0  0.0 ...    \n",
       "60                 0.0         0.0        0.0            0.0  0.0 ...    \n",
       "815                0.0         0.0        0.0            0.0  0.0 ...    \n",
       "267                0.0         0.0        0.0            0.0  0.0 ...    \n",
       "\n",
       "      Seniors  Unknown2  Workplace & Office  Dec  Jul  Jun  May  Nov  Oct  Sep  \n",
       "1234      0.0       1.0                 0.0  0.0  0.0  0.0  0.0  0.0  0.0  0.0  \n",
       "22        0.0       1.0                 0.0  0.0  0.0  0.0  0.0  0.0  0.0  0.0  \n",
       "60        0.0       1.0                 0.0  0.0  0.0  0.0  0.0  0.0  0.0  0.0  \n",
       "815       0.0       1.0                 0.0  0.0  0.0  0.0  0.0  0.0  0.0  0.0  \n",
       "267       0.0       1.0                 0.0  0.0  0.0  0.0  0.0  0.0  0.0  0.0  \n",
       "\n",
       "[5 rows x 29 columns]"
      ]
     },
     "execution_count": 139,
     "metadata": {},
     "output_type": "execute_result"
    }
   ],
   "source": [
    "ml_vert_mon_df.head()"
   ]
  },
  {
   "cell_type": "code",
   "execution_count": 140,
   "metadata": {
    "collapsed": false
   },
   "outputs": [
    {
     "data": {
      "text/plain": [
       "LinearRegression(copy_X=True, fit_intercept=True, n_jobs=1, normalize=False)"
      ]
     },
     "execution_count": 140,
     "metadata": {},
     "output_type": "execute_result"
    }
   ],
   "source": [
    "linreg_vert_mon = linear_model.LinearRegression(fit_intercept=True)  # This is the default\n",
    "X_vert_mon = ml_vert_mon_df.copy()\n",
    "X_vert_mon.drop('log_click', axis = 1, inplace = True)\n",
    "y = ml_vert_mon_df.log_click\n",
    "linreg_vert_mon.fit(X_vert_mon, y)"
   ]
  },
  {
   "cell_type": "code",
   "execution_count": 142,
   "metadata": {
    "collapsed": false
   },
   "outputs": [
    {
     "name": "stdout",
     "output_type": "stream",
     "text": [
      "The spend coefficients between log(spend) and log(clicks) (m) is 1.12\n",
      "The in-sample prediction R^2 is 0.7382\n",
      "The mean squared error in model is 0.7098\n"
     ]
    }
   ],
   "source": [
    "print \"The spend coefficients between log(spend) and log(clicks) (m) is %.2f\" % linreg_vert_mon.coef_[0]\n",
    "print \"The in-sample prediction R^2 is %.4f\" % linreg_vert_mon.score(X_vert_mon,y)\n",
    "print \"The mean squared error in model is %.4f\" % metrics.mean_squared_error(y,linreg_vert_mon.predict(X_vert_mon))"
   ]
  },
  {
   "cell_type": "markdown",
   "metadata": {},
   "source": [
    "### 2.2.5 Model 4:  Time series analysis"
   ]
  },
  {
   "cell_type": "code",
   "execution_count": 144,
   "metadata": {
    "collapsed": false
   },
   "outputs": [],
   "source": [
    "# Travel campaign : 6054162669769, 6053480042769, 6053235229769\n",
    "travel_camp1 = fb_link_df[fb_link_df.campaign_id == '6054162669769']# Travel\n",
    "travel_camp2 = fb_link_df[fb_link_df.campaign_id == '6053235229769']\n",
    "travel_camp3 = fb_link_df[fb_link_df.campaign_id == '6053480042769']"
   ]
  },
  {
   "cell_type": "code",
   "execution_count": 145,
   "metadata": {
    "collapsed": false
   },
   "outputs": [
    {
     "name": "stdout",
     "output_type": "stream",
     "text": [
      "Visit California\n",
      "Visit California\n",
      "Visit California\n"
     ]
    }
   ],
   "source": [
    "print travel_camp1.name.iloc[0]\n",
    "print travel_camp2.name.iloc[0]\n",
    "print travel_camp3.name.iloc[0]"
   ]
  },
  {
   "cell_type": "code",
   "execution_count": 150,
   "metadata": {
    "collapsed": false
   },
   "outputs": [
    {
     "data": {
      "text/plain": [
       "<matplotlib.text.Text at 0x143fa3710>"
      ]
     },
     "execution_count": 150,
     "metadata": {},
     "output_type": "execute_result"
    },
    {
     "data": {
      "image/png": "[encoded data removed]",
      "text/plain": [
       "<matplotlib.figure.Figure at 0x143577fd0>"
      ]
     },
     "metadata": {},
     "output_type": "display_data"
    }
   ],
   "source": [
    "plt.figure(figsize=(8,6))\n",
    "plt.plot(travel_camp1.date_start,travel_camp1.log_click,'b-',label = 'campaign1-log_click')\n",
    "plt.plot(travel_camp1.date_start,travel_camp1.log_spend,'b--',label = 'campaign1-log_spend')\n",
    "plt.plot(travel_camp2.date_start,travel_camp2.log_click,'g-',label = 'campaign2-log_click')\n",
    "plt.plot(travel_camp2.date_start,travel_camp2.log_spend,'g--',label = 'campaign2-log_spend')\n",
    "plt.plot(travel_camp3.date_start,travel_camp3.log_click,'r-',label = 'campaign3-log_click')\n",
    "plt.plot(travel_camp3.date_start,travel_camp3.log_spend,'r--',label = 'campaign3-log_spend')\n",
    "\n",
    "plt.xlabel('Date')\n",
    "plt.ylabel('log_clicks(log_spend)')\n",
    "plt.legend(loc='best')\n",
    "plt.title('Visit California: log_click vs. log_spend')"
   ]
  },
  {
   "cell_type": "code",
   "execution_count": 151,
   "metadata": {
    "collapsed": false
   },
   "outputs": [
    {
     "data": {
      "text/plain": [
       "<matplotlib.text.Text at 0x14411ffd0>"
      ]
     },
     "execution_count": 151,
     "metadata": {},
     "output_type": "execute_result"
    },
    {
     "data": {
      "image/png": "[encoded data removed]",
      "text/plain": [
       "<matplotlib.figure.Figure at 0x1385b8a90>"
      ]
     },
     "metadata": {},
     "output_type": "display_data"
    }
   ],
   "source": [
    "from pandas.tools.plotting import autocorrelation_plot\n",
    "\n",
    "plt.figure(figsize=(8,6))\n",
    "autocorrelation_plot(travel_camp1['log_click'])\n",
    "autocorrelation_plot(travel_camp2['log_click'])\n",
    "autocorrelation_plot(travel_camp3['log_click'])\n",
    "plt.xlabel('Lag (days)')"
   ]
  },
  {
   "cell_type": "code",
   "execution_count": 152,
   "metadata": {
    "collapsed": false
   },
   "outputs": [],
   "source": [
    "fb_link_df['clicks_prev'] = fb_link_df.groupby(['account_id','campaign_id'])['log_click'].shift(1).fillna(0)"
   ]
  },
  {
   "cell_type": "code",
   "execution_count": 153,
   "metadata": {
    "collapsed": false
   },
   "outputs": [
    {
     "data": {
      "text/html": [
       "<div>\n",
       "<table border=\"1\" class=\"dataframe\">\n",
       "  <thead>\n",
       "    <tr style=\"text-align: right;\">\n",
       "      <th></th>\n",
       "      <th>account_id</th>\n",
       "      <th>name</th>\n",
       "      <th>campaign_id</th>\n",
       "      <th>date_start</th>\n",
       "      <th>objective</th>\n",
       "      <th>vertical</th>\n",
       "      <th>vertical2</th>\n",
       "      <th>log_spend</th>\n",
       "      <th>log_click</th>\n",
       "      <th>month</th>\n",
       "      <th>weekday</th>\n",
       "      <th>week</th>\n",
       "      <th>clicks_prev</th>\n",
       "    </tr>\n",
       "  </thead>\n",
       "  <tbody>\n",
       "    <tr>\n",
       "      <th>1234</th>\n",
       "      <td>1003374119710324</td>\n",
       "      <td>Line Tale 2</td>\n",
       "      <td>6042354718738</td>\n",
       "      <td>2016-04-18 00:00:00</td>\n",
       "      <td>LINK_CLICKS</td>\n",
       "      <td>Unknown1</td>\n",
       "      <td>Unknown2</td>\n",
       "      <td>5.587099</td>\n",
       "      <td>3.951244</td>\n",
       "      <td>Apr</td>\n",
       "      <td>Mon</td>\n",
       "      <td>16</td>\n",
       "      <td>0.000000</td>\n",
       "    </tr>\n",
       "    <tr>\n",
       "      <th>22</th>\n",
       "      <td>1003374119710324</td>\n",
       "      <td>Line Tale 2</td>\n",
       "      <td>6042354718738</td>\n",
       "      <td>2016-04-19 00:00:00</td>\n",
       "      <td>LINK_CLICKS</td>\n",
       "      <td>Unknown1</td>\n",
       "      <td>Unknown2</td>\n",
       "      <td>7.921623</td>\n",
       "      <td>6.408529</td>\n",
       "      <td>Apr</td>\n",
       "      <td>Tue</td>\n",
       "      <td>16</td>\n",
       "      <td>3.951244</td>\n",
       "    </tr>\n",
       "    <tr>\n",
       "      <th>60</th>\n",
       "      <td>1003374119710324</td>\n",
       "      <td>Line Tale 2</td>\n",
       "      <td>6042354718738</td>\n",
       "      <td>2016-04-20 00:00:00</td>\n",
       "      <td>LINK_CLICKS</td>\n",
       "      <td>Unknown1</td>\n",
       "      <td>Unknown2</td>\n",
       "      <td>7.666882</td>\n",
       "      <td>6.437752</td>\n",
       "      <td>Apr</td>\n",
       "      <td>Wed</td>\n",
       "      <td>16</td>\n",
       "      <td>6.408529</td>\n",
       "    </tr>\n",
       "    <tr>\n",
       "      <th>815</th>\n",
       "      <td>1003374119710324</td>\n",
       "      <td>Line Tale 2</td>\n",
       "      <td>6042354718738</td>\n",
       "      <td>2016-04-21 00:00:00</td>\n",
       "      <td>LINK_CLICKS</td>\n",
       "      <td>Unknown1</td>\n",
       "      <td>Unknown2</td>\n",
       "      <td>7.551801</td>\n",
       "      <td>6.656727</td>\n",
       "      <td>Apr</td>\n",
       "      <td>Thur</td>\n",
       "      <td>16</td>\n",
       "      <td>6.437752</td>\n",
       "    </tr>\n",
       "    <tr>\n",
       "      <th>267</th>\n",
       "      <td>1003374119710324</td>\n",
       "      <td>Line Tale 2</td>\n",
       "      <td>6042354718738</td>\n",
       "      <td>2016-04-22 00:00:00</td>\n",
       "      <td>LINK_CLICKS</td>\n",
       "      <td>Unknown1</td>\n",
       "      <td>Unknown2</td>\n",
       "      <td>7.431779</td>\n",
       "      <td>6.659294</td>\n",
       "      <td>Apr</td>\n",
       "      <td>Fri</td>\n",
       "      <td>16</td>\n",
       "      <td>6.656727</td>\n",
       "    </tr>\n",
       "  </tbody>\n",
       "</table>\n",
       "</div>"
      ],
      "text/plain": [
       "            account_id         name    campaign_id           date_start  \\\n",
       "1234  1003374119710324  Line Tale 2  6042354718738  2016-04-18 00:00:00   \n",
       "22    1003374119710324  Line Tale 2  6042354718738  2016-04-19 00:00:00   \n",
       "60    1003374119710324  Line Tale 2  6042354718738  2016-04-20 00:00:00   \n",
       "815   1003374119710324  Line Tale 2  6042354718738  2016-04-21 00:00:00   \n",
       "267   1003374119710324  Line Tale 2  6042354718738  2016-04-22 00:00:00   \n",
       "\n",
       "        objective  vertical vertical2  log_spend  log_click month weekday  \\\n",
       "1234  LINK_CLICKS  Unknown1  Unknown2   5.587099   3.951244   Apr     Mon   \n",
       "22    LINK_CLICKS  Unknown1  Unknown2   7.921623   6.408529   Apr     Tue   \n",
       "60    LINK_CLICKS  Unknown1  Unknown2   7.666882   6.437752   Apr     Wed   \n",
       "815   LINK_CLICKS  Unknown1  Unknown2   7.551801   6.656727   Apr    Thur   \n",
       "267   LINK_CLICKS  Unknown1  Unknown2   7.431779   6.659294   Apr     Fri   \n",
       "\n",
       "      week  clicks_prev  \n",
       "1234    16     0.000000  \n",
       "22      16     3.951244  \n",
       "60      16     6.408529  \n",
       "815     16     6.437752  \n",
       "267     16     6.656727  "
      ]
     },
     "execution_count": 153,
     "metadata": {},
     "output_type": "execute_result"
    }
   ],
   "source": [
    "fb_link_df.head()"
   ]
  },
  {
   "cell_type": "markdown",
   "metadata": {
    "collapsed": false
   },
   "source": [
    "### Model 5: Time Series Model :\n",
    "\n",
    "\\begin{equation*}\n",
    "log(Clicks)_{t} = m* log(spend)_{t}+ n*log(Click)_{t-1} + b_{int} + b_{vert}\n",
    "\\end{equation*}\n"
   ]
  },
  {
   "cell_type": "code",
   "execution_count": 154,
   "metadata": {
    "collapsed": true
   },
   "outputs": [],
   "source": [
    "lag1_vert_df = fb_link_df[['log_spend','log_click','vertical','vertical2','clicks_prev']]"
   ]
  },
  {
   "cell_type": "code",
   "execution_count": 155,
   "metadata": {
    "collapsed": true
   },
   "outputs": [],
   "source": [
    "lag1_vert_df = pd.concat([lag1_vert_df, pd.get_dummies(lag1_vert_df.vertical,drop_first=True),pd.get_dummies(lag1_vert_df.vertical2,drop_first=True)], axis = 1)"
   ]
  },
  {
   "cell_type": "code",
   "execution_count": 157,
   "metadata": {
    "collapsed": false
   },
   "outputs": [],
   "source": [
    "lag1_vert_df.drop(['vertical','vertical2'], axis =1, inplace = True)"
   ]
  },
  {
   "cell_type": "code",
   "execution_count": 158,
   "metadata": {
    "collapsed": false
   },
   "outputs": [
    {
     "data": {
      "text/html": [
       "<div>\n",
       "<table border=\"1\" class=\"dataframe\">\n",
       "  <thead>\n",
       "    <tr style=\"text-align: right;\">\n",
       "      <th></th>\n",
       "      <th>log_spend</th>\n",
       "      <th>log_click</th>\n",
       "      <th>clicks_prev</th>\n",
       "      <th>Automotive</th>\n",
       "      <th>Entertainment</th>\n",
       "      <th>Health Care</th>\n",
       "      <th>Internet Company</th>\n",
       "      <th>Non-Profit</th>\n",
       "      <th>Pregnancy</th>\n",
       "      <th>Public Health</th>\n",
       "      <th>...</th>\n",
       "      <th>Travel</th>\n",
       "      <th>Unknown1</th>\n",
       "      <th>CPG</th>\n",
       "      <th>Health</th>\n",
       "      <th>Lead Gen</th>\n",
       "      <th>Loan</th>\n",
       "      <th>Movie</th>\n",
       "      <th>Seniors</th>\n",
       "      <th>Unknown2</th>\n",
       "      <th>Workplace &amp; Office</th>\n",
       "    </tr>\n",
       "  </thead>\n",
       "  <tbody>\n",
       "    <tr>\n",
       "      <th>1234</th>\n",
       "      <td>5.587099</td>\n",
       "      <td>3.951244</td>\n",
       "      <td>0.000000</td>\n",
       "      <td>0.0</td>\n",
       "      <td>0.0</td>\n",
       "      <td>0.0</td>\n",
       "      <td>0.0</td>\n",
       "      <td>0.0</td>\n",
       "      <td>0.0</td>\n",
       "      <td>0.0</td>\n",
       "      <td>...</td>\n",
       "      <td>0.0</td>\n",
       "      <td>1.0</td>\n",
       "      <td>0.0</td>\n",
       "      <td>0.0</td>\n",
       "      <td>0.0</td>\n",
       "      <td>0.0</td>\n",
       "      <td>0.0</td>\n",
       "      <td>0.0</td>\n",
       "      <td>1.0</td>\n",
       "      <td>0.0</td>\n",
       "    </tr>\n",
       "    <tr>\n",
       "      <th>22</th>\n",
       "      <td>7.921623</td>\n",
       "      <td>6.408529</td>\n",
       "      <td>3.951244</td>\n",
       "      <td>0.0</td>\n",
       "      <td>0.0</td>\n",
       "      <td>0.0</td>\n",
       "      <td>0.0</td>\n",
       "      <td>0.0</td>\n",
       "      <td>0.0</td>\n",
       "      <td>0.0</td>\n",
       "      <td>...</td>\n",
       "      <td>0.0</td>\n",
       "      <td>1.0</td>\n",
       "      <td>0.0</td>\n",
       "      <td>0.0</td>\n",
       "      <td>0.0</td>\n",
       "      <td>0.0</td>\n",
       "      <td>0.0</td>\n",
       "      <td>0.0</td>\n",
       "      <td>1.0</td>\n",
       "      <td>0.0</td>\n",
       "    </tr>\n",
       "    <tr>\n",
       "      <th>60</th>\n",
       "      <td>7.666882</td>\n",
       "      <td>6.437752</td>\n",
       "      <td>6.408529</td>\n",
       "      <td>0.0</td>\n",
       "      <td>0.0</td>\n",
       "      <td>0.0</td>\n",
       "      <td>0.0</td>\n",
       "      <td>0.0</td>\n",
       "      <td>0.0</td>\n",
       "      <td>0.0</td>\n",
       "      <td>...</td>\n",
       "      <td>0.0</td>\n",
       "      <td>1.0</td>\n",
       "      <td>0.0</td>\n",
       "      <td>0.0</td>\n",
       "      <td>0.0</td>\n",
       "      <td>0.0</td>\n",
       "      <td>0.0</td>\n",
       "      <td>0.0</td>\n",
       "      <td>1.0</td>\n",
       "      <td>0.0</td>\n",
       "    </tr>\n",
       "    <tr>\n",
       "      <th>815</th>\n",
       "      <td>7.551801</td>\n",
       "      <td>6.656727</td>\n",
       "      <td>6.437752</td>\n",
       "      <td>0.0</td>\n",
       "      <td>0.0</td>\n",
       "      <td>0.0</td>\n",
       "      <td>0.0</td>\n",
       "      <td>0.0</td>\n",
       "      <td>0.0</td>\n",
       "      <td>0.0</td>\n",
       "      <td>...</td>\n",
       "      <td>0.0</td>\n",
       "      <td>1.0</td>\n",
       "      <td>0.0</td>\n",
       "      <td>0.0</td>\n",
       "      <td>0.0</td>\n",
       "      <td>0.0</td>\n",
       "      <td>0.0</td>\n",
       "      <td>0.0</td>\n",
       "      <td>1.0</td>\n",
       "      <td>0.0</td>\n",
       "    </tr>\n",
       "    <tr>\n",
       "      <th>267</th>\n",
       "      <td>7.431779</td>\n",
       "      <td>6.659294</td>\n",
       "      <td>6.656727</td>\n",
       "      <td>0.0</td>\n",
       "      <td>0.0</td>\n",
       "      <td>0.0</td>\n",
       "      <td>0.0</td>\n",
       "      <td>0.0</td>\n",
       "      <td>0.0</td>\n",
       "      <td>0.0</td>\n",
       "      <td>...</td>\n",
       "      <td>0.0</td>\n",
       "      <td>1.0</td>\n",
       "      <td>0.0</td>\n",
       "      <td>0.0</td>\n",
       "      <td>0.0</td>\n",
       "      <td>0.0</td>\n",
       "      <td>0.0</td>\n",
       "      <td>0.0</td>\n",
       "      <td>1.0</td>\n",
       "      <td>0.0</td>\n",
       "    </tr>\n",
       "  </tbody>\n",
       "</table>\n",
       "<p>5 rows × 23 columns</p>\n",
       "</div>"
      ],
      "text/plain": [
       "      log_spend  log_click  clicks_prev  Automotive  Entertainment  \\\n",
       "1234   5.587099   3.951244     0.000000         0.0            0.0   \n",
       "22     7.921623   6.408529     3.951244         0.0            0.0   \n",
       "60     7.666882   6.437752     6.408529         0.0            0.0   \n",
       "815    7.551801   6.656727     6.437752         0.0            0.0   \n",
       "267    7.431779   6.659294     6.656727         0.0            0.0   \n",
       "\n",
       "      Health Care  Internet Company  Non-Profit  Pregnancy  Public Health  \\\n",
       "1234          0.0               0.0         0.0        0.0            0.0   \n",
       "22            0.0               0.0         0.0        0.0            0.0   \n",
       "60            0.0               0.0         0.0        0.0            0.0   \n",
       "815           0.0               0.0         0.0        0.0            0.0   \n",
       "267           0.0               0.0         0.0        0.0            0.0   \n",
       "\n",
       "             ...          Travel  Unknown1  CPG  Health  Lead Gen  Loan  \\\n",
       "1234         ...             0.0       1.0  0.0     0.0       0.0   0.0   \n",
       "22           ...             0.0       1.0  0.0     0.0       0.0   0.0   \n",
       "60           ...             0.0       1.0  0.0     0.0       0.0   0.0   \n",
       "815          ...             0.0       1.0  0.0     0.0       0.0   0.0   \n",
       "267          ...             0.0       1.0  0.0     0.0       0.0   0.0   \n",
       "\n",
       "      Movie  Seniors  Unknown2  Workplace & Office  \n",
       "1234    0.0      0.0       1.0                 0.0  \n",
       "22      0.0      0.0       1.0                 0.0  \n",
       "60      0.0      0.0       1.0                 0.0  \n",
       "815     0.0      0.0       1.0                 0.0  \n",
       "267     0.0      0.0       1.0                 0.0  \n",
       "\n",
       "[5 rows x 23 columns]"
      ]
     },
     "execution_count": 158,
     "metadata": {},
     "output_type": "execute_result"
    }
   ],
   "source": [
    "lag1_vert_df.head()"
   ]
  },
  {
   "cell_type": "code",
   "execution_count": 159,
   "metadata": {
    "collapsed": false
   },
   "outputs": [],
   "source": [
    "linreg_lag1 = linear_model.LinearRegression(fit_intercept=True)  # This is the default\n",
    "X_lag1 = lag1_vert_df.copy()\n",
    "X_lag1.drop('log_click', axis = 1, inplace = True)\n",
    "y = lag1_vert_df.log_click"
   ]
  },
  {
   "cell_type": "code",
   "execution_count": 160,
   "metadata": {
    "collapsed": false
   },
   "outputs": [
    {
     "data": {
      "text/plain": [
       "LinearRegression(copy_X=True, fit_intercept=True, n_jobs=1, normalize=False)"
      ]
     },
     "execution_count": 160,
     "metadata": {},
     "output_type": "execute_result"
    }
   ],
   "source": [
    "linreg_lag1.fit(X_lag1, y)"
   ]
  },
  {
   "cell_type": "code",
   "execution_count": 162,
   "metadata": {
    "collapsed": false
   },
   "outputs": [
    {
     "name": "stdout",
     "output_type": "stream",
     "text": [
      "The spend coefficients between log(spend) and log(clicks) (m) is 0.59\n",
      "The auto-regression coefficients (n) is 0.50\n",
      "The in-sample prediction R^2 is 0.8590\n",
      "The mean squared error in model is 0.3822\n"
     ]
    }
   ],
   "source": [
    "print \"The spend coefficients between log(spend) and log(clicks) (m) is %.2f\" % linreg_lag1.coef_[0]\n",
    "print \"The auto-regression coefficients (n) is %.2f\" % linreg_lag1.coef_[1]\n",
    "print \"The in-sample prediction R^2 is %.4f\" % linreg_lag1.score(X_lag1,y)\n",
    "print \"The mean squared error in model is %.4f\" % metrics.mean_squared_error(y,linreg_lag1.predict(X_lag1))"
   ]
  },
  {
   "cell_type": "markdown",
   "metadata": {},
   "source": [
    "## Part 3 : Model Validation and other classifers"
   ]
  },
  {
   "cell_type": "code",
   "execution_count": 183,
   "metadata": {
    "collapsed": false
   },
   "outputs": [],
   "source": [
    "from sklearn.ensemble import RandomForestRegressor\n",
    "from sklearn.metrics import r2_score, mean_squared_error"
   ]
  },
  {
   "cell_type": "markdown",
   "metadata": {},
   "source": [
    "### Baseline Model :"
   ]
  },
  {
   "cell_type": "code",
   "execution_count": 185,
   "metadata": {
    "collapsed": false
   },
   "outputs": [],
   "source": [
    "X_base = fb_link_df.log_spend.reshape(-1,1)\n",
    "y = fb_link_df.log_click\n",
    "X_train, X_test, y_train, y_test = cross_validation.train_test_split(X_base, y, test_size=0.3)"
   ]
  },
  {
   "cell_type": "code",
   "execution_count": 186,
   "metadata": {
    "collapsed": false
   },
   "outputs": [
    {
     "data": {
      "text/plain": [
       "LinearRegression(copy_X=True, fit_intercept=True, n_jobs=1, normalize=False)"
      ]
     },
     "execution_count": 186,
     "metadata": {},
     "output_type": "execute_result"
    }
   ],
   "source": [
    "RFR_base = RandomForestRegressor()# This is the default\n",
    "Lin_base = linear_model.LinearRegression(fit_intercept=True)\n",
    "\n",
    "RFR_base.fit(X_train, y_train)\n",
    "Lin_base.fit(X_train, y_train)"
   ]
  },
  {
   "cell_type": "code",
   "execution_count": 187,
   "metadata": {
    "collapsed": false
   },
   "outputs": [
    {
     "name": "stdout",
     "output_type": "stream",
     "text": [
      "0.643046670131\n",
      "0.682101548934\n"
     ]
    }
   ],
   "source": [
    "print r2_score(y_test, RFR_base.predict(X_test))\n",
    "print r2_score(y_test, Lin_base.predict(X_test))"
   ]
  },
  {
   "cell_type": "code",
   "execution_count": 188,
   "metadata": {
    "collapsed": false
   },
   "outputs": [
    {
     "name": "stdout",
     "output_type": "stream",
     "text": [
      "0.962347125052\n",
      "0.857055068107\n"
     ]
    }
   ],
   "source": [
    "print mean_squared_error(y_test, RFR_base.predict(X_test))\n",
    "print mean_squared_error(y_test, Lin_base.predict(X_test))"
   ]
  },
  {
   "cell_type": "markdown",
   "metadata": {},
   "source": [
    "### Vertical Model :"
   ]
  },
  {
   "cell_type": "code",
   "execution_count": 189,
   "metadata": {
    "collapsed": false
   },
   "outputs": [],
   "source": [
    "X_vert = ml_vert_df.copy()\n",
    "X_vert.drop('log_click', axis = 1, inplace = True)\n",
    "y = ml_vert_df.log_click\n",
    "X_train, X_test, y_train, y_test = cross_validation.train_test_split(X_vert, y, test_size=0.3)"
   ]
  },
  {
   "cell_type": "code",
   "execution_count": 190,
   "metadata": {
    "collapsed": false
   },
   "outputs": [
    {
     "data": {
      "text/plain": [
       "LinearRegression(copy_X=True, fit_intercept=True, n_jobs=1, normalize=False)"
      ]
     },
     "execution_count": 190,
     "metadata": {},
     "output_type": "execute_result"
    }
   ],
   "source": [
    "RFR_vert = RandomForestRegressor()# This is the default\n",
    "Lin_vert = linear_model.LinearRegression(fit_intercept=True)\n",
    "\n",
    "RFR_vert.fit(X_train, y_train)\n",
    "Lin_vert.fit(X_train, y_train)"
   ]
  },
  {
   "cell_type": "code",
   "execution_count": 191,
   "metadata": {
    "collapsed": false
   },
   "outputs": [
    {
     "name": "stdout",
     "output_type": "stream",
     "text": [
      "0.74853396186\n",
      "0.725096423245\n"
     ]
    }
   ],
   "source": [
    "print r2_score(y_test, RFR_vert.predict(X_test))\n",
    "print r2_score(y_test, Lin_vert.predict(X_test))"
   ]
  },
  {
   "cell_type": "code",
   "execution_count": 192,
   "metadata": {
    "collapsed": false
   },
   "outputs": [
    {
     "name": "stdout",
     "output_type": "stream",
     "text": [
      "0.666977181903\n",
      "0.729141852613\n"
     ]
    }
   ],
   "source": [
    "print mean_squared_error(y_test, RFR_vert.predict(X_test))\n",
    "print mean_squared_error(y_test, Lin_vert.predict(X_test))"
   ]
  },
  {
   "cell_type": "markdown",
   "metadata": {},
   "source": [
    "### Time series + Vertical Model :"
   ]
  },
  {
   "cell_type": "code",
   "execution_count": 194,
   "metadata": {
    "collapsed": true
   },
   "outputs": [],
   "source": [
    "X_lag1 = lag1_vert_df.copy()\n",
    "X_lag1.drop('log_click', axis = 1, inplace = True)\n",
    "y = lag1_vert_df.log_click\n",
    "X_train, X_test, y_train, y_test = cross_validation.train_test_split(X_lag1, y, test_size=0.3)"
   ]
  },
  {
   "cell_type": "code",
   "execution_count": 195,
   "metadata": {
    "collapsed": false
   },
   "outputs": [
    {
     "data": {
      "text/plain": [
       "LinearRegression(copy_X=True, fit_intercept=True, n_jobs=1, normalize=False)"
      ]
     },
     "execution_count": 195,
     "metadata": {},
     "output_type": "execute_result"
    }
   ],
   "source": [
    "RFR_lag1 = RandomForestRegressor()# This is the default\n",
    "Lin_lag1 = linear_model.LinearRegression(fit_intercept=True)\n",
    "\n",
    "RFR_lag1.fit(X_train, y_train)\n",
    "Lin_lag1.fit(X_train, y_train)"
   ]
  },
  {
   "cell_type": "code",
   "execution_count": 196,
   "metadata": {
    "collapsed": false
   },
   "outputs": [
    {
     "name": "stdout",
     "output_type": "stream",
     "text": [
      "0.940281892292\n",
      "0.872841761109\n"
     ]
    }
   ],
   "source": [
    "print r2_score(y_test, RFR_lag1.predict(X_test))\n",
    "print r2_score(y_test, Lin_lag1.predict(X_test))"
   ]
  },
  {
   "cell_type": "code",
   "execution_count": 197,
   "metadata": {
    "collapsed": false
   },
   "outputs": [
    {
     "name": "stdout",
     "output_type": "stream",
     "text": [
      "0.172222112306\n",
      "0.366713905373\n"
     ]
    }
   ],
   "source": [
    "print mean_squared_error(y_test, RFR_lag1.predict(X_test))\n",
    "print mean_squared_error(y_test, Lin_lag1.predict(X_test))"
   ]
  },
  {
   "cell_type": "code",
   "execution_count": 181,
   "metadata": {
    "collapsed": false
   },
   "outputs": [
    {
     "data": {
      "text/plain": [
       "Unknown1            3460\n",
       "Internet Company    1197\n",
       "Travel              1039\n",
       "Health Care          449\n",
       "Retail               248\n",
       "Pregnancy             54\n",
       "Entertainment         52\n",
       "Non-Profit            25\n",
       "QSR                   17\n",
       "Automotive            11\n",
       "Technology            10\n",
       "Public Health          6\n",
       "Advertising            3\n",
       "Name: vertical, dtype: int64"
      ]
     },
     "execution_count": 181,
     "metadata": {},
     "output_type": "execute_result"
    }
   ],
   "source": [
    "fb_link_df.vertical.value_counts()"
   ]
  },
  {
   "cell_type": "code",
   "execution_count": null,
   "metadata": {
    "collapsed": true
   },
   "outputs": [],
   "source": []
  }
 ],
 "metadata": {
  "anaconda-cloud": {},
  "kernelspec": {
   "display_name": "Python [Root]",
   "language": "python",
   "name": "Python [Root]"
  },
  "language_info": {
   "codemirror_mode": {
    "name": "ipython",
    "version": 2
   },
   "file_extension": ".py",
   "mimetype": "text/x-python",
   "name": "python",
   "nbconvert_exporter": "python",
   "pygments_lexer": "ipython2",
   "version": "2.7.12"
  }
 },
 "nbformat": 4,
 "nbformat_minor": 0
}
