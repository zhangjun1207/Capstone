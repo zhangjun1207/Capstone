{
 "cells": [
  {
   "cell_type": "markdown",
   "metadata": {},
   "source": [
    "# HYFN Capstone Project \n",
    "## --- Prediction of engagements in advertisement campaign"
   ]
  },
  {
   "cell_type": "markdown",
   "metadata": {},
   "source": [
    "### Part 1: Data preparation\n",
    "\n",
    "In this project, I am using the PostgreSQL interface in Python to access the database on cluster. Since I am focusing on the modeling of campaign level, the table I am interested are :  \n",
    "1. facebook_daily_campaign_stats  \n",
    "2. fb_ads_campaign_groups\n",
    "3. fb_ads_accounts\n",
    "\n",
    "Table 1 and 2 are first joined by column \"campaign_id\", the combined table are then joined with table 3 by column \"account_id\". "
   ]
  },
  {
   "cell_type": "code",
   "execution_count": 1,
   "metadata": {
    "collapsed": true
   },
   "outputs": [],
   "source": [
    "#!/usr/bin/python\n",
    "#-*- coding: utf-8 -*-\n",
    "import pandas as pd\n",
    "import numpy as np\n",
    "\n",
    "import matplotlib\n",
    "import seaborn as sns\n",
    "import matplotlib.pyplot as plt\n",
    "%matplotlib inline\n",
    "\n",
    "from datetime import datetime, timedelta\n",
    "import matplotlib.dates as mdates"
   ]
  },
  {
   "cell_type": "code",
   "execution_count": 2,
   "metadata": {
    "collapsed": false
   },
   "outputs": [],
   "source": [
    "fb_daily_campaign_stats_df = pd.read_csv('fb_daily_campaign_stats')\n",
    "fb_campaign_groups_df = pd.read_csv('fb_campaign_groups')\n",
    "fb_ads_accounts_df = pd.read_csv('fb_ads_accounts')"
   ]
  },
  {
   "cell_type": "code",
   "execution_count": 3,
   "metadata": {
    "collapsed": true
   },
   "outputs": [],
   "source": [
    "stats_group_merge = pd.merge(fb_daily_campaign_stats_df,fb_campaign_groups_df[['service_id','objective','account_id']], how = 'left', left_on = 'campaign_id', right_on = 'service_id')"
   ]
  },
  {
   "cell_type": "code",
   "execution_count": 4,
   "metadata": {
    "collapsed": false
   },
   "outputs": [],
   "source": [
    "all_merge = pd.merge(stats_group_merge, fb_ads_accounts_df[['id','name','account_id']], how = 'left', left_on = 'account_id', right_on = 'id')"
   ]
  },
  {
   "cell_type": "code",
   "execution_count": 5,
   "metadata": {
    "collapsed": false
   },
   "outputs": [],
   "source": [
    "fb_campaign_df = all_merge"
   ]
  },
  {
   "cell_type": "markdown",
   "metadata": {},
   "source": [
    "** Table summaries**  \n",
    "The table \"fb_daily_campaign_stats\" has 46829 rows in total. However, only 20786 ones have valid \"account_id\" and associated \"objective\" after joining.   \n",
    "We will also only look at the campaign records with objective \"LINK_CLICKS\", since our aim is to model the relationship between \"spend\" and \"website click\". Ad campaign with other objectives may have significantly non-proportional relation between these two variables. The final data point is 6865.  \n",
    "\n",
    "Example of final data table is named \"fb_link_df\" and sample rows are also given below."
   ]
  },
  {
   "cell_type": "code",
   "execution_count": 6,
   "metadata": {
    "collapsed": false
   },
   "outputs": [],
   "source": [
    "select_cols = ['account_id_y','name','campaign_id','date_start','spend','inline_link_clicks','objective']\n",
    "fb_df = fb_campaign_df[select_cols]\n",
    "fb_df.columns = ['account_id','name','campaign_id','date_start','spend','link_clicks','objective']\n",
    "fb_link_df = fb_df[fb_df.objective == 'LINK_CLICKS']"
   ]
  },
  {
   "cell_type": "code",
   "execution_count": 7,
   "metadata": {
    "collapsed": false
   },
   "outputs": [
    {
     "name": "stderr",
     "output_type": "stream",
     "text": [
      "/Applications/anaconda/lib/python2.7/site-packages/pandas/core/indexing.py:465: SettingWithCopyWarning: \n",
      "A value is trying to be set on a copy of a slice from a DataFrame.\n",
      "Try using .loc[row_indexer,col_indexer] = value instead\n",
      "\n",
      "See the caveats in the documentation: http://pandas.pydata.org/pandas-docs/stable/indexing.html#indexing-view-versus-copy\n",
      "  self.obj[item] = s\n"
     ]
    }
   ],
   "source": [
    "# Convert account_id & campaign_id to string\n",
    "temp = ['{:.0f}'.format(x) for x in fb_link_df.campaign_id]\n",
    "fb_link_df.loc[fb_link_df.index,'campaign_id'] = temp\n",
    "temp = ['{:.0f}'.format(x) for x in fb_link_df.account_id]\n",
    "fb_link_df.loc[fb_link_df.index,'account_id'] = temp"
   ]
  },
  {
   "cell_type": "code",
   "execution_count": 8,
   "metadata": {
    "collapsed": false
   },
   "outputs": [],
   "source": [
    "fb_link_df = fb_link_df[fb_link_df.spend > 0]\n",
    "fb_link_df = fb_link_df[fb_link_df.link_clicks > 0]"
   ]
  },
  {
   "cell_type": "markdown",
   "metadata": {},
   "source": [
    "** Sample table content:**"
   ]
  },
  {
   "cell_type": "code",
   "execution_count": 9,
   "metadata": {
    "collapsed": false
   },
   "outputs": [
    {
     "data": {
      "text/html": [
       "<div>\n",
       "<table border=\"1\" class=\"dataframe\">\n",
       "  <thead>\n",
       "    <tr style=\"text-align: right;\">\n",
       "      <th></th>\n",
       "      <th>account_id</th>\n",
       "      <th>name</th>\n",
       "      <th>campaign_id</th>\n",
       "      <th>date_start</th>\n",
       "      <th>spend</th>\n",
       "      <th>link_clicks</th>\n",
       "      <th>objective</th>\n",
       "    </tr>\n",
       "  </thead>\n",
       "  <tbody>\n",
       "    <tr>\n",
       "      <th>0</th>\n",
       "      <td>1012201575494245</td>\n",
       "      <td>Target</td>\n",
       "      <td>6047406179103</td>\n",
       "      <td>2016-05-18</td>\n",
       "      <td>60.55</td>\n",
       "      <td>15.0</td>\n",
       "      <td>LINK_CLICKS</td>\n",
       "    </tr>\n",
       "    <tr>\n",
       "      <th>50</th>\n",
       "      <td>345009516</td>\n",
       "      <td>All Clients - LIN Digital</td>\n",
       "      <td>6051253714720</td>\n",
       "      <td>2016-09-20</td>\n",
       "      <td>16.67</td>\n",
       "      <td>52.0</td>\n",
       "      <td>LINK_CLICKS</td>\n",
       "    </tr>\n",
       "    <tr>\n",
       "      <th>51</th>\n",
       "      <td>345009516</td>\n",
       "      <td>All Clients - LIN Digital</td>\n",
       "      <td>6049742187920</td>\n",
       "      <td>2016-09-20</td>\n",
       "      <td>50.32</td>\n",
       "      <td>22.0</td>\n",
       "      <td>LINK_CLICKS</td>\n",
       "    </tr>\n",
       "    <tr>\n",
       "      <th>53</th>\n",
       "      <td>345009516</td>\n",
       "      <td>All Clients - LIN Digital</td>\n",
       "      <td>6047731536920</td>\n",
       "      <td>2016-09-20</td>\n",
       "      <td>14.39</td>\n",
       "      <td>51.0</td>\n",
       "      <td>LINK_CLICKS</td>\n",
       "    </tr>\n",
       "    <tr>\n",
       "      <th>54</th>\n",
       "      <td>345009516</td>\n",
       "      <td>All Clients - LIN Digital</td>\n",
       "      <td>6046540842520</td>\n",
       "      <td>2016-09-20</td>\n",
       "      <td>11.93</td>\n",
       "      <td>9.0</td>\n",
       "      <td>LINK_CLICKS</td>\n",
       "    </tr>\n",
       "  </tbody>\n",
       "</table>\n",
       "</div>"
      ],
      "text/plain": [
       "          account_id                       name    campaign_id  date_start  \\\n",
       "0   1012201575494245                     Target  6047406179103  2016-05-18   \n",
       "50         345009516  All Clients - LIN Digital  6051253714720  2016-09-20   \n",
       "51         345009516  All Clients - LIN Digital  6049742187920  2016-09-20   \n",
       "53         345009516  All Clients - LIN Digital  6047731536920  2016-09-20   \n",
       "54         345009516  All Clients - LIN Digital  6046540842520  2016-09-20   \n",
       "\n",
       "    spend  link_clicks    objective  \n",
       "0   60.55         15.0  LINK_CLICKS  \n",
       "50  16.67         52.0  LINK_CLICKS  \n",
       "51  50.32         22.0  LINK_CLICKS  \n",
       "53  14.39         51.0  LINK_CLICKS  \n",
       "54  11.93          9.0  LINK_CLICKS  "
      ]
     },
     "execution_count": 9,
     "metadata": {},
     "output_type": "execute_result"
    }
   ],
   "source": [
    "fb_link_df.head()"
   ]
  },
  {
   "cell_type": "markdown",
   "metadata": {},
   "source": [
    "**Table summary:**"
   ]
  },
  {
   "cell_type": "code",
   "execution_count": 10,
   "metadata": {
    "collapsed": false
   },
   "outputs": [
    {
     "name": "stdout",
     "output_type": "stream",
     "text": [
      "Total number of account : 32\n",
      "Total number of campaign: 194\n",
      "The time frame is from 2016-04-18 to 2016-12-20\n"
     ]
    }
   ],
   "source": [
    "num_account = fb_link_df.account_id.value_counts().shape\n",
    "num_campaign = fb_link_df.campaign_id.value_counts().shape\n",
    "\n",
    "print 'Total number of account : %i\\nTotal number of campaign: %i' %(num_account[0], num_campaign[0])\n",
    "print 'The time frame is from %s to %s' %(min(fb_link_df.date_start),max(fb_link_df.date_start))"
   ]
  },
  {
   "cell_type": "markdown",
   "metadata": {},
   "source": [
    "** Add in vertical information **"
   ]
  },
  {
   "cell_type": "code",
   "execution_count": 11,
   "metadata": {
    "collapsed": false
   },
   "outputs": [],
   "source": [
    "account_vertical_df = pd.read_csv('Hyfn_account_vertical_key.csv')"
   ]
  },
  {
   "cell_type": "code",
   "execution_count": 12,
   "metadata": {
    "collapsed": false
   },
   "outputs": [],
   "source": [
    "temp = ['{:.0f}'.format(x) for x in account_vertical_df.account_id]\n",
    "account_vertical_df.loc[account_vertical_df.index,'account_id'] = temp"
   ]
  },
  {
   "cell_type": "code",
   "execution_count": 13,
   "metadata": {
    "collapsed": false
   },
   "outputs": [
    {
     "data": {
      "text/html": [
       "<div>\n",
       "<table border=\"1\" class=\"dataframe\">\n",
       "  <thead>\n",
       "    <tr style=\"text-align: right;\">\n",
       "      <th></th>\n",
       "      <th>name</th>\n",
       "      <th>account_id</th>\n",
       "      <th>vertical</th>\n",
       "      <th>vertical2</th>\n",
       "    </tr>\n",
       "  </thead>\n",
       "  <tbody>\n",
       "    <tr>\n",
       "      <th>0</th>\n",
       "      <td>Usher Security</td>\n",
       "      <td>1011716032209460</td>\n",
       "      <td>Internet Company</td>\n",
       "      <td>Workplace &amp; Office</td>\n",
       "    </tr>\n",
       "    <tr>\n",
       "      <th>1</th>\n",
       "      <td>Gogobot</td>\n",
       "      <td>1003305413050520</td>\n",
       "      <td>Travel</td>\n",
       "      <td>NaN</td>\n",
       "    </tr>\n",
       "    <tr>\n",
       "      <th>2</th>\n",
       "      <td>QuikTrip</td>\n",
       "      <td>1012680412113020</td>\n",
       "      <td>Convenience Store</td>\n",
       "      <td>NaN</td>\n",
       "    </tr>\n",
       "    <tr>\n",
       "      <th>3</th>\n",
       "      <td>Ashford University</td>\n",
       "      <td>1017974154916980</td>\n",
       "      <td>Education</td>\n",
       "      <td>Lead Gen</td>\n",
       "    </tr>\n",
       "    <tr>\n",
       "      <th>4</th>\n",
       "      <td>Visit California</td>\n",
       "      <td>868189209895483</td>\n",
       "      <td>Travel</td>\n",
       "      <td>NaN</td>\n",
       "    </tr>\n",
       "  </tbody>\n",
       "</table>\n",
       "</div>"
      ],
      "text/plain": [
       "                 name        account_id           vertical           vertical2\n",
       "0      Usher Security  1011716032209460   Internet Company  Workplace & Office\n",
       "1             Gogobot  1003305413050520             Travel                 NaN\n",
       "2            QuikTrip  1012680412113020  Convenience Store                 NaN\n",
       "3  Ashford University  1017974154916980          Education            Lead Gen\n",
       "4    Visit California   868189209895483             Travel                 NaN"
      ]
     },
     "execution_count": 13,
     "metadata": {},
     "output_type": "execute_result"
    }
   ],
   "source": [
    "account_vertical_df.head()"
   ]
  },
  {
   "cell_type": "code",
   "execution_count": 14,
   "metadata": {
    "collapsed": true
   },
   "outputs": [],
   "source": [
    "fb_link_df = pd.merge(fb_link_df, account_vertical_df[['account_id','vertical','vertical2']], how = 'left', left_on = 'account_id', right_on = 'account_id')"
   ]
  },
  {
   "cell_type": "code",
   "execution_count": 15,
   "metadata": {
    "collapsed": false
   },
   "outputs": [],
   "source": [
    "fb_link_df.sort_values(['account_id','campaign_id','date_start'], inplace = True)"
   ]
  },
  {
   "cell_type": "code",
   "execution_count": 16,
   "metadata": {
    "collapsed": false
   },
   "outputs": [
    {
     "name": "stdout",
     "output_type": "stream",
     "text": [
      "<class 'pandas.core.frame.DataFrame'>\n",
      "Int64Index: 6668 entries, 1256 to 4319\n",
      "Data columns (total 9 columns):\n",
      "account_id     6668 non-null object\n",
      "name           6668 non-null object\n",
      "campaign_id    6668 non-null object\n",
      "date_start     6668 non-null object\n",
      "spend          6668 non-null float64\n",
      "link_clicks    6668 non-null float64\n",
      "objective      6668 non-null object\n",
      "vertical       3132 non-null object\n",
      "vertical2      1847 non-null object\n",
      "dtypes: float64(2), object(7)\n",
      "memory usage: 520.9+ KB\n"
     ]
    }
   ],
   "source": [
    "fb_link_df.info()"
   ]
  },
  {
   "cell_type": "markdown",
   "metadata": {},
   "source": [
    "### Part 2: Data modeling \n",
    "### 2.1 Ex post model"
   ]
  },
  {
   "cell_type": "markdown",
   "metadata": {},
   "source": [
    "1.Convert \"campaign_id\" into category data(dummy variables)"
   ]
  },
  {
   "cell_type": "code",
   "execution_count": 17,
   "metadata": {
    "collapsed": false
   },
   "outputs": [],
   "source": [
    "link_ml_df = pd.concat([fb_link_df, pd.get_dummies(fb_link_df.campaign_id,drop_first=True)], axis = 1)"
   ]
  },
  {
   "cell_type": "markdown",
   "metadata": {},
   "source": [
    "2.Transform \"spend\" and \"inline_link_clicks\" into logrithmic scale"
   ]
  },
  {
   "cell_type": "code",
   "execution_count": 18,
   "metadata": {
    "collapsed": false
   },
   "outputs": [],
   "source": [
    "link_ml_df.loc[link_ml_df.index,'log_spend'] = np.log(link_ml_df.spend)\n",
    "link_ml_df.loc[link_ml_df.index,'log_click'] = np.log(link_ml_df.link_clicks)"
   ]
  },
  {
   "cell_type": "markdown",
   "metadata": {},
   "source": [
    "3.Drop the redundant columns"
   ]
  },
  {
   "cell_type": "code",
   "execution_count": 19,
   "metadata": {
    "collapsed": false
   },
   "outputs": [
    {
     "data": {
      "text/html": [
       "<div>\n",
       "<table border=\"1\" class=\"dataframe\">\n",
       "  <thead>\n",
       "    <tr style=\"text-align: right;\">\n",
       "      <th></th>\n",
       "      <th>account_id</th>\n",
       "      <th>name</th>\n",
       "      <th>campaign_id</th>\n",
       "      <th>date_start</th>\n",
       "      <th>spend</th>\n",
       "      <th>link_clicks</th>\n",
       "      <th>objective</th>\n",
       "      <th>vertical</th>\n",
       "      <th>vertical2</th>\n",
       "      <th>23842505131670744</th>\n",
       "      <th>...</th>\n",
       "      <th>6064002893844</th>\n",
       "      <th>6064003490044</th>\n",
       "      <th>6064004160044</th>\n",
       "      <th>6064663893217</th>\n",
       "      <th>6064969908417</th>\n",
       "      <th>6064970231017</th>\n",
       "      <th>6066725507025</th>\n",
       "      <th>6067165333617</th>\n",
       "      <th>log_spend</th>\n",
       "      <th>log_click</th>\n",
       "    </tr>\n",
       "  </thead>\n",
       "  <tbody>\n",
       "    <tr>\n",
       "      <th>1256</th>\n",
       "      <td>1003374119710324</td>\n",
       "      <td>Line Tale 2</td>\n",
       "      <td>6042354718738</td>\n",
       "      <td>2016-04-18</td>\n",
       "      <td>266.96</td>\n",
       "      <td>52.0</td>\n",
       "      <td>LINK_CLICKS</td>\n",
       "      <td>NaN</td>\n",
       "      <td>NaN</td>\n",
       "      <td>0.0</td>\n",
       "      <td>...</td>\n",
       "      <td>0.0</td>\n",
       "      <td>0.0</td>\n",
       "      <td>0.0</td>\n",
       "      <td>0.0</td>\n",
       "      <td>0.0</td>\n",
       "      <td>0.0</td>\n",
       "      <td>0.0</td>\n",
       "      <td>0.0</td>\n",
       "      <td>5.587099</td>\n",
       "      <td>3.951244</td>\n",
       "    </tr>\n",
       "    <tr>\n",
       "      <th>22</th>\n",
       "      <td>1003374119710324</td>\n",
       "      <td>Line Tale 2</td>\n",
       "      <td>6042354718738</td>\n",
       "      <td>2016-04-19</td>\n",
       "      <td>2756.24</td>\n",
       "      <td>607.0</td>\n",
       "      <td>LINK_CLICKS</td>\n",
       "      <td>NaN</td>\n",
       "      <td>NaN</td>\n",
       "      <td>0.0</td>\n",
       "      <td>...</td>\n",
       "      <td>0.0</td>\n",
       "      <td>0.0</td>\n",
       "      <td>0.0</td>\n",
       "      <td>0.0</td>\n",
       "      <td>0.0</td>\n",
       "      <td>0.0</td>\n",
       "      <td>0.0</td>\n",
       "      <td>0.0</td>\n",
       "      <td>7.921623</td>\n",
       "      <td>6.408529</td>\n",
       "    </tr>\n",
       "    <tr>\n",
       "      <th>60</th>\n",
       "      <td>1003374119710324</td>\n",
       "      <td>Line Tale 2</td>\n",
       "      <td>6042354718738</td>\n",
       "      <td>2016-04-20</td>\n",
       "      <td>2136.41</td>\n",
       "      <td>625.0</td>\n",
       "      <td>LINK_CLICKS</td>\n",
       "      <td>NaN</td>\n",
       "      <td>NaN</td>\n",
       "      <td>0.0</td>\n",
       "      <td>...</td>\n",
       "      <td>0.0</td>\n",
       "      <td>0.0</td>\n",
       "      <td>0.0</td>\n",
       "      <td>0.0</td>\n",
       "      <td>0.0</td>\n",
       "      <td>0.0</td>\n",
       "      <td>0.0</td>\n",
       "      <td>0.0</td>\n",
       "      <td>7.666882</td>\n",
       "      <td>6.437752</td>\n",
       "    </tr>\n",
       "    <tr>\n",
       "      <th>825</th>\n",
       "      <td>1003374119710324</td>\n",
       "      <td>Line Tale 2</td>\n",
       "      <td>6042354718738</td>\n",
       "      <td>2016-04-21</td>\n",
       "      <td>1904.17</td>\n",
       "      <td>778.0</td>\n",
       "      <td>LINK_CLICKS</td>\n",
       "      <td>NaN</td>\n",
       "      <td>NaN</td>\n",
       "      <td>0.0</td>\n",
       "      <td>...</td>\n",
       "      <td>0.0</td>\n",
       "      <td>0.0</td>\n",
       "      <td>0.0</td>\n",
       "      <td>0.0</td>\n",
       "      <td>0.0</td>\n",
       "      <td>0.0</td>\n",
       "      <td>0.0</td>\n",
       "      <td>0.0</td>\n",
       "      <td>7.551801</td>\n",
       "      <td>6.656727</td>\n",
       "    </tr>\n",
       "    <tr>\n",
       "      <th>270</th>\n",
       "      <td>1003374119710324</td>\n",
       "      <td>Line Tale 2</td>\n",
       "      <td>6042354718738</td>\n",
       "      <td>2016-04-22</td>\n",
       "      <td>1688.81</td>\n",
       "      <td>780.0</td>\n",
       "      <td>LINK_CLICKS</td>\n",
       "      <td>NaN</td>\n",
       "      <td>NaN</td>\n",
       "      <td>0.0</td>\n",
       "      <td>...</td>\n",
       "      <td>0.0</td>\n",
       "      <td>0.0</td>\n",
       "      <td>0.0</td>\n",
       "      <td>0.0</td>\n",
       "      <td>0.0</td>\n",
       "      <td>0.0</td>\n",
       "      <td>0.0</td>\n",
       "      <td>0.0</td>\n",
       "      <td>7.431779</td>\n",
       "      <td>6.659294</td>\n",
       "    </tr>\n",
       "  </tbody>\n",
       "</table>\n",
       "<p>5 rows × 204 columns</p>\n",
       "</div>"
      ],
      "text/plain": [
       "            account_id         name    campaign_id  date_start    spend  \\\n",
       "1256  1003374119710324  Line Tale 2  6042354718738  2016-04-18   266.96   \n",
       "22    1003374119710324  Line Tale 2  6042354718738  2016-04-19  2756.24   \n",
       "60    1003374119710324  Line Tale 2  6042354718738  2016-04-20  2136.41   \n",
       "825   1003374119710324  Line Tale 2  6042354718738  2016-04-21  1904.17   \n",
       "270   1003374119710324  Line Tale 2  6042354718738  2016-04-22  1688.81   \n",
       "\n",
       "      link_clicks    objective vertical vertical2  23842505131670744  \\\n",
       "1256         52.0  LINK_CLICKS      NaN       NaN                0.0   \n",
       "22          607.0  LINK_CLICKS      NaN       NaN                0.0   \n",
       "60          625.0  LINK_CLICKS      NaN       NaN                0.0   \n",
       "825         778.0  LINK_CLICKS      NaN       NaN                0.0   \n",
       "270         780.0  LINK_CLICKS      NaN       NaN                0.0   \n",
       "\n",
       "        ...      6064002893844  6064003490044  6064004160044  6064663893217  \\\n",
       "1256    ...                0.0            0.0            0.0            0.0   \n",
       "22      ...                0.0            0.0            0.0            0.0   \n",
       "60      ...                0.0            0.0            0.0            0.0   \n",
       "825     ...                0.0            0.0            0.0            0.0   \n",
       "270     ...                0.0            0.0            0.0            0.0   \n",
       "\n",
       "      6064969908417  6064970231017  6066725507025  6067165333617  log_spend  \\\n",
       "1256            0.0            0.0            0.0            0.0   5.587099   \n",
       "22              0.0            0.0            0.0            0.0   7.921623   \n",
       "60              0.0            0.0            0.0            0.0   7.666882   \n",
       "825             0.0            0.0            0.0            0.0   7.551801   \n",
       "270             0.0            0.0            0.0            0.0   7.431779   \n",
       "\n",
       "      log_click  \n",
       "1256   3.951244  \n",
       "22     6.408529  \n",
       "60     6.437752  \n",
       "825    6.656727  \n",
       "270    6.659294  \n",
       "\n",
       "[5 rows x 204 columns]"
      ]
     },
     "execution_count": 19,
     "metadata": {},
     "output_type": "execute_result"
    }
   ],
   "source": [
    "link_ml_df.head()"
   ]
  },
  {
   "cell_type": "code",
   "execution_count": 20,
   "metadata": {
    "collapsed": false
   },
   "outputs": [],
   "source": [
    "link_ml_df.drop(['account_id','campaign_id','date_start','objective','name','spend','link_clicks','vertical','vertical2'], axis = 1, inplace = True)"
   ]
  },
  {
   "cell_type": "markdown",
   "metadata": {},
   "source": [
    "Data Frame \"link_ml_df\" ready for machine learning"
   ]
  },
  {
   "cell_type": "code",
   "execution_count": 21,
   "metadata": {
    "collapsed": true
   },
   "outputs": [],
   "source": [
    "link_ml_df.reset_index(drop = True, inplace = True)"
   ]
  },
  {
   "cell_type": "code",
   "execution_count": 22,
   "metadata": {
    "collapsed": false
   },
   "outputs": [
    {
     "data": {
      "text/html": [
       "<div>\n",
       "<table border=\"1\" class=\"dataframe\">\n",
       "  <thead>\n",
       "    <tr style=\"text-align: right;\">\n",
       "      <th></th>\n",
       "      <th>23842505131670744</th>\n",
       "      <th>23842505131810744</th>\n",
       "      <th>23842505131840744</th>\n",
       "      <th>23842505782680160</th>\n",
       "      <th>23842506958430736</th>\n",
       "      <th>23842507000030736</th>\n",
       "      <th>23842507560460492</th>\n",
       "      <th>23842508340700492</th>\n",
       "      <th>23842509683750744</th>\n",
       "      <th>23842509683770744</th>\n",
       "      <th>...</th>\n",
       "      <th>6064002893844</th>\n",
       "      <th>6064003490044</th>\n",
       "      <th>6064004160044</th>\n",
       "      <th>6064663893217</th>\n",
       "      <th>6064969908417</th>\n",
       "      <th>6064970231017</th>\n",
       "      <th>6066725507025</th>\n",
       "      <th>6067165333617</th>\n",
       "      <th>log_spend</th>\n",
       "      <th>log_click</th>\n",
       "    </tr>\n",
       "  </thead>\n",
       "  <tbody>\n",
       "    <tr>\n",
       "      <th>0</th>\n",
       "      <td>0.0</td>\n",
       "      <td>0.0</td>\n",
       "      <td>0.0</td>\n",
       "      <td>0.0</td>\n",
       "      <td>0.0</td>\n",
       "      <td>0.0</td>\n",
       "      <td>0.0</td>\n",
       "      <td>0.0</td>\n",
       "      <td>0.0</td>\n",
       "      <td>0.0</td>\n",
       "      <td>...</td>\n",
       "      <td>0.0</td>\n",
       "      <td>0.0</td>\n",
       "      <td>0.0</td>\n",
       "      <td>0.0</td>\n",
       "      <td>0.0</td>\n",
       "      <td>0.0</td>\n",
       "      <td>0.0</td>\n",
       "      <td>0.0</td>\n",
       "      <td>5.587099</td>\n",
       "      <td>3.951244</td>\n",
       "    </tr>\n",
       "    <tr>\n",
       "      <th>1</th>\n",
       "      <td>0.0</td>\n",
       "      <td>0.0</td>\n",
       "      <td>0.0</td>\n",
       "      <td>0.0</td>\n",
       "      <td>0.0</td>\n",
       "      <td>0.0</td>\n",
       "      <td>0.0</td>\n",
       "      <td>0.0</td>\n",
       "      <td>0.0</td>\n",
       "      <td>0.0</td>\n",
       "      <td>...</td>\n",
       "      <td>0.0</td>\n",
       "      <td>0.0</td>\n",
       "      <td>0.0</td>\n",
       "      <td>0.0</td>\n",
       "      <td>0.0</td>\n",
       "      <td>0.0</td>\n",
       "      <td>0.0</td>\n",
       "      <td>0.0</td>\n",
       "      <td>7.921623</td>\n",
       "      <td>6.408529</td>\n",
       "    </tr>\n",
       "    <tr>\n",
       "      <th>2</th>\n",
       "      <td>0.0</td>\n",
       "      <td>0.0</td>\n",
       "      <td>0.0</td>\n",
       "      <td>0.0</td>\n",
       "      <td>0.0</td>\n",
       "      <td>0.0</td>\n",
       "      <td>0.0</td>\n",
       "      <td>0.0</td>\n",
       "      <td>0.0</td>\n",
       "      <td>0.0</td>\n",
       "      <td>...</td>\n",
       "      <td>0.0</td>\n",
       "      <td>0.0</td>\n",
       "      <td>0.0</td>\n",
       "      <td>0.0</td>\n",
       "      <td>0.0</td>\n",
       "      <td>0.0</td>\n",
       "      <td>0.0</td>\n",
       "      <td>0.0</td>\n",
       "      <td>7.666882</td>\n",
       "      <td>6.437752</td>\n",
       "    </tr>\n",
       "    <tr>\n",
       "      <th>3</th>\n",
       "      <td>0.0</td>\n",
       "      <td>0.0</td>\n",
       "      <td>0.0</td>\n",
       "      <td>0.0</td>\n",
       "      <td>0.0</td>\n",
       "      <td>0.0</td>\n",
       "      <td>0.0</td>\n",
       "      <td>0.0</td>\n",
       "      <td>0.0</td>\n",
       "      <td>0.0</td>\n",
       "      <td>...</td>\n",
       "      <td>0.0</td>\n",
       "      <td>0.0</td>\n",
       "      <td>0.0</td>\n",
       "      <td>0.0</td>\n",
       "      <td>0.0</td>\n",
       "      <td>0.0</td>\n",
       "      <td>0.0</td>\n",
       "      <td>0.0</td>\n",
       "      <td>7.551801</td>\n",
       "      <td>6.656727</td>\n",
       "    </tr>\n",
       "    <tr>\n",
       "      <th>4</th>\n",
       "      <td>0.0</td>\n",
       "      <td>0.0</td>\n",
       "      <td>0.0</td>\n",
       "      <td>0.0</td>\n",
       "      <td>0.0</td>\n",
       "      <td>0.0</td>\n",
       "      <td>0.0</td>\n",
       "      <td>0.0</td>\n",
       "      <td>0.0</td>\n",
       "      <td>0.0</td>\n",
       "      <td>...</td>\n",
       "      <td>0.0</td>\n",
       "      <td>0.0</td>\n",
       "      <td>0.0</td>\n",
       "      <td>0.0</td>\n",
       "      <td>0.0</td>\n",
       "      <td>0.0</td>\n",
       "      <td>0.0</td>\n",
       "      <td>0.0</td>\n",
       "      <td>7.431779</td>\n",
       "      <td>6.659294</td>\n",
       "    </tr>\n",
       "  </tbody>\n",
       "</table>\n",
       "<p>5 rows × 195 columns</p>\n",
       "</div>"
      ],
      "text/plain": [
       "   23842505131670744  23842505131810744  23842505131840744  23842505782680160  \\\n",
       "0                0.0                0.0                0.0                0.0   \n",
       "1                0.0                0.0                0.0                0.0   \n",
       "2                0.0                0.0                0.0                0.0   \n",
       "3                0.0                0.0                0.0                0.0   \n",
       "4                0.0                0.0                0.0                0.0   \n",
       "\n",
       "   23842506958430736  23842507000030736  23842507560460492  23842508340700492  \\\n",
       "0                0.0                0.0                0.0                0.0   \n",
       "1                0.0                0.0                0.0                0.0   \n",
       "2                0.0                0.0                0.0                0.0   \n",
       "3                0.0                0.0                0.0                0.0   \n",
       "4                0.0                0.0                0.0                0.0   \n",
       "\n",
       "   23842509683750744  23842509683770744    ...      6064002893844  \\\n",
       "0                0.0                0.0    ...                0.0   \n",
       "1                0.0                0.0    ...                0.0   \n",
       "2                0.0                0.0    ...                0.0   \n",
       "3                0.0                0.0    ...                0.0   \n",
       "4                0.0                0.0    ...                0.0   \n",
       "\n",
       "   6064003490044  6064004160044  6064663893217  6064969908417  6064970231017  \\\n",
       "0            0.0            0.0            0.0            0.0            0.0   \n",
       "1            0.0            0.0            0.0            0.0            0.0   \n",
       "2            0.0            0.0            0.0            0.0            0.0   \n",
       "3            0.0            0.0            0.0            0.0            0.0   \n",
       "4            0.0            0.0            0.0            0.0            0.0   \n",
       "\n",
       "   6066725507025  6067165333617  log_spend  log_click  \n",
       "0            0.0            0.0   5.587099   3.951244  \n",
       "1            0.0            0.0   7.921623   6.408529  \n",
       "2            0.0            0.0   7.666882   6.437752  \n",
       "3            0.0            0.0   7.551801   6.656727  \n",
       "4            0.0            0.0   7.431779   6.659294  \n",
       "\n",
       "[5 rows x 195 columns]"
      ]
     },
     "execution_count": 22,
     "metadata": {},
     "output_type": "execute_result"
    }
   ],
   "source": [
    "link_ml_df.head()"
   ]
  },
  {
   "cell_type": "code",
   "execution_count": 23,
   "metadata": {
    "collapsed": false
   },
   "outputs": [
    {
     "name": "stdout",
     "output_type": "stream",
     "text": [
      "<class 'pandas.core.frame.DataFrame'>\n",
      "RangeIndex: 6668 entries, 0 to 6667\n",
      "Columns: 195 entries, 23842505131670744 to log_click\n",
      "dtypes: float64(195)\n",
      "memory usage: 9.9 MB\n"
     ]
    }
   ],
   "source": [
    "link_ml_df.info()"
   ]
  },
  {
   "cell_type": "markdown",
   "metadata": {},
   "source": [
    "### Regression Model 1:\n",
    "\n",
    "\\begin{equation*}\n",
    "log(Clicks) = m* log(spend)+b_{campaign}+b_{int}\n",
    "\\end{equation*}"
   ]
  },
  {
   "cell_type": "markdown",
   "metadata": {},
   "source": [
    "In this project, I am going to use the ski-learn(ML package built in Python) for various regression problems."
   ]
  },
  {
   "cell_type": "code",
   "execution_count": 24,
   "metadata": {
    "collapsed": false
   },
   "outputs": [
    {
     "data": {
      "text/plain": [
       "LinearRegression(copy_X=True, fit_intercept=True, n_jobs=1, normalize=False)"
      ]
     },
     "execution_count": 24,
     "metadata": {},
     "output_type": "execute_result"
    }
   ],
   "source": [
    "from sklearn import linear_model\n",
    "from sklearn import cross_validation\n",
    "from sklearn import metrics\n",
    "\n",
    "linreg = linear_model.LinearRegression(fit_intercept=True)  # This is the default\n",
    "X = link_ml_df.copy()\n",
    "X.drop('log_click', axis = 1, inplace = True)\n",
    "y = link_ml_df.log_click\n",
    "linreg.fit(X, y)"
   ]
  },
  {
   "cell_type": "markdown",
   "metadata": {},
   "source": [
    "**Spend coefficients**:"
   ]
  },
  {
   "cell_type": "code",
   "execution_count": 25,
   "metadata": {
    "collapsed": false
   },
   "outputs": [
    {
     "name": "stdout",
     "output_type": "stream",
     "text": [
      "The spend coefficients between log(spend) and log(clicks) (m) is 0.91\n"
     ]
    }
   ],
   "source": [
    "print \"The spend coefficients between log(spend) and log(clicks) (m) is %.2f\" % linreg.coef_[-1]"
   ]
  },
  {
   "cell_type": "markdown",
   "metadata": {},
   "source": [
    "**In-sample prediction metric**:"
   ]
  },
  {
   "cell_type": "code",
   "execution_count": 26,
   "metadata": {
    "collapsed": false
   },
   "outputs": [
    {
     "name": "stdout",
     "output_type": "stream",
     "text": [
      "The in-sample prediction R^2 is 0.9468\n",
      "The mean squared error in model is 0.1534\n"
     ]
    }
   ],
   "source": [
    "print \"The in-sample prediction R^2 is %.4f\" % linreg.score(X,y)\n",
    "print \"The mean squared error in model is %.4f\" % metrics.mean_squared_error(y,linreg.predict(X))"
   ]
  },
  {
   "cell_type": "markdown",
   "metadata": {},
   "source": [
    "**Visualization**"
   ]
  },
  {
   "cell_type": "code",
   "execution_count": 27,
   "metadata": {
    "collapsed": false
   },
   "outputs": [],
   "source": [
    "x0 = X.loc[X.index[0]] \n",
    "X0 = pd.DataFrame({}, columns = X.columns)\n",
    "X0 = X0.append([x0]*50,ignore_index=True)\n",
    "X0['log_spend'] = pd.Series(np.linspace(0, 10, 50))"
   ]
  },
  {
   "cell_type": "code",
   "execution_count": 69,
   "metadata": {
    "collapsed": false
   },
   "outputs": [
    {
     "data": {
      "image/png": "[encoded data removed]",
      "text/plain": [
       "<matplotlib.figure.Figure at 0x1264d7650>"
      ]
     },
     "metadata": {},
     "output_type": "display_data"
    }
   ],
   "source": [
    "plt.figure(figsize=(8,6))\n",
    "plt.plot(X.log_spend, y, '.')\n",
    "plt.plot(X0.log_spend, linreg.predict(X0), '-')\n",
    "plt.xlabel('log(spend)')\n",
    "plt.ylabel('log(clicks)')\n",
    "plt.axis([-2, 10, 0, 10])\n",
    "plt.legend(['Data for all campaigns','Prediction using one campaign id'],loc='best')\n",
    "plt.text(-1, 8, r'$R^2 = 0.94, m = 0.91$', fontsize=15)\n",
    "plt.savefig('Ex-post.png')"
   ]
  },
  {
   "cell_type": "markdown",
   "metadata": {},
   "source": [
    "**Coefficients of Regression model (variation in campaigns $b_{campaign}$)** "
   ]
  },
  {
   "cell_type": "code",
   "execution_count": 29,
   "metadata": {
    "collapsed": false
   },
   "outputs": [],
   "source": [
    "coeffs = linreg.coef_[:-1]"
   ]
  },
  {
   "cell_type": "code",
   "execution_count": 30,
   "metadata": {
    "collapsed": false
   },
   "outputs": [
    {
     "data": {
      "text/plain": [
       "<matplotlib.text.Text at 0x124220150>"
      ]
     },
     "execution_count": 30,
     "metadata": {},
     "output_type": "execute_result"
    },
    {
     "data": {
      "image/png": "[encoded data removed]",
      "text/plain": [
       "<matplotlib.figure.Figure at 0x11bd83d50>"
      ]
     },
     "metadata": {},
     "output_type": "display_data"
    }
   ],
   "source": [
    "plt.figure(figsize=(8,6))\n",
    "plt.plot(coeffs,'o')\n",
    "plt.xlabel('Campaign ID')\n",
    "plt.ylabel('Interception $b_{CID}$')\n",
    "#plt.axis([0, 12, -2, 6])"
   ]
  },
  {
   "cell_type": "markdown",
   "metadata": {},
   "source": [
    "Now, we can compare the effectiveness of various campaign. From the plot, it seems most of the campaign are close and in a clustered way. However, there are some outliers as well. It may be interesting to look at those campaign individually and see what are the reasons for these differences."
   ]
  },
  {
   "cell_type": "code",
   "execution_count": 31,
   "metadata": {
    "collapsed": false
   },
   "outputs": [
    {
     "name": "stderr",
     "output_type": "stream",
     "text": [
      "/Applications/anaconda/lib/python2.7/site-packages/pandas/indexes/base.py:1275: VisibleDeprecationWarning: boolean index did not match indexed array along dimension 0; dimension is 194 but corresponding boolean dimension is 193\n",
      "  result = getitem(key)\n"
     ]
    }
   ],
   "source": [
    "coeffs_group1 = X.columns[coeffs > 3]\n",
    "coeffs_group2 = X.columns[coeffs < 0]"
   ]
  },
  {
   "cell_type": "code",
   "execution_count": 32,
   "metadata": {
    "collapsed": false
   },
   "outputs": [
    {
     "data": {
      "text/plain": [
       "['Olympics',\n",
       " 'Olympics',\n",
       " 'Visit California',\n",
       " 'Micro Strategy',\n",
       " 'Micro Strategy',\n",
       " 'Micro Strategy',\n",
       " 'Micro Strategy']"
      ]
     },
     "execution_count": 32,
     "metadata": {},
     "output_type": "execute_result"
    }
   ],
   "source": [
    "coeffs_group1_name = list()\n",
    "for id in coeffs_group1:\n",
    "    company_name = fb_link_df[fb_link_df.campaign_id == str(id)].name\n",
    "    coeffs_group1_name.append(company_name.values[0])\n",
    "    \n",
    "coeffs_group1_name"
   ]
  },
  {
   "cell_type": "code",
   "execution_count": 33,
   "metadata": {
    "collapsed": false
   },
   "outputs": [
    {
     "data": {
      "text/plain": [
       "['Chime',\n",
       " 'Intel - HYFN',\n",
       " 'Chime',\n",
       " 'Chime',\n",
       " 'All Clients - LIN Digital',\n",
       " 'Target',\n",
       " 'All Clients - LIN Digital',\n",
       " 'All Clients - LIN Digital',\n",
       " 'John Muir',\n",
       " 'John Muir',\n",
       " 'John Muir',\n",
       " 'HYFN8 Campaign',\n",
       " 'TrueCar Main: 106471106226037',\n",
       " 'Micro Strategy',\n",
       " 'TrueCar Main: 106471106226037']"
      ]
     },
     "execution_count": 33,
     "metadata": {},
     "output_type": "execute_result"
    }
   ],
   "source": [
    "coeffs_group2_name = list()\n",
    "for id in coeffs_group2:\n",
    "    company_name = fb_link_df[fb_link_df.campaign_id == str(id)].name\n",
    "    coeffs_group2_name.append(company_name.values[0])\n",
    "    \n",
    "coeffs_group2_name"
   ]
  },
  {
   "cell_type": "markdown",
   "metadata": {},
   "source": [
    "Before building the ex ante model, we can also do a cross-validation on our current model to evaluate its ability."
   ]
  },
  {
   "cell_type": "markdown",
   "metadata": {},
   "source": [
    "### Cross-validation"
   ]
  },
  {
   "cell_type": "markdown",
   "metadata": {},
   "source": [
    "split the data set into training data (70%) and testing data (30%)."
   ]
  },
  {
   "cell_type": "code",
   "execution_count": 34,
   "metadata": {
    "collapsed": false
   },
   "outputs": [],
   "source": [
    "X_train, X_test, y_train, y_test = cross_validation.train_test_split(X, y, test_size=0.2)\n",
    "linreg.fit(X_train, y_train)\n",
    "y_pred = linreg.predict(X_test)\n",
    "mse_test = metrics.mean_squared_error(y_test.values, y_pred)"
   ]
  },
  {
   "cell_type": "code",
   "execution_count": 35,
   "metadata": {
    "collapsed": false
   },
   "outputs": [
    {
     "data": {
      "text/plain": [
       "[0, 10, 0, 10]"
      ]
     },
     "execution_count": 35,
     "metadata": {},
     "output_type": "execute_result"
    },
    {
     "data": {
      "image/png": "[encoded data removed]",
      "text/plain": [
       "<matplotlib.figure.Figure at 0x1244d6390>"
      ]
     },
     "metadata": {},
     "output_type": "display_data"
    }
   ],
   "source": [
    "plt.plot(y_pred,y_test.values,'.')\n",
    "plt.axis([0,10,0,10])"
   ]
  },
  {
   "cell_type": "code",
   "execution_count": 36,
   "metadata": {
    "collapsed": false
   },
   "outputs": [
    {
     "name": "stdout",
     "output_type": "stream",
     "text": [
      "The mean squared error in test data set is 0.1439\n",
      "In prediction of link clicks, this error corresponds to a factor between 0.68 to 1.46\n"
     ]
    }
   ],
   "source": [
    "from math import e\n",
    "factor1 = e**(-np.sqrt(mse_test))\n",
    "factor2 = e**(np.sqrt(mse_test))\n",
    "print \"The mean squared error in test data set is %.4f\" %mse_test\n",
    "print \"In prediction of link clicks, this error corresponds to a factor between %.2f to %.2f\" %(factor1,factor2)"
   ]
  },
  {
   "cell_type": "markdown",
   "metadata": {},
   "source": [
    "### 2.1 Ex ante model"
   ]
  },
  {
   "cell_type": "markdown",
   "metadata": {},
   "source": [
    "### Baseline Model :\n",
    "\n",
    "\\begin{equation*}\n",
    "log(Clicks) = m* log(spend)+b_{int}\n",
    "\\end{equation*}"
   ]
  },
  {
   "cell_type": "code",
   "execution_count": 37,
   "metadata": {
    "collapsed": false
   },
   "outputs": [],
   "source": [
    "X_base = link_ml_df.log_spend.reshape(-1,1)\n",
    "y = link_ml_df.log_click"
   ]
  },
  {
   "cell_type": "code",
   "execution_count": 38,
   "metadata": {
    "collapsed": false
   },
   "outputs": [
    {
     "data": {
      "text/plain": [
       "LinearRegression(copy_X=True, fit_intercept=True, n_jobs=1, normalize=False)"
      ]
     },
     "execution_count": 38,
     "metadata": {},
     "output_type": "execute_result"
    }
   ],
   "source": [
    "linreg_base = linear_model.LinearRegression(fit_intercept=True)\n",
    "linreg_base.fit(X_base,y)"
   ]
  },
  {
   "cell_type": "code",
   "execution_count": 39,
   "metadata": {
    "collapsed": false
   },
   "outputs": [
    {
     "name": "stdout",
     "output_type": "stream",
     "text": [
      "The spend coefficients between log(spend) and log(clicks) (m) is 1.05\n",
      "The in-sample prediction R^2 is 0.6789\n",
      "The mean squared error in model is 0.9261\n"
     ]
    }
   ],
   "source": [
    "print \"The spend coefficients between log(spend) and log(clicks) (m) is %.2f\" % linreg_base.coef_[-1]\n",
    "print \"The in-sample prediction R^2 is %.4f\" % linreg_base.score(X_base,y)\n",
    "print \"The mean squared error in model is %.4f\" % metrics.mean_squared_error(y,linreg_base.predict(X_base))"
   ]
  },
  {
   "cell_type": "code",
   "execution_count": 73,
   "metadata": {
    "collapsed": false
   },
   "outputs": [
    {
     "data": {
      "image/png": "[encoded data removed]",
      "text/plain": [
       "<matplotlib.figure.Figure at 0x126f79690>"
      ]
     },
     "metadata": {},
     "output_type": "display_data"
    }
   ],
   "source": [
    "plt.figure(figsize=(8,6))\n",
    "plt.plot(X_base, y, '.')\n",
    "plt.plot(X_base, linreg_base.predict(X_base), '-')\n",
    "plt.xlabel('log(spend)')\n",
    "plt.ylabel('log(clicks)')\n",
    "plt.axis([-2, 10, 0, 10])\n",
    "plt.legend(['Data for all campaigns','Baseline model'],loc='best')\n",
    "plt.text(-1, 8, r'$R^2 = 0.68, m = 1.05$', fontsize=15)\n",
    "plt.savefig('Baseline.png')"
   ]
  },
  {
   "cell_type": "markdown",
   "metadata": {},
   "source": [
    "### Vertical Model :\n",
    "\n",
    "\\begin{equation*}\n",
    "log(Clicks) = m* log(spend)+b_{int}+b_{vert}\n",
    "\\end{equation*}"
   ]
  },
  {
   "cell_type": "code",
   "execution_count": 40,
   "metadata": {
    "collapsed": false
   },
   "outputs": [],
   "source": [
    "fb_link_df.fillna(value = 'Unknown', inplace = True)"
   ]
  },
  {
   "cell_type": "code",
   "execution_count": 41,
   "metadata": {
    "collapsed": false
   },
   "outputs": [
    {
     "data": {
      "text/html": [
       "<div>\n",
       "<table border=\"1\" class=\"dataframe\">\n",
       "  <thead>\n",
       "    <tr style=\"text-align: right;\">\n",
       "      <th></th>\n",
       "      <th>account_id</th>\n",
       "      <th>name</th>\n",
       "      <th>campaign_id</th>\n",
       "      <th>date_start</th>\n",
       "      <th>spend</th>\n",
       "      <th>link_clicks</th>\n",
       "      <th>objective</th>\n",
       "      <th>vertical</th>\n",
       "      <th>vertical2</th>\n",
       "    </tr>\n",
       "  </thead>\n",
       "  <tbody>\n",
       "    <tr>\n",
       "      <th>1256</th>\n",
       "      <td>1003374119710324</td>\n",
       "      <td>Line Tale 2</td>\n",
       "      <td>6042354718738</td>\n",
       "      <td>2016-04-18</td>\n",
       "      <td>266.96</td>\n",
       "      <td>52.0</td>\n",
       "      <td>LINK_CLICKS</td>\n",
       "      <td>Unknown</td>\n",
       "      <td>Unknown</td>\n",
       "    </tr>\n",
       "    <tr>\n",
       "      <th>22</th>\n",
       "      <td>1003374119710324</td>\n",
       "      <td>Line Tale 2</td>\n",
       "      <td>6042354718738</td>\n",
       "      <td>2016-04-19</td>\n",
       "      <td>2756.24</td>\n",
       "      <td>607.0</td>\n",
       "      <td>LINK_CLICKS</td>\n",
       "      <td>Unknown</td>\n",
       "      <td>Unknown</td>\n",
       "    </tr>\n",
       "    <tr>\n",
       "      <th>60</th>\n",
       "      <td>1003374119710324</td>\n",
       "      <td>Line Tale 2</td>\n",
       "      <td>6042354718738</td>\n",
       "      <td>2016-04-20</td>\n",
       "      <td>2136.41</td>\n",
       "      <td>625.0</td>\n",
       "      <td>LINK_CLICKS</td>\n",
       "      <td>Unknown</td>\n",
       "      <td>Unknown</td>\n",
       "    </tr>\n",
       "    <tr>\n",
       "      <th>825</th>\n",
       "      <td>1003374119710324</td>\n",
       "      <td>Line Tale 2</td>\n",
       "      <td>6042354718738</td>\n",
       "      <td>2016-04-21</td>\n",
       "      <td>1904.17</td>\n",
       "      <td>778.0</td>\n",
       "      <td>LINK_CLICKS</td>\n",
       "      <td>Unknown</td>\n",
       "      <td>Unknown</td>\n",
       "    </tr>\n",
       "    <tr>\n",
       "      <th>270</th>\n",
       "      <td>1003374119710324</td>\n",
       "      <td>Line Tale 2</td>\n",
       "      <td>6042354718738</td>\n",
       "      <td>2016-04-22</td>\n",
       "      <td>1688.81</td>\n",
       "      <td>780.0</td>\n",
       "      <td>LINK_CLICKS</td>\n",
       "      <td>Unknown</td>\n",
       "      <td>Unknown</td>\n",
       "    </tr>\n",
       "  </tbody>\n",
       "</table>\n",
       "</div>"
      ],
      "text/plain": [
       "            account_id         name    campaign_id  date_start    spend  \\\n",
       "1256  1003374119710324  Line Tale 2  6042354718738  2016-04-18   266.96   \n",
       "22    1003374119710324  Line Tale 2  6042354718738  2016-04-19  2756.24   \n",
       "60    1003374119710324  Line Tale 2  6042354718738  2016-04-20  2136.41   \n",
       "825   1003374119710324  Line Tale 2  6042354718738  2016-04-21  1904.17   \n",
       "270   1003374119710324  Line Tale 2  6042354718738  2016-04-22  1688.81   \n",
       "\n",
       "      link_clicks    objective vertical vertical2  \n",
       "1256         52.0  LINK_CLICKS  Unknown   Unknown  \n",
       "22          607.0  LINK_CLICKS  Unknown   Unknown  \n",
       "60          625.0  LINK_CLICKS  Unknown   Unknown  \n",
       "825         778.0  LINK_CLICKS  Unknown   Unknown  \n",
       "270         780.0  LINK_CLICKS  Unknown   Unknown  "
      ]
     },
     "execution_count": 41,
     "metadata": {},
     "output_type": "execute_result"
    }
   ],
   "source": [
    "fb_link_df.head()"
   ]
  },
  {
   "cell_type": "code",
   "execution_count": 42,
   "metadata": {
    "collapsed": false
   },
   "outputs": [],
   "source": [
    "ml_vert_df = fb_link_df[['spend','link_clicks','vertical','vertical2']]"
   ]
  },
  {
   "cell_type": "code",
   "execution_count": 43,
   "metadata": {
    "collapsed": true
   },
   "outputs": [],
   "source": [
    "ml_vert_df = pd.concat([ml_vert_df, pd.get_dummies(ml_vert_df.vertical,drop_first=True),pd.get_dummies(ml_vert_df.vertical2,drop_first=True)], axis = 1)"
   ]
  },
  {
   "cell_type": "code",
   "execution_count": 44,
   "metadata": {
    "collapsed": true
   },
   "outputs": [],
   "source": [
    "ml_vert_df.loc[ml_vert_df.index,'log_spend'] = np.log(ml_vert_df.spend)\n",
    "ml_vert_df.loc[ml_vert_df.index,'log_click'] = np.log(ml_vert_df.link_clicks)"
   ]
  },
  {
   "cell_type": "code",
   "execution_count": 45,
   "metadata": {
    "collapsed": false
   },
   "outputs": [
    {
     "data": {
      "text/plain": [
       "[Index([u'Unknown', u'Internet Company', u'Travel', u'Health Care', u'Retail',\n",
       "        u'Pregnancy', u'Entertainment', u'Non-Profit', u'Automotive', u'QSR',\n",
       "        u'Technology', u'Public Health', u'Advertising'],\n",
       "       dtype='object'),\n",
       " Index([u'Unknown', u'Workplace & Office', u'Lead Gen', u'Apparel', u'CPG',\n",
       "        u'Health', u'Movie', u'Seniors', u'Loan'],\n",
       "       dtype='object')]"
      ]
     },
     "execution_count": 45,
     "metadata": {},
     "output_type": "execute_result"
    }
   ],
   "source": [
    "[ml_vert_df.vertical.value_counts().index,ml_vert_df.vertical2.value_counts().index]"
   ]
  },
  {
   "cell_type": "code",
   "execution_count": 46,
   "metadata": {
    "collapsed": false
   },
   "outputs": [],
   "source": [
    "ml_vert_df.drop(['vertical','vertical2','Unknown','spend','link_clicks'], axis =1, inplace = True)"
   ]
  },
  {
   "cell_type": "code",
   "execution_count": 47,
   "metadata": {
    "collapsed": false
   },
   "outputs": [
    {
     "data": {
      "text/plain": [
       "Index([u'Automotive', u'Entertainment', u'Health Care', u'Internet Company',\n",
       "       u'Non-Profit', u'Pregnancy', u'Public Health', u'QSR', u'Retail',\n",
       "       u'Technology', u'Travel', u'CPG', u'Health', u'Lead Gen', u'Loan',\n",
       "       u'Movie', u'Seniors', u'Workplace & Office', u'log_spend',\n",
       "       u'log_click'],\n",
       "      dtype='object')"
      ]
     },
     "execution_count": 47,
     "metadata": {},
     "output_type": "execute_result"
    }
   ],
   "source": [
    "ml_vert_df.columns"
   ]
  },
  {
   "cell_type": "code",
   "execution_count": 48,
   "metadata": {
    "collapsed": false
   },
   "outputs": [
    {
     "data": {
      "text/html": [
       "<div>\n",
       "<table border=\"1\" class=\"dataframe\">\n",
       "  <thead>\n",
       "    <tr style=\"text-align: right;\">\n",
       "      <th></th>\n",
       "      <th>Automotive</th>\n",
       "      <th>Entertainment</th>\n",
       "      <th>Health Care</th>\n",
       "      <th>Internet Company</th>\n",
       "      <th>Non-Profit</th>\n",
       "      <th>Pregnancy</th>\n",
       "      <th>Public Health</th>\n",
       "      <th>QSR</th>\n",
       "      <th>Retail</th>\n",
       "      <th>Technology</th>\n",
       "      <th>Travel</th>\n",
       "      <th>CPG</th>\n",
       "      <th>Health</th>\n",
       "      <th>Lead Gen</th>\n",
       "      <th>Loan</th>\n",
       "      <th>Movie</th>\n",
       "      <th>Seniors</th>\n",
       "      <th>Workplace &amp; Office</th>\n",
       "      <th>log_spend</th>\n",
       "      <th>log_click</th>\n",
       "    </tr>\n",
       "  </thead>\n",
       "  <tbody>\n",
       "    <tr>\n",
       "      <th>1256</th>\n",
       "      <td>0.0</td>\n",
       "      <td>0.0</td>\n",
       "      <td>0.0</td>\n",
       "      <td>0.0</td>\n",
       "      <td>0.0</td>\n",
       "      <td>0.0</td>\n",
       "      <td>0.0</td>\n",
       "      <td>0.0</td>\n",
       "      <td>0.0</td>\n",
       "      <td>0.0</td>\n",
       "      <td>0.0</td>\n",
       "      <td>0.0</td>\n",
       "      <td>0.0</td>\n",
       "      <td>0.0</td>\n",
       "      <td>0.0</td>\n",
       "      <td>0.0</td>\n",
       "      <td>0.0</td>\n",
       "      <td>0.0</td>\n",
       "      <td>5.587099</td>\n",
       "      <td>3.951244</td>\n",
       "    </tr>\n",
       "    <tr>\n",
       "      <th>22</th>\n",
       "      <td>0.0</td>\n",
       "      <td>0.0</td>\n",
       "      <td>0.0</td>\n",
       "      <td>0.0</td>\n",
       "      <td>0.0</td>\n",
       "      <td>0.0</td>\n",
       "      <td>0.0</td>\n",
       "      <td>0.0</td>\n",
       "      <td>0.0</td>\n",
       "      <td>0.0</td>\n",
       "      <td>0.0</td>\n",
       "      <td>0.0</td>\n",
       "      <td>0.0</td>\n",
       "      <td>0.0</td>\n",
       "      <td>0.0</td>\n",
       "      <td>0.0</td>\n",
       "      <td>0.0</td>\n",
       "      <td>0.0</td>\n",
       "      <td>7.921623</td>\n",
       "      <td>6.408529</td>\n",
       "    </tr>\n",
       "    <tr>\n",
       "      <th>60</th>\n",
       "      <td>0.0</td>\n",
       "      <td>0.0</td>\n",
       "      <td>0.0</td>\n",
       "      <td>0.0</td>\n",
       "      <td>0.0</td>\n",
       "      <td>0.0</td>\n",
       "      <td>0.0</td>\n",
       "      <td>0.0</td>\n",
       "      <td>0.0</td>\n",
       "      <td>0.0</td>\n",
       "      <td>0.0</td>\n",
       "      <td>0.0</td>\n",
       "      <td>0.0</td>\n",
       "      <td>0.0</td>\n",
       "      <td>0.0</td>\n",
       "      <td>0.0</td>\n",
       "      <td>0.0</td>\n",
       "      <td>0.0</td>\n",
       "      <td>7.666882</td>\n",
       "      <td>6.437752</td>\n",
       "    </tr>\n",
       "    <tr>\n",
       "      <th>825</th>\n",
       "      <td>0.0</td>\n",
       "      <td>0.0</td>\n",
       "      <td>0.0</td>\n",
       "      <td>0.0</td>\n",
       "      <td>0.0</td>\n",
       "      <td>0.0</td>\n",
       "      <td>0.0</td>\n",
       "      <td>0.0</td>\n",
       "      <td>0.0</td>\n",
       "      <td>0.0</td>\n",
       "      <td>0.0</td>\n",
       "      <td>0.0</td>\n",
       "      <td>0.0</td>\n",
       "      <td>0.0</td>\n",
       "      <td>0.0</td>\n",
       "      <td>0.0</td>\n",
       "      <td>0.0</td>\n",
       "      <td>0.0</td>\n",
       "      <td>7.551801</td>\n",
       "      <td>6.656727</td>\n",
       "    </tr>\n",
       "    <tr>\n",
       "      <th>270</th>\n",
       "      <td>0.0</td>\n",
       "      <td>0.0</td>\n",
       "      <td>0.0</td>\n",
       "      <td>0.0</td>\n",
       "      <td>0.0</td>\n",
       "      <td>0.0</td>\n",
       "      <td>0.0</td>\n",
       "      <td>0.0</td>\n",
       "      <td>0.0</td>\n",
       "      <td>0.0</td>\n",
       "      <td>0.0</td>\n",
       "      <td>0.0</td>\n",
       "      <td>0.0</td>\n",
       "      <td>0.0</td>\n",
       "      <td>0.0</td>\n",
       "      <td>0.0</td>\n",
       "      <td>0.0</td>\n",
       "      <td>0.0</td>\n",
       "      <td>7.431779</td>\n",
       "      <td>6.659294</td>\n",
       "    </tr>\n",
       "  </tbody>\n",
       "</table>\n",
       "</div>"
      ],
      "text/plain": [
       "      Automotive  Entertainment  Health Care  Internet Company  Non-Profit  \\\n",
       "1256         0.0            0.0          0.0               0.0         0.0   \n",
       "22           0.0            0.0          0.0               0.0         0.0   \n",
       "60           0.0            0.0          0.0               0.0         0.0   \n",
       "825          0.0            0.0          0.0               0.0         0.0   \n",
       "270          0.0            0.0          0.0               0.0         0.0   \n",
       "\n",
       "      Pregnancy  Public Health  QSR  Retail  Technology  Travel  CPG  Health  \\\n",
       "1256        0.0            0.0  0.0     0.0         0.0     0.0  0.0     0.0   \n",
       "22          0.0            0.0  0.0     0.0         0.0     0.0  0.0     0.0   \n",
       "60          0.0            0.0  0.0     0.0         0.0     0.0  0.0     0.0   \n",
       "825         0.0            0.0  0.0     0.0         0.0     0.0  0.0     0.0   \n",
       "270         0.0            0.0  0.0     0.0         0.0     0.0  0.0     0.0   \n",
       "\n",
       "      Lead Gen  Loan  Movie  Seniors  Workplace & Office  log_spend  log_click  \n",
       "1256       0.0   0.0    0.0      0.0                 0.0   5.587099   3.951244  \n",
       "22         0.0   0.0    0.0      0.0                 0.0   7.921623   6.408529  \n",
       "60         0.0   0.0    0.0      0.0                 0.0   7.666882   6.437752  \n",
       "825        0.0   0.0    0.0      0.0                 0.0   7.551801   6.656727  \n",
       "270        0.0   0.0    0.0      0.0                 0.0   7.431779   6.659294  "
      ]
     },
     "execution_count": 48,
     "metadata": {},
     "output_type": "execute_result"
    }
   ],
   "source": [
    "ml_vert_df.head()"
   ]
  },
  {
   "cell_type": "code",
   "execution_count": 49,
   "metadata": {
    "collapsed": false
   },
   "outputs": [
    {
     "data": {
      "text/plain": [
       "LinearRegression(copy_X=True, fit_intercept=True, n_jobs=1, normalize=False)"
      ]
     },
     "execution_count": 49,
     "metadata": {},
     "output_type": "execute_result"
    }
   ],
   "source": [
    "linreg_vert = linear_model.LinearRegression(fit_intercept=True)  # This is the default\n",
    "X_vert = ml_vert_df.copy()\n",
    "X_vert.drop('log_click', axis = 1, inplace = True)\n",
    "y = ml_vert_df.log_click\n",
    "linreg_vert.fit(X_vert, y)"
   ]
  },
  {
   "cell_type": "code",
   "execution_count": 50,
   "metadata": {
    "collapsed": false
   },
   "outputs": [
    {
     "name": "stdout",
     "output_type": "stream",
     "text": [
      "The spend coefficients between log(spend) and log(clicks) (m) is 1.09\n",
      "The in-sample prediction R^2 is 0.7360\n",
      "The mean squared error in model is 0.7613\n"
     ]
    }
   ],
   "source": [
    "print \"The spend coefficients between log(spend) and log(clicks) (m) is %.2f\" % linreg_vert.coef_[-1]\n",
    "print \"The in-sample prediction R^2 is %.4f\" % linreg_vert.score(X_vert,y)\n",
    "print \"The mean squared error in model is %.4f\" % metrics.mean_squared_error(y,linreg_vert.predict(X_vert))"
   ]
  },
  {
   "cell_type": "markdown",
   "metadata": {},
   "source": [
    "### Visualization"
   ]
  },
  {
   "cell_type": "code",
   "execution_count": 51,
   "metadata": {
    "collapsed": false
   },
   "outputs": [
    {
     "data": {
      "text/html": [
       "<div>\n",
       "<table border=\"1\" class=\"dataframe\">\n",
       "  <thead>\n",
       "    <tr style=\"text-align: right;\">\n",
       "      <th></th>\n",
       "      <th>account_id</th>\n",
       "      <th>name</th>\n",
       "      <th>campaign_id</th>\n",
       "      <th>date_start</th>\n",
       "      <th>spend</th>\n",
       "      <th>link_clicks</th>\n",
       "      <th>objective</th>\n",
       "      <th>vertical</th>\n",
       "      <th>vertical2</th>\n",
       "    </tr>\n",
       "  </thead>\n",
       "  <tbody>\n",
       "    <tr>\n",
       "      <th>1256</th>\n",
       "      <td>1003374119710324</td>\n",
       "      <td>Line Tale 2</td>\n",
       "      <td>6042354718738</td>\n",
       "      <td>2016-04-18</td>\n",
       "      <td>266.96</td>\n",
       "      <td>52.0</td>\n",
       "      <td>LINK_CLICKS</td>\n",
       "      <td>Unknown</td>\n",
       "      <td>Unknown</td>\n",
       "    </tr>\n",
       "    <tr>\n",
       "      <th>22</th>\n",
       "      <td>1003374119710324</td>\n",
       "      <td>Line Tale 2</td>\n",
       "      <td>6042354718738</td>\n",
       "      <td>2016-04-19</td>\n",
       "      <td>2756.24</td>\n",
       "      <td>607.0</td>\n",
       "      <td>LINK_CLICKS</td>\n",
       "      <td>Unknown</td>\n",
       "      <td>Unknown</td>\n",
       "    </tr>\n",
       "    <tr>\n",
       "      <th>60</th>\n",
       "      <td>1003374119710324</td>\n",
       "      <td>Line Tale 2</td>\n",
       "      <td>6042354718738</td>\n",
       "      <td>2016-04-20</td>\n",
       "      <td>2136.41</td>\n",
       "      <td>625.0</td>\n",
       "      <td>LINK_CLICKS</td>\n",
       "      <td>Unknown</td>\n",
       "      <td>Unknown</td>\n",
       "    </tr>\n",
       "    <tr>\n",
       "      <th>825</th>\n",
       "      <td>1003374119710324</td>\n",
       "      <td>Line Tale 2</td>\n",
       "      <td>6042354718738</td>\n",
       "      <td>2016-04-21</td>\n",
       "      <td>1904.17</td>\n",
       "      <td>778.0</td>\n",
       "      <td>LINK_CLICKS</td>\n",
       "      <td>Unknown</td>\n",
       "      <td>Unknown</td>\n",
       "    </tr>\n",
       "    <tr>\n",
       "      <th>270</th>\n",
       "      <td>1003374119710324</td>\n",
       "      <td>Line Tale 2</td>\n",
       "      <td>6042354718738</td>\n",
       "      <td>2016-04-22</td>\n",
       "      <td>1688.81</td>\n",
       "      <td>780.0</td>\n",
       "      <td>LINK_CLICKS</td>\n",
       "      <td>Unknown</td>\n",
       "      <td>Unknown</td>\n",
       "    </tr>\n",
       "  </tbody>\n",
       "</table>\n",
       "</div>"
      ],
      "text/plain": [
       "            account_id         name    campaign_id  date_start    spend  \\\n",
       "1256  1003374119710324  Line Tale 2  6042354718738  2016-04-18   266.96   \n",
       "22    1003374119710324  Line Tale 2  6042354718738  2016-04-19  2756.24   \n",
       "60    1003374119710324  Line Tale 2  6042354718738  2016-04-20  2136.41   \n",
       "825   1003374119710324  Line Tale 2  6042354718738  2016-04-21  1904.17   \n",
       "270   1003374119710324  Line Tale 2  6042354718738  2016-04-22  1688.81   \n",
       "\n",
       "      link_clicks    objective vertical vertical2  \n",
       "1256         52.0  LINK_CLICKS  Unknown   Unknown  \n",
       "22          607.0  LINK_CLICKS  Unknown   Unknown  \n",
       "60          625.0  LINK_CLICKS  Unknown   Unknown  \n",
       "825         778.0  LINK_CLICKS  Unknown   Unknown  \n",
       "270         780.0  LINK_CLICKS  Unknown   Unknown  "
      ]
     },
     "execution_count": 51,
     "metadata": {},
     "output_type": "execute_result"
    }
   ],
   "source": [
    "fb_link_df.head()"
   ]
  },
  {
   "cell_type": "code",
   "execution_count": 52,
   "metadata": {
    "collapsed": false
   },
   "outputs": [
    {
     "data": {
      "text/plain": [
       "Unknown             3536\n",
       "Internet Company    1201\n",
       "Travel              1043\n",
       "Health Care          449\n",
       "Retail               249\n",
       "Pregnancy             54\n",
       "Entertainment         52\n",
       "Non-Profit            25\n",
       "Automotive            23\n",
       "QSR                   17\n",
       "Technology            10\n",
       "Public Health          6\n",
       "Advertising            3\n",
       "Name: vertical, dtype: int64"
      ]
     },
     "execution_count": 52,
     "metadata": {},
     "output_type": "execute_result"
    }
   ],
   "source": [
    "fb_link_df.vertical.value_counts()"
   ]
  },
  {
   "cell_type": "code",
   "execution_count": 53,
   "metadata": {
    "collapsed": true
   },
   "outputs": [],
   "source": [
    "fb_Internet_df = fb_link_df[fb_link_df.vertical == \"Internet Company\"]\n",
    "fb_Travel_df = fb_link_df[fb_link_df.vertical == \"Travel\"]\n",
    "fb_Health_df = fb_link_df[fb_link_df.vertical == \"Health Care\"]\n",
    "fb_Retail_df = fb_link_df[fb_link_df.vertical == \"Retail\"]\n",
    "fb_Entertainment_df = fb_link_df[fb_link_df.vertical == \"Entertainment\"]\n",
    "fb_Auto_df = fb_link_df[fb_link_df.vertical == \"Automotive\"]\n",
    "fb_QSR_df = fb_link_df[fb_link_df.vertical == \"QSR\"]\n",
    "fb_Tech_df = fb_link_df[fb_link_df.vertical == \"Technology\"]"
   ]
  },
  {
   "cell_type": "code",
   "execution_count": 54,
   "metadata": {
    "collapsed": false
   },
   "outputs": [
    {
     "data": {
      "text/plain": [
       "<matplotlib.legend.Legend at 0x1254349d0>"
      ]
     },
     "execution_count": 54,
     "metadata": {},
     "output_type": "execute_result"
    },
    {
     "data": {
      "image/png": "[encoded data removed]",
      "text/plain": [
       "<matplotlib.figure.Figure at 0x1247ef210>"
      ]
     },
     "metadata": {},
     "output_type": "display_data"
    }
   ],
   "source": [
    "plt.figure(figsize=(8,6))\n",
    "plt.plot(np.log(fb_Internet_df.link_clicks),np.log(fb_Internet_df.spend), '.')\n",
    "plt.plot(np.log(fb_Travel_df.link_clicks),np.log(fb_Travel_df.spend), 'r.')\n",
    "plt.plot(np.log(fb_Health_df.link_clicks),np.log(fb_Health_df.spend), 'g.')\n",
    "plt.plot(np.log(fb_Retail_df.link_clicks),np.log(fb_Retail_df.spend), 'm.')\n",
    "plt.plot(np.log(fb_Entertainment_df.link_clicks),np.log(fb_Entertainment_df.spend), 'y.')\n",
    "plt.plot(np.log(fb_Auto_df.link_clicks),np.log(fb_Auto_df.spend), 'k.')\n",
    "plt.plot(np.log(fb_QSR_df.link_clicks),np.log(fb_QSR_df.spend), 'c.')\n",
    "#plt.plot(np.log(fb_Tech_df.link_clicks),np.log(fb_Tech_df.spend), 'r.')\n",
    "#plt.plot(X0.log_spend, linreg.predict(X0), '-')\n",
    "\n",
    "plt.xlabel('log(spend)')\n",
    "plt.ylabel('log(clicks)')\n",
    "plt.axis([-2, 10, 0, 10])\n",
    "plt.legend(['Internet','Travel','Health','Retail','Entertainment','Auto','QSR'],loc='best')"
   ]
  },
  {
   "cell_type": "code",
   "execution_count": 55,
   "metadata": {
    "collapsed": false
   },
   "outputs": [
    {
     "name": "stdout",
     "output_type": "stream",
     "text": [
      "<class 'pandas.core.frame.DataFrame'>\n",
      "Int64Index: 6668 entries, 1256 to 4319\n",
      "Data columns (total 9 columns):\n",
      "account_id     6668 non-null object\n",
      "name           6668 non-null object\n",
      "campaign_id    6668 non-null object\n",
      "date_start     6668 non-null object\n",
      "spend          6668 non-null float64\n",
      "link_clicks    6668 non-null float64\n",
      "objective      6668 non-null object\n",
      "vertical       6668 non-null object\n",
      "vertical2      6668 non-null object\n",
      "dtypes: float64(2), object(7)\n",
      "memory usage: 520.9+ KB\n"
     ]
    }
   ],
   "source": [
    "fb_link_df.info()"
   ]
  },
  {
   "cell_type": "markdown",
   "metadata": {},
   "source": [
    "### Add in time features"
   ]
  },
  {
   "cell_type": "code",
   "execution_count": 56,
   "metadata": {
    "collapsed": false
   },
   "outputs": [],
   "source": [
    "temp = [datetime.strptime(x,\"%Y-%m-%d\") for x in fb_link_df.date_start]\n",
    "fb_link_df.loc[fb_link_df.index,'date_start'] = temp"
   ]
  },
  {
   "cell_type": "code",
   "execution_count": 57,
   "metadata": {
    "collapsed": false
   },
   "outputs": [],
   "source": [
    "month =[ x.date().month for x in fb_link_df.date_start]\n",
    "fb_link_df.loc[fb_link_df.index,'month'] = month"
   ]
  },
  {
   "cell_type": "code",
   "execution_count": 58,
   "metadata": {
    "collapsed": true
   },
   "outputs": [],
   "source": [
    "Month_dict = { 1: 'Jan', 2: 'Feb', 3: 'Mar', 4: 'Apr', 5:'May', 6:'Jun', 7: 'Jul', 8: 'Aug', 9:'Sep', 10:'Oct', 11:'Nov',12: 'Dec'}"
   ]
  },
  {
   "cell_type": "code",
   "execution_count": 59,
   "metadata": {
    "collapsed": false
   },
   "outputs": [],
   "source": [
    "fb_link_df['month'] = fb_link_df['month'].map(Month_dict)"
   ]
  },
  {
   "cell_type": "code",
   "execution_count": 60,
   "metadata": {
    "collapsed": false
   },
   "outputs": [
    {
     "data": {
      "text/plain": [
       "Oct    2863\n",
       "Nov    1747\n",
       "Sep    1231\n",
       "Dec     771\n",
       "Jun      26\n",
       "Jul      15\n",
       "Apr       8\n",
       "May       7\n",
       "Name: month, dtype: int64"
      ]
     },
     "execution_count": 60,
     "metadata": {},
     "output_type": "execute_result"
    }
   ],
   "source": [
    "fb_link_df.month.value_counts()"
   ]
  },
  {
   "cell_type": "code",
   "execution_count": 61,
   "metadata": {
    "collapsed": false
   },
   "outputs": [],
   "source": [
    "fb_Apr_May_df = fb_link_df[(fb_link_df.month == \"Apr\") | (fb_link_df.month == \"May\") ]\n",
    "fb_Jun_Jul_df = fb_link_df[(fb_link_df.month == \"Jun\") | (fb_link_df.month == \"Jul\") ]\n",
    "fb_Sep_df = fb_link_df[(fb_link_df.month == \"Sep\")]\n",
    "fb_Oct_df = fb_link_df[(fb_link_df.month == \"Oct\")]\n",
    "fb_Nov_df = fb_link_df[(fb_link_df.month == \"Nov\")]\n",
    "fb_Dec_df = fb_link_df[(fb_link_df.month == \"Dec\")]"
   ]
  },
  {
   "cell_type": "code",
   "execution_count": 62,
   "metadata": {
    "collapsed": false
   },
   "outputs": [
    {
     "data": {
      "text/plain": [
       "<matplotlib.legend.Legend at 0x125f78890>"
      ]
     },
     "execution_count": 62,
     "metadata": {},
     "output_type": "execute_result"
    },
    {
     "data": {
      "image/png": "[encoded data removed]",
      "text/plain": [
       "<matplotlib.figure.Figure at 0x125e36f10>"
      ]
     },
     "metadata": {},
     "output_type": "display_data"
    }
   ],
   "source": [
    "plt.figure(figsize=(8,6))\n",
    "plt.plot(np.log(fb_Apr_May_df.link_clicks),np.log(fb_Apr_May_df.spend), 'k.')\n",
    "plt.plot(np.log(fb_Jun_Jul_df.link_clicks),np.log(fb_Jun_Jul_df.spend), 'y.')\n",
    "plt.plot(np.log(fb_Sep_df.link_clicks),np.log(fb_Sep_df.spend), 'g.')\n",
    "plt.plot(np.log(fb_Oct_df.link_clicks),np.log(fb_Oct_df.spend), 'm.')\n",
    "plt.plot(np.log(fb_Nov_df.link_clicks),np.log(fb_Nov_df.spend), '.')\n",
    "plt.plot(np.log(fb_Dec_df.link_clicks),np.log(fb_Dec_df.spend), 'r.')\n",
    "\n",
    "plt.xlabel('log(spend)')\n",
    "plt.ylabel('log(clicks)')\n",
    "plt.axis([-2, 10, 0, 10])\n",
    "plt.legend(['Apr-May','Jun-Jul','Sep','Oct','Nov','Dec'],loc='best')"
   ]
  },
  {
   "cell_type": "code",
   "execution_count": null,
   "metadata": {
    "collapsed": true
   },
   "outputs": [],
   "source": []
  }
 ],
 "metadata": {
  "anaconda-cloud": {},
  "kernelspec": {
   "display_name": "Python [Root]",
   "language": "python",
   "name": "Python [Root]"
  },
  "language_info": {
   "codemirror_mode": {
    "name": "ipython",
    "version": 2
   },
   "file_extension": ".py",
   "mimetype": "text/x-python",
   "name": "python",
   "nbconvert_exporter": "python",
   "pygments_lexer": "ipython2",
   "version": "2.7.12"
  }
 },
 "nbformat": 4,
 "nbformat_minor": 0
}
